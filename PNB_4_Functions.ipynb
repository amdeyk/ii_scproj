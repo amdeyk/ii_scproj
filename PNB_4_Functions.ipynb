{
  "nbformat": 4,
  "nbformat_minor": 0,
  "metadata": {
    "colab": {
      "provenance": [],
      "include_colab_link": true
    },
    "kernelspec": {
      "name": "python3",
      "display_name": "Python 3"
    }
  },
  "cells": [
    {
      "cell_type": "markdown",
      "metadata": {
        "id": "view-in-github",
        "colab_type": "text"
      },
      "source": [
        "<a href=\"https://colab.research.google.com/github/amdeyk/ii_scproj/blob/main/PNB_4_Functions.ipynb\" target=\"_parent\"><img src=\"https://colab.research.google.com/assets/colab-badge.svg\" alt=\"Open In Colab\"/></a>"
      ]
    },
    {
      "cell_type": "markdown",
      "source": [
        "## Practice Notebook\n",
        "\n",
        "\n"
      ],
      "metadata": {
        "id": "z3HaSE94quKx"
      }
    },
    {
      "cell_type": "markdown",
      "source": [
        "#### Manually Created Functions\n",
        "Functions are very easy to write in python and all non-trivial programs have functions. Function names have the same rules as variable names.\n",
        "\n",
        "#### Built in Functions\n",
        "Python comes with a nice set of built-in functions\n",
        "The complete set can be seen at:https://docs.python.org/3.6/library/functions.html\n",
        "\n",
        "We take a look at the most used ones here. "
      ],
      "metadata": {
        "id": "cjtwSnDTNwpI"
      }
    },
    {
      "cell_type": "markdown",
      "source": [
        "## Manually Created Functions"
      ],
      "metadata": {
        "id": "icKsHSwnULhw"
      }
    },
    {
      "cell_type": "markdown",
      "metadata": {
        "id": "gRs6bMS-YUgN"
      },
      "source": [
        "#### Exercise 01: Build a function that takes the below string as a parameter and returns the words in the given string in backward order.\n",
        "\n",
        "Hint: [Split the words and join them in the reverse order using ' '.join(iterable)](https://docs.python.org/3/library/stdtypes.html)"
      ]
    },
    {
      "cell_type": "code",
      "metadata": {
        "id": "7zS2WRHBYUgR"
      },
      "source": [
        "string1 = \"my name is johnny\""
      ],
      "execution_count": null,
      "outputs": []
    },
    {
      "cell_type": "code",
      "metadata": {
        "id": "8YbeeR45dDAJ",
        "colab": {
          "base_uri": "https://localhost:8080/"
        },
        "outputId": "74cad6e8-11a8-4bad-9d02-82b93bfa3a6b"
      },
      "source": [
        "def  reverse_string(string_orig):\n",
        "  final_item = \"\"\n",
        "  for iterate_item in range(len(string_orig)-1,-1,-1):\n",
        "    final_item = final_item + string_orig[iterate_item]\n",
        "  return final_item\n",
        "\n",
        "string_orig = 'Hello For Reverse'\n",
        "print('The reverse of the string  >> ',string_orig, ' <<<< is >>>> ', reverse_string(string_orig))"
      ],
      "execution_count": 6,
      "outputs": [
        {
          "output_type": "stream",
          "name": "stdout",
          "text": [
            "The reverse of the string  >>  Hello For Reverse  <<<< is >>>>  esreveR roF olleH\n"
          ]
        }
      ]
    },
    {
      "cell_type": "markdown",
      "metadata": {
        "id": "QmjnX-rNkxxe"
      },
      "source": [
        "#### Exercise 02: For the given tuple of numbers, do the following:\n",
        "* Write a function which takes an integer 'N' as a parameter and returns the sum of multiples of 3 or 5 between 0 and N (limit). Where N is any element from the given tuple.\n",
        "* Print all the sum of multiples for each element from the tuple.\n",
        "* Example: If we list all the natural numbers less than 10 that are multiples of 3 or 5, we get 3, 5, 6, and 9 and their sum is 23"
      ]
    },
    {
      "cell_type": "code",
      "metadata": {
        "id": "8aEXBfFAlXhD"
      },
      "source": [
        "tuple2 = (10, 20, 30, 40, 50)"
      ],
      "execution_count": null,
      "outputs": []
    },
    {
      "cell_type": "code",
      "metadata": {
        "id": "GpyN1zSKRS-_",
        "colab": {
          "base_uri": "https://localhost:8080/"
        },
        "outputId": "c64990f8-be69-4e86-caec-90616fd62707"
      },
      "source": [
        "def multiplier(N):\n",
        "  if N < 3 :\n",
        "    return 0\n",
        "  sum_of = 0\n",
        "  for iterator_mul in range(N):\n",
        "    if iterator_mul%3 ==0:\n",
        "      sum_of = sum_of + iterator_mul\n",
        "    elif iterator_mul%5 ==0:\n",
        "      sum_of = sum_of + iterator_mul\n",
        "  return sum_of\n",
        "\n",
        "tuple2 = (10,20,30, 40, 50)\n",
        "N = 3\n",
        "print('The sum of  the multples of 3 and 5 present in the Tuple Value of ', tuple2[N],' is == > ', multiplier(tuple2[N]) )\n"
      ],
      "execution_count": 12,
      "outputs": [
        {
          "output_type": "stream",
          "name": "stdout",
          "text": [
            "The sum of  the multples of 3 and 5 present in the Tuple Value of  40  is == >  368\n"
          ]
        }
      ]
    },
    {
      "cell_type": "markdown",
      "metadata": {
        "id": "Eush4rnY_Gy2"
      },
      "source": [
        "#### Exercise 03: Build a function to print prime numbers within the given range."
      ]
    },
    {
      "cell_type": "code",
      "metadata": {
        "id": "XOWLvObDvVNQ",
        "colab": {
          "base_uri": "https://localhost:8080/"
        },
        "outputId": "40c7409b-6b9c-4fe1-be7b-adc137645ec9"
      },
      "source": [
        "limit = 121\n",
        "limit_start = 77\n",
        "def prime_number_print(limit_start, limit):\n",
        "  for prime_iter in range(limit_start,limit):\n",
        "    prime_check = 0\n",
        "    for prime_iter_inside in range(1,prime_iter):\n",
        "      if prime_iter%prime_iter_inside == 0:\n",
        "        pass\n",
        "      else : \n",
        "        prime_check += 1\n",
        "    if prime_check+2 == prime_iter :\n",
        "      print(prime_iter, ' is a prime number')\n",
        "  return\n",
        "\n",
        "prime_number_print(limit_start, limit)\n"
      ],
      "execution_count": 25,
      "outputs": [
        {
          "output_type": "stream",
          "name": "stdout",
          "text": [
            "79  is a prime number\n",
            "83  is a prime number\n",
            "89  is a prime number\n",
            "97  is a prime number\n",
            "101  is a prime number\n",
            "103  is a prime number\n",
            "107  is a prime number\n",
            "109  is a prime number\n",
            "113  is a prime number\n"
          ]
        }
      ]
    },
    {
      "cell_type": "markdown",
      "metadata": {
        "id": "JoecaqnzRahf"
      },
      "source": [
        "#### Exercise 4: Rock Paper Scissors: Complete the function below that takes the given input word as a parameter and selects a random element from the words list. It then prints the random word within the function and returns a string, declaring 'win' or 'lose' or 'tie'.\n",
        "\n",
        "Example: Random input= 'Scissors', User input= Paper, Output = 'lose'\n",
        "\n",
        "Hint: [random.choice](https://docs.python.org/3/library/random.html)"
      ]
    },
    {
      "cell_type": "code",
      "metadata": {
        "id": "-hXoV_CdR9Os",
        "colab": {
          "base_uri": "https://localhost:8080/"
        },
        "outputId": "61000e41-d834-4d8b-9c40-e31104fa8d88"
      },
      "source": [
        "import random\n",
        "input  = 'Paper'\n",
        "\n",
        "def game(input):\n",
        "  ## Complete the function\n",
        "  words = ['Rock','Paper','Scissors']\n",
        "  random_choice_selection = random.choice(words)\n",
        "  if input == random_choice_selection:\n",
        "    status_t = 'Tie'\n",
        "  elif input=='Rock' and random_choice_selection == 'Paper':\n",
        "    status_t = 'lose'\n",
        "  elif input=='Paper' and random_choice_selection == 'Scissors':\n",
        "    status_t = 'lose'\n",
        "  elif input=='Scissors' and random_choice_selection == 'Rock':\n",
        "    status_t = 'lose'\n",
        "  else :\n",
        "    status_t = 'Win'\n",
        "  \n",
        "  print('Random input= ', random_choice_selection,' User input= ', input, ' Output = ', status_t )\n",
        "  return\n",
        "\n",
        "game(input)"
      ],
      "execution_count": 32,
      "outputs": [
        {
          "output_type": "stream",
          "name": "stdout",
          "text": [
            "Random input=  Paper  User input=  Paper  Output =  Tie\n"
          ]
        }
      ]
    },
    {
      "cell_type": "markdown",
      "source": [
        "## Built-in Functions"
      ],
      "metadata": {
        "id": "zGN4_CEaUHs4"
      }
    },
    {
      "cell_type": "markdown",
      "source": [
        "#### Exercise 05: Extract maximum value of each element in the given list using the built-in max function.\n",
        "\n",
        "\n",
        "\n",
        "Hint: [max(iterable)](https://docs.python.org/3/library/functions.html#max)"
      ],
      "metadata": {
        "id": "tQOfYzymO4ek"
      }
    },
    {
      "cell_type": "code",
      "source": [
        "list1 = [[1,2,4],[5,6],[8,9,12],[21,44],[121]]"
      ],
      "metadata": {
        "id": "mP0ba14iO7JT"
      },
      "execution_count": null,
      "outputs": []
    },
    {
      "cell_type": "code",
      "source": [
        "list1 = [[1,2,4],[5,6],[8,9,12],[21,44],[121]]\n",
        "\n",
        "def max_in_list(list1):\n",
        "  for list_iter in list1:\n",
        "    print('The Max Value present in the List ', list_iter, '  is  ', max(list_iter))\n",
        "  return\n",
        "\n",
        "max_in_list(list1)"
      ],
      "metadata": {
        "id": "Vj3mGI5bO_Pq",
        "colab": {
          "base_uri": "https://localhost:8080/"
        },
        "outputId": "3ada8c8a-ce0f-44c6-b958-2c8241b99b1d"
      },
      "execution_count": 34,
      "outputs": [
        {
          "output_type": "stream",
          "name": "stdout",
          "text": [
            "The Max Value present in the List  [1, 2, 4]   is   4\n",
            "The Max Value present in the List  [5, 6]   is   6\n",
            "The Max Value present in the List  [8, 9, 12]   is   12\n",
            "The Max Value present in the List  [21, 44]   is   44\n",
            "The Max Value present in the List  [121]   is   121\n"
          ]
        }
      ]
    },
    {
      "cell_type": "markdown",
      "source": [
        "#### Exercise 06: For given list *a* and *b* perform the following Aggregate Functions\n",
        "* len(iterable)\n",
        "* max(iterable)\n",
        "* min(iterable)\n",
        "* sorted(iterable, key, reverse)\n",
        "* sum(iterable, start)"
      ],
      "metadata": {
        "id": "NsrffgW5PFvL"
      }
    },
    {
      "cell_type": "code",
      "source": [
        "a = [1, 2, 3, 4, 5, 6, 7, 8, 9, 10]\n",
        "b = [5,10, 15, 20, 25, 30, 35, 40, 45, 50]\n",
        "\n",
        "print('Lenght of a is ', len(a), ' and b is ', len(b))\n",
        "print('Max of a is ', max(a), ' and b is ', max(b))\n",
        "print('Min of a is ', min(a), ' and b is ', min(b))\n",
        "print('Sorted list a is ', sorted(a), ' and b is ', sorted(b))\n",
        "print('Sum of a is ', sum(a), ' and b is ', sum(b))"
      ],
      "metadata": {
        "id": "liPmIx_mPWVM",
        "colab": {
          "base_uri": "https://localhost:8080/"
        },
        "outputId": "cecb1c91-8e07-491b-db46-11efd77d8a0f"
      },
      "execution_count": 37,
      "outputs": [
        {
          "output_type": "stream",
          "name": "stdout",
          "text": [
            "Lenght of a is  10  and b is  10\n",
            "Max of a is  10  and b is  50\n",
            "Min of a is  1  and b is  5\n",
            "Sorted list a is  [1, 2, 3, 4, 5, 6, 7, 8, 9, 10]  and b is  [5, 10, 15, 20, 25, 30, 35, 40, 45, 50]\n",
            "Sum of a is  55  and b is  275\n"
          ]
        }
      ]
    },
    {
      "cell_type": "code",
      "source": [
        "# YOUR CODE HERE"
      ],
      "metadata": {
        "id": "_8E9DUwqPeTB"
      },
      "execution_count": null,
      "outputs": []
    },
    {
      "cell_type": "markdown",
      "source": [
        "#### Exercise 07: Print the data type of x, y and z  values "
      ],
      "metadata": {
        "id": "yerVE_tzVG39"
      }
    },
    {
      "cell_type": "code",
      "source": [
        "x = 10\n",
        "# YOUR CODE HERE\n",
        "print('The Datatype of x is ', type(x))\n",
        "y = 12.6\n",
        "# YOUR CODE HERE\n",
        "print('The Datatype of y is ', type(y))\n",
        "z = x + y  \n",
        "# YOUR CODE HERE\n",
        "print('The Datatype of z is ', type(z))"
      ],
      "metadata": {
        "id": "xeR5yEdnPphw",
        "colab": {
          "base_uri": "https://localhost:8080/"
        },
        "outputId": "eb306556-0d2d-4a8c-ced9-c6df943ffead"
      },
      "execution_count": 39,
      "outputs": [
        {
          "output_type": "stream",
          "name": "stdout",
          "text": [
            "The Datatype of x is  <class 'int'>\n",
            "The Datatype of y is  <class 'float'>\n",
            "The Datatype of z is  <class 'float'>\n"
          ]
        }
      ]
    },
    {
      "cell_type": "markdown",
      "source": [
        "Exercise 08:  Initialize the string and perform the following:\n",
        "\n",
        "1. Check the type of string\n",
        "2. convert string to int and check the type"
      ],
      "metadata": {
        "id": "SaPsPE9Idbqn"
      }
    },
    {
      "cell_type": "code",
      "source": [
        "a = '1234'\n",
        "# YOUR CODE HERE"
      ],
      "metadata": {
        "id": "NRBsQnHMVas6"
      },
      "execution_count": null,
      "outputs": []
    },
    {
      "cell_type": "code",
      "source": [
        "a = '1234'\n",
        "print('The Datatype of a is ', type(a))\n",
        "a = int(a)\n",
        "print('The Datatype of a is ', type(a))"
      ],
      "metadata": {
        "id": "9RUhtfSngtQx",
        "colab": {
          "base_uri": "https://localhost:8080/"
        },
        "outputId": "0537b9bc-7ff2-45f3-ad21-8a395fb3d3ae"
      },
      "execution_count": 41,
      "outputs": [
        {
          "output_type": "stream",
          "name": "stdout",
          "text": [
            "The Datatype of a is  <class 'str'>\n",
            "The Datatype of a is  <class 'int'>\n"
          ]
        }
      ]
    }
  ]
}