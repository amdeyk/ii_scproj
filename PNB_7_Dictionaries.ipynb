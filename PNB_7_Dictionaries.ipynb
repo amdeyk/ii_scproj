{
  "nbformat": 4,
  "nbformat_minor": 0,
  "metadata": {
    "colab": {
      "provenance": [],
      "include_colab_link": true
    },
    "kernelspec": {
      "name": "python3",
      "display_name": "Python 3"
    },
    "language_info": {
      "name": "python"
    }
  },
  "cells": [
    {
      "cell_type": "markdown",
      "metadata": {
        "id": "view-in-github",
        "colab_type": "text"
      },
      "source": [
        "<a href=\"https://colab.research.google.com/github/amdeyk/ii_scproj/blob/main/PNB_7_Dictionaries.ipynb\" target=\"_parent\"><img src=\"https://colab.research.google.com/assets/colab-badge.svg\" alt=\"Open In Colab\"/></a>"
      ]
    },
    {
      "cell_type": "markdown",
      "source": [
        "## Practice Notebook"
      ],
      "metadata": {
        "id": "xT7BS95x1w-9"
      }
    },
    {
      "cell_type": "markdown",
      "source": [
        "Dictionary is a composite datatype in the Python programming language. In a way, it is similar to lists. Lists are a collection of elements. Dictionaries are a collection of key, value pairs. Solutions to many programming problems can be easy and more concise with dictionaries. Here we explain all the important methods in the dictionary and some problem-solving with examples.\n",
        "\n",
        "Click [here](https://docs.python.org/3/library/stdtypes.html#mapping-types-dict) to go through official documentation on `dictionaries`."
      ],
      "metadata": {
        "id": "22fQfO2n3R4Z"
      }
    },
    {
      "cell_type": "markdown",
      "source": [
        "#### Exercise 1: \n",
        "From The dictionary created below, do the following:\n",
        "\n",
        "* Return a list of all the keys, using `list()` or `.keys()`.\n",
        "\n",
        "* Return the values of the dictionary using `.values()`.\n",
        "\n"
      ],
      "metadata": {
        "id": "J093ur414qXD"
      }
    },
    {
      "cell_type": "code",
      "execution_count": 47,
      "metadata": {
        "id": "2YqKC6m61rqZ"
      },
      "outputs": [],
      "source": [
        "dict1 = {\"Delhi\" : \"New Delhi\", \"Uttar Pradesh\" : \"Lucknow\",\"Madhya Pradesh\" : \"Bhopal\",\"Karnataka\" : \"Bengaluru\",\"Assam\" : \"Dispur\",\"Gujarat\" : \"Gandhinagar\"}"
      ]
    },
    {
      "cell_type": "code",
      "source": [
        "print('The keys of Dictionary as given is :', dict1.keys())\n",
        "print('The Values of the Dictionary as given is : ', dict1.values())"
      ],
      "metadata": {
        "id": "x9NwmHSE9tXz",
        "colab": {
          "base_uri": "https://localhost:8080/"
        },
        "outputId": "ea2ac5f8-c2ba-4e82-9e2e-ce118cce643f"
      },
      "execution_count": 48,
      "outputs": [
        {
          "output_type": "stream",
          "name": "stdout",
          "text": [
            "The keys of Dictionary as given is : dict_keys(['Delhi', 'Uttar Pradesh', 'Madhya Pradesh', 'Karnataka', 'Assam', 'Gujarat'])\n",
            "The Values of the Dictionary as given is :  dict_values(['New Delhi', 'Lucknow', 'Bhopal', 'Bengaluru', 'Dispur', 'Gandhinagar'])\n"
          ]
        }
      ]
    },
    {
      "cell_type": "code",
      "source": [
        "# YOUR CODE HERE"
      ],
      "metadata": {
        "id": "K6JM6mps9zGR"
      },
      "execution_count": null,
      "outputs": []
    },
    {
      "cell_type": "markdown",
      "source": [
        "#### Exercise 2: \n",
        "From the dictionary created in Exercise 1-\n",
        "\n",
        "* Display the capital of Karnataka by retrieving the corresponding value for the key."
      ],
      "metadata": {
        "id": "-g9lEVYr7QNt"
      }
    },
    {
      "cell_type": "code",
      "source": [
        "print('The Capital of Karnataka with key value is ', dict1['Karnataka'])\n",
        "print('And the state of Bangalore with Value is ', [state for state, capital in dict1.items() if capital =='Bengaluru'][0])"
      ],
      "metadata": {
        "id": "7ZCZO0ms7ILp",
        "colab": {
          "base_uri": "https://localhost:8080/"
        },
        "outputId": "d8fd31c6-d8cc-4184-fabf-d7a99952d5cc"
      },
      "execution_count": 37,
      "outputs": [
        {
          "output_type": "stream",
          "name": "stdout",
          "text": [
            "The Capital of Karnataka with key value is  Bengaluru\n",
            "And the state of Bangalore with Value is  Karnataka\n"
          ]
        }
      ]
    },
    {
      "cell_type": "code",
      "source": [
        "type([state for state, capital in dict1.items() if capital =='Bengaluru'])"
      ],
      "metadata": {
        "colab": {
          "base_uri": "https://localhost:8080/"
        },
        "id": "zmntSorM1PhG",
        "outputId": "357f8f58-8add-4ac4-a96d-80d015407e8e"
      },
      "execution_count": 38,
      "outputs": [
        {
          "output_type": "execute_result",
          "data": {
            "text/plain": [
              "list"
            ]
          },
          "metadata": {},
          "execution_count": 38
        }
      ]
    },
    {
      "cell_type": "code",
      "source": [],
      "metadata": {
        "id": "PvUaTdhe1D03"
      },
      "execution_count": null,
      "outputs": []
    },
    {
      "cell_type": "code",
      "source": [],
      "metadata": {
        "id": "TunLezjc0vgE"
      },
      "execution_count": null,
      "outputs": []
    },
    {
      "cell_type": "code",
      "source": [],
      "metadata": {
        "id": "-V7hoCfz0mfH"
      },
      "execution_count": null,
      "outputs": []
    },
    {
      "cell_type": "code",
      "source": [],
      "metadata": {
        "id": "UR7HKNaX0jlx"
      },
      "execution_count": null,
      "outputs": []
    },
    {
      "cell_type": "markdown",
      "source": [
        "#### Exercise 3:\n",
        "\n",
        "Add (and print) a new element in the dictionary."
      ],
      "metadata": {
        "id": "HUJg6Y_w8K1c"
      }
    },
    {
      "cell_type": "code",
      "source": [
        "dict1.update({'West Bengal':'Kolkata'})"
      ],
      "metadata": {
        "id": "kDeZ642qgy8_"
      },
      "execution_count": 20,
      "outputs": []
    },
    {
      "cell_type": "code",
      "source": [
        "print('The New Dict 1 is ', dict1.items())"
      ],
      "metadata": {
        "colab": {
          "base_uri": "https://localhost:8080/"
        },
        "id": "Ymt8be9S3OKF",
        "outputId": "b711207b-d3f2-4531-9755-bfaf5ad9b7cb"
      },
      "execution_count": 39,
      "outputs": [
        {
          "output_type": "stream",
          "name": "stdout",
          "text": [
            "The New Dict 1 is  dict_items([('Delhi', 'New Delhi'), ('Uttar Pradesh', 'Lucknow'), ('Madhya Pradesh', 'Bhopal'), ('Karnataka', 'Bengaluru'), ('Assam', 'Dispur'), ('Gujarat', 'Gandhinagar')])\n"
          ]
        }
      ]
    },
    {
      "cell_type": "markdown",
      "source": [
        "####Exercise 4:\n",
        "\n",
        "- Return the length of the dictionary using `len()`.\n"
      ],
      "metadata": {
        "id": "7lf9Hxs9CFFc"
      }
    },
    {
      "cell_type": "code",
      "source": [
        "len(dict1)"
      ],
      "metadata": {
        "id": "duut09pZB9F9",
        "colab": {
          "base_uri": "https://localhost:8080/"
        },
        "outputId": "a1862199-8967-4bd3-c368-1a1875721b81"
      },
      "execution_count": 26,
      "outputs": [
        {
          "output_type": "execute_result",
          "data": {
            "text/plain": [
              "7"
            ]
          },
          "metadata": {},
          "execution_count": 26
        }
      ]
    },
    {
      "cell_type": "markdown",
      "source": [
        "####Exercise 5:\n",
        "\n",
        "* Remove a key value pair from the dictionary.\n",
        "* Add the same key value pair again in the `dictionary`.\n",
        "* Display all the key-value pairs using `items()`."
      ],
      "metadata": {
        "id": "P-r0gerfEFyi"
      }
    },
    {
      "cell_type": "code",
      "source": [
        "print('The Dictionary before removing the element is ', dict1)"
      ],
      "metadata": {
        "id": "5JdipHYYIrzG",
        "colab": {
          "base_uri": "https://localhost:8080/"
        },
        "outputId": "48408517-df7a-4a5d-9bca-da03408b33c1"
      },
      "execution_count": 42,
      "outputs": [
        {
          "output_type": "stream",
          "name": "stdout",
          "text": [
            "The Dictionary before removing the element is  {'Delhi': 'New Delhi', 'Uttar Pradesh': 'Lucknow', 'Madhya Pradesh': 'Bhopal', 'Karnataka': 'Bengaluru', 'Assam': 'Dispur', 'Gujarat': 'Gandhinagar'}\n"
          ]
        }
      ]
    },
    {
      "cell_type": "code",
      "source": [
        "remove_key = input('Type the Name of State to remove from the List')\n",
        "new_dict = {capital: state for capital, state in dict1.items() if capital != remove_key} #using Dict Comprehension\n",
        "remove_value = dict1.pop(remove_key)"
      ],
      "metadata": {
        "id": "Z1rzWNkkEe1U",
        "colab": {
          "base_uri": "https://localhost:8080/"
        },
        "outputId": "6be3bed0-87b8-47ba-f63d-f07e0830a77c"
      },
      "execution_count": 49,
      "outputs": [
        {
          "name": "stdout",
          "output_type": "stream",
          "text": [
            "Type the Name of State to remove from the ListAssam\n"
          ]
        }
      ]
    },
    {
      "cell_type": "code",
      "source": [
        "print('the Reduced Dictionary is ', new_dict)"
      ],
      "metadata": {
        "id": "jtQVrlnzDI5Z",
        "colab": {
          "base_uri": "https://localhost:8080/"
        },
        "outputId": "e9604f02-e00c-4124-88ff-375b32696661"
      },
      "execution_count": 50,
      "outputs": [
        {
          "output_type": "stream",
          "name": "stdout",
          "text": [
            "the Reduced Dictionary is  {'Delhi': 'New Delhi', 'Uttar Pradesh': 'Lucknow', 'Madhya Pradesh': 'Bhopal', 'Karnataka': 'Bengaluru', 'Gujarat': 'Gandhinagar'}\n"
          ]
        }
      ]
    },
    {
      "cell_type": "code",
      "source": [
        "print('the Removed item was ', remove_value)"
      ],
      "metadata": {
        "id": "VM6oA8j6DaVF",
        "colab": {
          "base_uri": "https://localhost:8080/"
        },
        "outputId": "3d6ce5e1-6374-4638-decf-3fa268e3592a"
      },
      "execution_count": 52,
      "outputs": [
        {
          "output_type": "stream",
          "name": "stdout",
          "text": [
            "the Removed item was  Dispur\n"
          ]
        }
      ]
    },
    {
      "cell_type": "code",
      "source": [],
      "metadata": {
        "id": "GEn_mIae5Cbu"
      },
      "execution_count": null,
      "outputs": []
    },
    {
      "cell_type": "code",
      "source": [
        "dict1.update({remove_key : remove_value})\n",
        "print('the updated dict is  ', dict1)"
      ],
      "metadata": {
        "id": "r33SZ8yyFE69",
        "colab": {
          "base_uri": "https://localhost:8080/"
        },
        "outputId": "6447bbda-7ab6-46c9-abe5-37552fc614cd"
      },
      "execution_count": 55,
      "outputs": [
        {
          "output_type": "stream",
          "name": "stdout",
          "text": [
            "the updated dict is   {'Delhi': 'New Delhi', 'Uttar Pradesh': 'Lucknow', 'Madhya Pradesh': 'Bhopal', 'Karnataka': 'Bengaluru', 'Gujarat': 'Gandhinagar', 'Assam': 'Dispur'}\n"
          ]
        }
      ]
    },
    {
      "cell_type": "code",
      "source": [
        "# YOUR CODE HERE"
      ],
      "metadata": {
        "id": "60BUPAdHFSSj"
      },
      "execution_count": null,
      "outputs": []
    },
    {
      "cell_type": "markdown",
      "source": [
        "#### Exercise 6:\n",
        "\n",
        "Iterate over the keys of the dictionary using `for` and `.keys()` and print all the state capitals."
      ],
      "metadata": {
        "id": "O9LfCd_kL00L"
      }
    },
    {
      "cell_type": "code",
      "source": [
        "for state,capital in dict1.items():\n",
        "  print(f' The Capital of {state} is the city of  {capital} ')\n",
        "\n"
      ],
      "metadata": {
        "id": "_jmS3h7qLq8I",
        "colab": {
          "base_uri": "https://localhost:8080/"
        },
        "outputId": "d714cfc1-9f85-4792-c3ba-ca2387663edc"
      },
      "execution_count": 75,
      "outputs": [
        {
          "output_type": "stream",
          "name": "stdout",
          "text": [
            " The Capital of Delhi is the city of  New Delhi \n",
            " The Capital of Uttar Pradesh is the city of  Lucknow \n",
            " The Capital of Madhya Pradesh is the city of  Bhopal \n",
            " The Capital of Karnataka is the city of  Bengaluru \n",
            " The Capital of Gujarat is the city of  Gandhinagar \n",
            " The Capital of Assam is the city of  Dispur \n"
          ]
        }
      ]
    },
    {
      "cell_type": "code",
      "source": [
        " {capital: state for capital, state in dict1.items()}"
      ],
      "metadata": {
        "colab": {
          "base_uri": "https://localhost:8080/"
        },
        "id": "RfJL8KS0KwA2",
        "outputId": "54f2311d-c249-46b8-e7dd-2091cfd50586"
      },
      "execution_count": 71,
      "outputs": [
        {
          "output_type": "execute_result",
          "data": {
            "text/plain": [
              "{'Delhi': 'New Delhi',\n",
              " 'Uttar Pradesh': 'Lucknow',\n",
              " 'Madhya Pradesh': 'Bhopal',\n",
              " 'Karnataka': 'Bengaluru',\n",
              " 'Gujarat': 'Gandhinagar',\n",
              " 'Assam': 'Dispur'}"
            ]
          },
          "metadata": {},
          "execution_count": 71
        }
      ]
    },
    {
      "cell_type": "markdown",
      "source": [
        "#### Exercise 7:\n",
        "\n",
        "* Initialize an empty dictionary ‘sen_map’.\n",
        "* Make the sentences all lower case.\n",
        "* Iterate over each word in the sentences.\n",
        "* Check if a word exists in the sen_map.\n",
        "* If not then add the word with a value of 1.\n",
        "* Otherwise, update the value of that word by 1."
      ],
      "metadata": {
        "id": "qvVSS8PSjDBT"
      }
    },
    {
      "cell_type": "code",
      "source": [
        "sents = \"TalentSprint is a digital platform designed to transform the lives of professionals in the new economy. Its blended bootcamps offer deeptech skills.\""
      ],
      "metadata": {
        "id": "NRHRUlggk4vs"
      },
      "execution_count": null,
      "outputs": []
    },
    {
      "cell_type": "code",
      "source": [
        "# YOUR CODE HERE"
      ],
      "metadata": {
        "id": "54llyHu8jNHC"
      },
      "execution_count": null,
      "outputs": []
    },
    {
      "cell_type": "markdown",
      "source": [
        "#### Exercies 8:\n",
        "\n",
        "* Initialize an empty dictionary ‘counts’.\n",
        "* Define the following list names = ['Jack', 'John', 'Jill', 'John'].\n",
        "* Print the frequency count of elements in a list using a dictionary.\n",
        "* Using get method print the value of john.\n",
        "* Print a list of tuples containing the key-value pairs in ‘counts’.\n",
        "\n"
      ],
      "metadata": {
        "id": "T-D_DCUcPcqJ"
      }
    },
    {
      "cell_type": "code",
      "source": [
        "counts = {}\n",
        "list_name = ['jack','john','jill','john']\n",
        "for list_iter in list_name:\n",
        "  counts[list_iter] = list_name.count(list_iter)\n",
        "print(counts)"
      ],
      "metadata": {
        "id": "JAByE5_rPZmr",
        "colab": {
          "base_uri": "https://localhost:8080/"
        },
        "outputId": "1b39f6df-a531-44de-c421-e1a9c6744efa"
      },
      "execution_count": 79,
      "outputs": [
        {
          "output_type": "stream",
          "name": "stdout",
          "text": [
            "{'jack': 1, 'john': 2, 'jill': 1}\n"
          ]
        }
      ]
    },
    {
      "cell_type": "code",
      "source": [
        "print(counts.get('john'))"
      ],
      "metadata": {
        "id": "RghSmebepmLS",
        "colab": {
          "base_uri": "https://localhost:8080/"
        },
        "outputId": "ef2b3885-c4cb-4e51-cdc3-9ec2df091edb"
      },
      "execution_count": 80,
      "outputs": [
        {
          "output_type": "stream",
          "name": "stdout",
          "text": [
            "2\n"
          ]
        }
      ]
    },
    {
      "cell_type": "code",
      "source": [
        "for name, count1 in counts.items():\n",
        "  print(f'The name {name}, has {count1} in the list')"
      ],
      "metadata": {
        "id": "iOBm5ICRmnNT",
        "colab": {
          "base_uri": "https://localhost:8080/"
        },
        "outputId": "42b1f64f-e966-4a7d-9a15-0f4f8e5a7dce"
      },
      "execution_count": 81,
      "outputs": [
        {
          "output_type": "stream",
          "name": "stdout",
          "text": [
            "The name jack, has 1 in the list\n",
            "The name john, has 2 in the list\n",
            "The name jill, has 1 in the list\n"
          ]
        }
      ]
    }
  ]
}