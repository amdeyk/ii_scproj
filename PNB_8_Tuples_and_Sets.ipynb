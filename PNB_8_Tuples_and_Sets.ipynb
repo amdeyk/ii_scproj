{
  "nbformat": 4,
  "nbformat_minor": 0,
  "metadata": {
    "colab": {
      "provenance": [],
      "private_outputs": true,
      "include_colab_link": true
    },
    "kernelspec": {
      "name": "python3",
      "display_name": "Python 3"
    }
  },
  "cells": [
    {
      "cell_type": "markdown",
      "metadata": {
        "id": "view-in-github",
        "colab_type": "text"
      },
      "source": [
        "<a href=\"https://colab.research.google.com/github/amdeyk/ii_scproj/blob/main/PNB_8_Tuples_and_Sets.ipynb\" target=\"_parent\"><img src=\"https://colab.research.google.com/assets/colab-badge.svg\" alt=\"Open In Colab\"/></a>"
      ]
    },
    {
      "cell_type": "markdown",
      "metadata": {
        "id": "TdOxmRdvhMuv"
      },
      "source": [
        "## **Tuples**"
      ]
    },
    {
      "cell_type": "markdown",
      "source": [
        "####Exercise 01: \n",
        "For the given tuple1 and tuple2, do the following:\n",
        "\n",
        "* Concatenate tuple1 and tuple2.\n",
        "* Multiply tuple1 with 2.\n",
        "* Check the output for, 'a' in tuple2."
      ],
      "metadata": {
        "id": "ORvyiUbtYqdl"
      }
    },
    {
      "cell_type": "code",
      "source": [
        "tuple1 = (1, 2, 3, 4, 5)\n",
        "tuple2 = ('a', 'b' , 'c' ,'d' , 'e')"
      ],
      "metadata": {
        "id": "FJ-INGr7Yp2m"
      },
      "execution_count": null,
      "outputs": []
    },
    {
      "cell_type": "code",
      "source": [
        "tupl3 = tuple1 + tuple2\n",
        "print(tupl3)"
      ],
      "metadata": {
        "id": "AUaoV4rkZews"
      },
      "execution_count": null,
      "outputs": []
    },
    {
      "cell_type": "code",
      "source": [
        "print('The first orginal Tuple is ', tuple1)\n",
        "print('The second orginal Tuple is ', tuple2)\n",
        "\n",
        "result_multiply = tuple(tup1 * tup2 for (tup1, tup2) in zip(tuple1, tuple2)) \n",
        "\n",
        "print('the Multiplied Tuple is ', result_multiply)"
      ],
      "metadata": {
        "id": "Q5aTX3AhUdUH"
      },
      "execution_count": null,
      "outputs": []
    },
    {
      "cell_type": "code",
      "source": [],
      "metadata": {
        "id": "eNogG_g6Ulz1"
      },
      "execution_count": null,
      "outputs": []
    },
    {
      "cell_type": "code",
      "source": [],
      "metadata": {
        "id": "rlM_7ACPUZfj"
      },
      "execution_count": null,
      "outputs": []
    },
    {
      "cell_type": "code",
      "source": [
        "# YOUR CODE HERE"
      ],
      "metadata": {
        "id": "X-XIavK8Zgcr"
      },
      "execution_count": null,
      "outputs": []
    },
    {
      "cell_type": "code",
      "source": [
        "# YOUR CODE HERE"
      ],
      "metadata": {
        "id": "wdT-gVzUZjIF"
      },
      "execution_count": null,
      "outputs": []
    },
    {
      "cell_type": "markdown",
      "metadata": {
        "id": "goABz9KbkcCX"
      },
      "source": [
        "#### Exercise 02:  \n",
        "Swap the following two tuples:\n",
        "\n"
      ]
    },
    {
      "cell_type": "code",
      "metadata": {
        "id": "DchupX-Fkio7"
      },
      "source": [
        "tuple1 = (11, 22)\n",
        "tuple2 = (99, 88)\n",
        "print(' the Content of the First tuple before Swap is ', tuple1, ' and the content of the second tuple before swap is ', tuple2)\n",
        "tuple1 , tuple2 =  tuple2, tuple1\n",
        "print(' the Content of the First tuple after Swap is ', tuple1, ' and the content of the second tuple after swap is ', tuple2)"
      ],
      "execution_count": null,
      "outputs": []
    },
    {
      "cell_type": "markdown",
      "metadata": {
        "id": "r84p08M8kt4i"
      },
      "source": [
        " Expected output : tuple1 = (99, 88) , tuple2 = (11, 22)"
      ]
    },
    {
      "cell_type": "code",
      "metadata": {
        "id": "0bJdUl4LkonY"
      },
      "source": [
        "## YOUR CODE HERE"
      ],
      "execution_count": null,
      "outputs": []
    },
    {
      "cell_type": "markdown",
      "metadata": {
        "id": "sjB6YFnhlD8a"
      },
      "source": [
        "#### Exercise 03: \n",
        "Modify the first item of a list (22) inside a following tuple to 222."
      ]
    },
    {
      "cell_type": "code",
      "metadata": {
        "id": "mJ4IMYxMksME"
      },
      "source": [
        "tuple3 = (11, [22, 33, [100,101], 21], 44, 55)\n",
        "tuple3[1][0]=222\n",
        "print(tuple3)"
      ],
      "execution_count": null,
      "outputs": []
    },
    {
      "cell_type": "code",
      "metadata": {
        "id": "p521bjIbj3xi"
      },
      "source": [],
      "execution_count": null,
      "outputs": []
    },
    {
      "cell_type": "markdown",
      "metadata": {
        "id": "syBgMk_flXjH"
      },
      "source": [
        "Expected Output : (11, [222, 33], 44, 55)"
      ]
    },
    {
      "cell_type": "code",
      "metadata": {
        "id": "CN9lcIlHldSi"
      },
      "source": [
        "#YOUR CODE HERE"
      ],
      "execution_count": null,
      "outputs": []
    },
    {
      "cell_type": "markdown",
      "metadata": {
        "id": "-gdTA77ppQsc"
      },
      "source": [
        "#### Exercise 04: \n",
        "Concatenate two tuples in the following order:"
      ]
    },
    {
      "cell_type": "code",
      "metadata": {
        "id": "zXKtUzHgltU7"
      },
      "source": [
        "tuple4 = (0, 1, 2, 3) \n",
        "tuple5 = ('Teacher', 'Student')"
      ],
      "execution_count": null,
      "outputs": []
    },
    {
      "cell_type": "markdown",
      "metadata": {
        "id": "2WRmnb4ruIsh"
      },
      "source": [
        "Expected Output :  (0, 1, 2, 3, 'Teacher', 'Student')"
      ]
    },
    {
      "cell_type": "code",
      "metadata": {
        "id": "9PGBPra_ptnL"
      },
      "source": [
        "print(tuple4 + tuple5)"
      ],
      "execution_count": null,
      "outputs": []
    },
    {
      "cell_type": "markdown",
      "source": [
        "#### Exercise 05: \n",
        "For the given tuple, find the index of the sub-tuple whose elements makes a sum of 36."
      ],
      "metadata": {
        "id": "fm5PYg-wNF8U"
      }
    },
    {
      "cell_type": "code",
      "metadata": {
        "id": "QgNPTxTroW2w"
      },
      "source": [
        "tuple1 = ((19,23),(20,22),(18,18),(16,20))"
      ],
      "execution_count": null,
      "outputs": []
    },
    {
      "cell_type": "code",
      "source": [
        "for x,y in tuple1:\n",
        "  print(x,y)\n",
        "tuple1 = ((19,23),(20,22),(18,18),(16,20))\n",
        "position = [tuple1.index((x,y)) for x,y in tuple1 if x+y ==36]\n",
        "print('The position of the sub-tuple is', position)\n"
      ],
      "metadata": {
        "id": "sZsEbm2XNJJe"
      },
      "execution_count": null,
      "outputs": []
    },
    {
      "cell_type": "code",
      "source": [],
      "metadata": {
        "id": "TPlrOb2qjCO8"
      },
      "execution_count": null,
      "outputs": []
    },
    {
      "cell_type": "markdown",
      "source": [
        "#### Exercise 06: \n",
        "For the given tuple of numbers, do the following:\n",
        "* Write a function which takes an integer 'N' as a parameter and returns the sum of multiples of 3 or 5 between 0 and N (limit). Where N is any element from the given tuple.\n",
        "* Print all the sum of multiples for each element from the tuple.\n",
        "* Example: If we list all the natural numbers less than 10 that are multiples of 3 or 5, we get 3, 5, 6, and 9 and their sum is 23."
      ],
      "metadata": {
        "id": "BbVvtT3TNWDq"
      }
    },
    {
      "cell_type": "code",
      "source": [],
      "metadata": {
        "id": "moVvRBbONXcc"
      },
      "execution_count": null,
      "outputs": []
    },
    {
      "cell_type": "code",
      "source": [
        "tuple2 = (10, 20, 30, 40, 50)\n",
        "\n",
        "def sum_numbers(paramN):\n",
        "  sum = 0\n",
        "  for iter_limit in range(paramN):\n",
        "    if iter_limit%3 == 0 or iter_limit%5 ==0 :\n",
        "      sum = sum + iter_limit\n",
        "  return sum\n",
        "\n",
        "\n",
        "output_list = [print('The Sum is ', sum_numbers(item)) for item in tuple2] # note the output list will be none as the Output per iter is None\n"
      ],
      "metadata": {
        "id": "LCSrHjngSto7"
      },
      "execution_count": null,
      "outputs": []
    },
    {
      "cell_type": "markdown",
      "source": [
        "## **Sets**"
      ],
      "metadata": {
        "id": "alDOrhhUQEbF"
      }
    },
    {
      "cell_type": "markdown",
      "source": [
        "####Exercise 07: \n",
        "* Declare a set using curly brackets.\n",
        "* Store it in a variable.\n",
        "* Check the type of the object created."
      ],
      "metadata": {
        "id": "CRgGgjYyTlDX"
      }
    },
    {
      "cell_type": "code",
      "source": [
        "set1 = {'Hello','My','Dog'}\n",
        "print(type(set1))"
      ],
      "metadata": {
        "id": "h0SFSTSsQGTl"
      },
      "execution_count": null,
      "outputs": []
    },
    {
      "cell_type": "markdown",
      "source": [
        "####Exercise 08: \n",
        "* Declare a set using `set()` method.\n",
        "* Store it in a variable.\n",
        "* Print the results."
      ],
      "metadata": {
        "id": "KTLgt-WQUVZn"
      }
    },
    {
      "cell_type": "code",
      "source": [
        "# Declaring `set`, style2\n",
        "#YOUR CODE HERE"
      ],
      "metadata": {
        "id": "b2DtkvOwQ2Jy"
      },
      "execution_count": null,
      "outputs": []
    },
    {
      "cell_type": "markdown",
      "source": [
        "####Exercise 09: \n",
        "* Declare a set.\n",
        "* Add an element to set by using `.add()` over the object of set.\n",
        "* Print the results."
      ],
      "metadata": {
        "id": "vjMTp27EUlSf"
      }
    },
    {
      "cell_type": "code",
      "source": [
        "# YOUR CODE HERE"
      ],
      "metadata": {
        "id": "Q3cEEr3qSAqe"
      },
      "execution_count": null,
      "outputs": []
    }
  ]
}