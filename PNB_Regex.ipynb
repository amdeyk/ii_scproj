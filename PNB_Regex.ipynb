{
  "nbformat": 4,
  "nbformat_minor": 0,
  "metadata": {
    "colab": {
      "private_outputs": true,
      "provenance": [],
      "include_colab_link": true
    },
    "kernelspec": {
      "name": "python3",
      "display_name": "Python 3"
    },
    "language_info": {
      "name": "python"
    }
  },
  "cells": [
    {
      "cell_type": "markdown",
      "metadata": {
        "id": "view-in-github",
        "colab_type": "text"
      },
      "source": [
        "<a href=\"https://colab.research.google.com/github/amdeyk/ii_scproj/blob/main/PNB_Regex.ipynb\" target=\"_parent\"><img src=\"https://colab.research.google.com/assets/colab-badge.svg\" alt=\"Open In Colab\"/></a>"
      ]
    },
    {
      "cell_type": "markdown",
      "source": [
        "## Practice Notebook"
      ],
      "metadata": {
        "id": "esWN972n5BDH"
      }
    },
    {
      "cell_type": "markdown",
      "source": [
        "### Importing Regex."
      ],
      "metadata": {
        "id": "kOQfeBBr5UD6"
      }
    },
    {
      "cell_type": "code",
      "source": [
        "import re"
      ],
      "metadata": {
        "id": "hPVSYdqe5PdJ"
      },
      "execution_count": null,
      "outputs": []
    },
    {
      "cell_type": "markdown",
      "source": [
        "#### Exercise 1:\n",
        "Extract all the email addresses from a string."
      ],
      "metadata": {
        "id": "oosNVtI2L61P"
      }
    },
    {
      "cell_type": "code",
      "execution_count": null,
      "metadata": {
        "id": "LqtVLpRxL3IK"
      },
      "outputs": [],
      "source": [
        "text = \"My email addresses are john.doe@example.com and jane.doe@example.net\"\n",
        "# Reference www.regex101.com\n",
        "a = re.compile('[a-z]*.[a-z]*@[a-z]*.[a-z]*')\n",
        "b = re.compile('([a-z]*.[a-z]*)@([a-z]*).([a-z]*)')\n",
        "print('just the plain emails here: ', a.findall(text))\n",
        "print('Broken up into parts here :', b.findall(text))"
      ]
    },
    {
      "cell_type": "markdown",
      "source": [
        "####Exercise 2: \n",
        "For given text, replace all occurrences of the word \"apple\" with \"banana\":"
      ],
      "metadata": {
        "id": "c-WLTsTLMF_B"
      }
    },
    {
      "cell_type": "code",
      "source": [
        "text = \"There are 100 apples and 50 bananas\"\n",
        "import re\n",
        "c = re.compile('[a][pple]+')\n",
        "new_text = re.sub(c,'banana', text)\n",
        "print(text, new_text)"
      ],
      "metadata": {
        "id": "GCxoWs9eMJsG"
      },
      "execution_count": null,
      "outputs": []
    },
    {
      "cell_type": "markdown",
      "source": [
        "#### Exercise 3: \n",
        "Extract numbers from the given text:"
      ],
      "metadata": {
        "id": "0cChWkyvMpi2"
      }
    },
    {
      "cell_type": "code",
      "source": [
        "text = \"There are 10 Jacks and 15 Queens\"\n",
        "import re\n",
        "d = re.compile('[0-9]+')\n",
        "list_number = d.findall(text)\n",
        "print(list_number)"
      ],
      "metadata": {
        "id": "oQhYYnC7MLvw"
      },
      "execution_count": null,
      "outputs": []
    },
    {
      "cell_type": "markdown",
      "source": [
        "#### Exercise 4:\n",
        "Using a regular expression, extract email addresses from given string:"
      ],
      "metadata": {
        "id": "D3hcMa3ESFdP"
      }
    },
    {
      "cell_type": "code",
      "source": [
        "email_string = \"My email address is example@gmail.com and another one is test@yahoo.com\"\n",
        "\n",
        "import re\n",
        "e = re.compile('[a-z]*[\\.[a-z]*@[a-z]*.[a-z]*')\n",
        "list_email = e.findall(email_string)\n",
        "print(list_email)"
      ],
      "metadata": {
        "id": "bSbmSR6kM6Ln"
      },
      "execution_count": null,
      "outputs": []
    },
    {
      "cell_type": "markdown",
      "source": [
        "#### Exercise 5:\n",
        "Using a regular expression, find the index of a string, 'world' from the given text."
      ],
      "metadata": {
        "id": "Tb7j55KNSyjl"
      }
    },
    {
      "cell_type": "code",
      "source": [
        "text = \"Hello, World!\"\n",
        "import re\n",
        "e = re.compile('[a-zA-Z]orld')\n",
        "print('The String starts at : ', e.search(text).start(), ' and ends at ', e.search(text).end())\n",
        "\n"
      ],
      "metadata": {
        "id": "yKCAW6_WSMAV"
      },
      "execution_count": null,
      "outputs": []
    },
    {
      "cell_type": "markdown",
      "source": [
        "#### Exercise 6:\n",
        "Search for a specific pattern in a string."
      ],
      "metadata": {
        "id": "4OqPDVvdUIjz"
      }
    },
    {
      "cell_type": "code",
      "source": [
        "text = \"My email address is example@example.com.\"\n",
        "\n",
        "# search for an email address\n",
        "# YOUR CODE HERE\n",
        "\n",
        "# check if a match was found\n",
        "# YOUR CODE HERE"
      ],
      "metadata": {
        "id": "S0b62VJDTRRH"
      },
      "execution_count": null,
      "outputs": []
    }
  ]
}