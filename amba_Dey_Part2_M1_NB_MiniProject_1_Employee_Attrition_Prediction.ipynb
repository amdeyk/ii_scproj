{
  "nbformat": 4,
  "nbformat_minor": 0,
  "metadata": {
    "colab": {
      "provenance": [],
      "authorship_tag": "ABX9TyOMsYwTopqiRlpExJ912I1P",
      "include_colab_link": true
    },
    "kernelspec": {
      "name": "python3",
      "display_name": "Python 3"
    },
    "language_info": {
      "name": "python"
    },
    "widgets": {
      "application/vnd.jupyter.widget-state+json": {
        "889ad75c48e34f0aa3d2ca3a4f14a9d1": {
          "model_module": "catboost-widget",
          "model_name": "CatboostWidgetModel",
          "model_module_version": "^1.0.0",
          "state": {
            "_dom_classes": [],
            "_model_module": "catboost-widget",
            "_model_module_version": "^1.0.0",
            "_model_name": "CatboostWidgetModel",
            "_view_count": null,
            "_view_module": "catboost-widget",
            "_view_module_version": "^1.0.0",
            "_view_name": "CatboostWidgetView",
            "data": {
              "catboost_info": {
                "path": "catboost_info",
                "name": "catboost_info",
                "content": {
                  "passed_iterations": 499,
                  "total_iterations": 500,
                  "data": {
                    "iterations": [
                      {
                        "learn": [
                          0.6758689276
                        ],
                        "iteration": 0,
                        "passed_time": 0.01334131803,
                        "remaining_time": 6.657317699
                      },
                      {
                        "learn": [
                          0.6599484068
                        ],
                        "iteration": 1,
                        "passed_time": 0.03476721557,
                        "remaining_time": 8.657036676
                      },
                      {
                        "learn": [
                          0.6486781651
                        ],
                        "iteration": 2,
                        "passed_time": 0.04431815995,
                        "remaining_time": 7.342041832
                      },
                      {
                        "learn": [
                          0.6387309679
                        ],
                        "iteration": 3,
                        "passed_time": 0.08657678629,
                        "remaining_time": 10.7355215
                      },
                      {
                        "learn": [
                          0.6274089772
                        ],
                        "iteration": 4,
                        "passed_time": 0.1200341122,
                        "remaining_time": 11.8833771
                      },
                      {
                        "learn": [
                          0.6141594024
                        ],
                        "iteration": 5,
                        "passed_time": 0.1668856298,
                        "remaining_time": 13.74025019
                      },
                      {
                        "learn": [
                          0.6024333229
                        ],
                        "iteration": 6,
                        "passed_time": 0.2087128985,
                        "remaining_time": 14.69935128
                      },
                      {
                        "learn": [
                          0.5912095239
                        ],
                        "iteration": 7,
                        "passed_time": 0.2465619243,
                        "remaining_time": 15.16355834
                      },
                      {
                        "learn": [
                          0.5775275997
                        ],
                        "iteration": 8,
                        "passed_time": 0.2699589885,
                        "remaining_time": 14.7277626
                      },
                      {
                        "learn": [
                          0.5679017511
                        ],
                        "iteration": 9,
                        "passed_time": 0.3171651902,
                        "remaining_time": 15.54109432
                      },
                      {
                        "learn": [
                          0.5606142131
                        ],
                        "iteration": 10,
                        "passed_time": 0.3390645718,
                        "remaining_time": 15.07296142
                      },
                      {
                        "learn": [
                          0.5505013802
                        ],
                        "iteration": 11,
                        "passed_time": 0.3632242297,
                        "remaining_time": 14.77111868
                      },
                      {
                        "learn": [
                          0.54297162
                        ],
                        "iteration": 12,
                        "passed_time": 0.4049349873,
                        "remaining_time": 15.1694876
                      },
                      {
                        "learn": [
                          0.5346965913
                        ],
                        "iteration": 13,
                        "passed_time": 0.4536816795,
                        "remaining_time": 15.74923544
                      },
                      {
                        "learn": [
                          0.5280007342
                        ],
                        "iteration": 14,
                        "passed_time": 0.4842849839,
                        "remaining_time": 15.65854781
                      },
                      {
                        "learn": [
                          0.5191665516
                        ],
                        "iteration": 15,
                        "passed_time": 0.5215145309,
                        "remaining_time": 15.77581456
                      },
                      {
                        "learn": [
                          0.5145657511
                        ],
                        "iteration": 16,
                        "passed_time": 0.5287215765,
                        "remaining_time": 15.02191303
                      },
                      {
                        "learn": [
                          0.5076705581
                        ],
                        "iteration": 17,
                        "passed_time": 0.5607192113,
                        "remaining_time": 15.01481444
                      },
                      {
                        "learn": [
                          0.5035017799
                        ],
                        "iteration": 18,
                        "passed_time": 0.575377376,
                        "remaining_time": 14.56613252
                      },
                      {
                        "learn": [
                          0.4984755562
                        ],
                        "iteration": 19,
                        "passed_time": 0.5890007498,
                        "remaining_time": 14.136018
                      },
                      {
                        "learn": [
                          0.4923656162
                        ],
                        "iteration": 20,
                        "passed_time": 0.6219851162,
                        "remaining_time": 14.18718432
                      },
                      {
                        "learn": [
                          0.4858460033
                        ],
                        "iteration": 21,
                        "passed_time": 0.6529906161,
                        "remaining_time": 14.1877052
                      },
                      {
                        "learn": [
                          0.481924203
                        ],
                        "iteration": 22,
                        "passed_time": 0.6680380011,
                        "remaining_time": 13.85452724
                      },
                      {
                        "learn": [
                          0.4736017581
                        ],
                        "iteration": 23,
                        "passed_time": 0.6936036927,
                        "remaining_time": 13.75647324
                      },
                      {
                        "learn": [
                          0.4699775402
                        ],
                        "iteration": 24,
                        "passed_time": 0.732506016,
                        "remaining_time": 13.9176143
                      },
                      {
                        "learn": [
                          0.4623875587
                        ],
                        "iteration": 25,
                        "passed_time": 0.7549669062,
                        "remaining_time": 13.76362744
                      },
                      {
                        "learn": [
                          0.4596535494
                        ],
                        "iteration": 26,
                        "passed_time": 0.7682467052,
                        "remaining_time": 13.45854413
                      },
                      {
                        "learn": [
                          0.4526875005
                        ],
                        "iteration": 27,
                        "passed_time": 0.7963119533,
                        "remaining_time": 13.42354436
                      },
                      {
                        "learn": [
                          0.4474609311
                        ],
                        "iteration": 28,
                        "passed_time": 0.8187742123,
                        "remaining_time": 13.29802255
                      },
                      {
                        "learn": [
                          0.443684142
                        ],
                        "iteration": 29,
                        "passed_time": 0.8354163303,
                        "remaining_time": 13.08818917
                      },
                      {
                        "learn": [
                          0.4393144396
                        ],
                        "iteration": 30,
                        "passed_time": 0.8582697152,
                        "remaining_time": 12.98479021
                      },
                      {
                        "learn": [
                          0.4365880675
                        ],
                        "iteration": 31,
                        "passed_time": 0.8643827011,
                        "remaining_time": 12.641597
                      },
                      {
                        "learn": [
                          0.4335132107
                        ],
                        "iteration": 32,
                        "passed_time": 0.8865041241,
                        "remaining_time": 12.54537654
                      },
                      {
                        "learn": [
                          0.4289677811
                        ],
                        "iteration": 33,
                        "passed_time": 0.908157529,
                        "remaining_time": 12.44710025
                      },
                      {
                        "learn": [
                          0.425563358
                        ],
                        "iteration": 34,
                        "passed_time": 0.9335012942,
                        "remaining_time": 12.40223148
                      },
                      {
                        "learn": [
                          0.4204534398
                        ],
                        "iteration": 35,
                        "passed_time": 0.9509833473,
                        "remaining_time": 12.2571187
                      },
                      {
                        "learn": [
                          0.416711686
                        ],
                        "iteration": 36,
                        "passed_time": 0.9977814475,
                        "remaining_time": 12.48575163
                      },
                      {
                        "learn": [
                          0.4123924208
                        ],
                        "iteration": 37,
                        "passed_time": 1.033227035,
                        "remaining_time": 12.56186553
                      },
                      {
                        "learn": [
                          0.4087718505
                        ],
                        "iteration": 38,
                        "passed_time": 1.070589,
                        "remaining_time": 12.654911
                      },
                      {
                        "learn": [
                          0.4047378323
                        ],
                        "iteration": 39,
                        "passed_time": 1.10953956,
                        "remaining_time": 12.75970494
                      },
                      {
                        "learn": [
                          0.4009082019
                        ],
                        "iteration": 40,
                        "passed_time": 1.136984427,
                        "remaining_time": 12.72867931
                      },
                      {
                        "learn": [
                          0.3974149131
                        ],
                        "iteration": 41,
                        "passed_time": 1.163126057,
                        "remaining_time": 12.68361272
                      },
                      {
                        "learn": [
                          0.3938842919
                        ],
                        "iteration": 42,
                        "passed_time": 1.187941158,
                        "remaining_time": 12.62532812
                      },
                      {
                        "learn": [
                          0.3920582823
                        ],
                        "iteration": 43,
                        "passed_time": 1.228353697,
                        "remaining_time": 12.73021104
                      },
                      {
                        "learn": [
                          0.3882481571
                        ],
                        "iteration": 44,
                        "passed_time": 1.266226015,
                        "remaining_time": 12.80295193
                      },
                      {
                        "learn": [
                          0.385542899
                        ],
                        "iteration": 45,
                        "passed_time": 1.309077133,
                        "remaining_time": 12.92002214
                      },
                      {
                        "learn": [
                          0.3829748619
                        ],
                        "iteration": 46,
                        "passed_time": 1.340146206,
                        "remaining_time": 12.91672833
                      },
                      {
                        "learn": [
                          0.3789392468
                        ],
                        "iteration": 47,
                        "passed_time": 1.399801254,
                        "remaining_time": 13.18146181
                      },
                      {
                        "learn": [
                          0.3763045815
                        ],
                        "iteration": 48,
                        "passed_time": 1.428314015,
                        "remaining_time": 13.1463188
                      },
                      {
                        "learn": [
                          0.3739789388
                        ],
                        "iteration": 49,
                        "passed_time": 1.456951481,
                        "remaining_time": 13.11256333
                      },
                      {
                        "learn": [
                          0.3708476151
                        ],
                        "iteration": 50,
                        "passed_time": 1.487349192,
                        "remaining_time": 13.09450563
                      },
                      {
                        "learn": [
                          0.3679167826
                        ],
                        "iteration": 51,
                        "passed_time": 1.508466079,
                        "remaining_time": 12.99601545
                      },
                      {
                        "learn": [
                          0.3654669195
                        ],
                        "iteration": 52,
                        "passed_time": 1.534851328,
                        "remaining_time": 12.94487818
                      },
                      {
                        "learn": [
                          0.3624397222
                        ],
                        "iteration": 53,
                        "passed_time": 1.577875988,
                        "remaining_time": 13.03208687
                      },
                      {
                        "learn": [
                          0.3601535703
                        ],
                        "iteration": 54,
                        "passed_time": 1.623593786,
                        "remaining_time": 13.13634972
                      },
                      {
                        "learn": [
                          0.3584672606
                        ],
                        "iteration": 55,
                        "passed_time": 1.649560983,
                        "remaining_time": 13.07866208
                      },
                      {
                        "learn": [
                          0.3558424442
                        ],
                        "iteration": 56,
                        "passed_time": 1.694362087,
                        "remaining_time": 13.16846324
                      },
                      {
                        "learn": [
                          0.3550443328
                        ],
                        "iteration": 57,
                        "passed_time": 1.702982817,
                        "remaining_time": 12.97790354
                      },
                      {
                        "learn": [
                          0.3531890113
                        ],
                        "iteration": 58,
                        "passed_time": 1.747455686,
                        "remaining_time": 13.0614908
                      },
                      {
                        "learn": [
                          0.3504793549
                        ],
                        "iteration": 59,
                        "passed_time": 1.78360956,
                        "remaining_time": 13.07980344
                      },
                      {
                        "learn": [
                          0.348541143
                        ],
                        "iteration": 60,
                        "passed_time": 1.804847232,
                        "remaining_time": 12.98898254
                      },
                      {
                        "learn": [
                          0.3467205299
                        ],
                        "iteration": 61,
                        "passed_time": 1.841079155,
                        "remaining_time": 13.00633338
                      },
                      {
                        "learn": [
                          0.3441758494
                        ],
                        "iteration": 62,
                        "passed_time": 1.853920179,
                        "remaining_time": 12.85973204
                      },
                      {
                        "learn": [
                          0.3415474917
                        ],
                        "iteration": 63,
                        "passed_time": 1.861388359,
                        "remaining_time": 12.68070819
                      },
                      {
                        "learn": [
                          0.3389730955
                        ],
                        "iteration": 64,
                        "passed_time": 1.867776496,
                        "remaining_time": 12.49973501
                      },
                      {
                        "learn": [
                          0.3371531763
                        ],
                        "iteration": 65,
                        "passed_time": 1.874591538,
                        "remaining_time": 12.32685951
                      },
                      {
                        "learn": [
                          0.3363285197
                        ],
                        "iteration": 66,
                        "passed_time": 1.877730333,
                        "remaining_time": 12.1351826
                      },
                      {
                        "learn": [
                          0.3339992294
                        ],
                        "iteration": 67,
                        "passed_time": 1.884104393,
                        "remaining_time": 11.96960438
                      },
                      {
                        "learn": [
                          0.3326416579
                        ],
                        "iteration": 68,
                        "passed_time": 1.891836168,
                        "remaining_time": 11.81712157
                      },
                      {
                        "learn": [
                          0.3312696738
                        ],
                        "iteration": 69,
                        "passed_time": 1.91036112,
                        "remaining_time": 11.73507545
                      },
                      {
                        "learn": [
                          0.3293088623
                        ],
                        "iteration": 70,
                        "passed_time": 1.927851006,
                        "remaining_time": 11.64856453
                      },
                      {
                        "learn": [
                          0.3278813904
                        ],
                        "iteration": 71,
                        "passed_time": 1.947292477,
                        "remaining_time": 11.57557194
                      },
                      {
                        "learn": [
                          0.3273817522
                        ],
                        "iteration": 72,
                        "passed_time": 1.954960203,
                        "remaining_time": 11.43517818
                      },
                      {
                        "learn": [
                          0.3258961439
                        ],
                        "iteration": 73,
                        "passed_time": 1.967591521,
                        "remaining_time": 11.32694579
                      },
                      {
                        "learn": [
                          0.3239780796
                        ],
                        "iteration": 74,
                        "passed_time": 1.984209978,
                        "remaining_time": 11.24385654
                      },
                      {
                        "learn": [
                          0.3226899995
                        ],
                        "iteration": 75,
                        "passed_time": 2.002019347,
                        "remaining_time": 11.16916057
                      },
                      {
                        "learn": [
                          0.3208125013
                        ],
                        "iteration": 76,
                        "passed_time": 2.019098721,
                        "remaining_time": 11.09193193
                      },
                      {
                        "learn": [
                          0.3191488175
                        ],
                        "iteration": 77,
                        "passed_time": 2.033283298,
                        "remaining_time": 11.000584
                      },
                      {
                        "learn": [
                          0.3163957508
                        ],
                        "iteration": 78,
                        "passed_time": 2.051321286,
                        "remaining_time": 10.93172483
                      },
                      {
                        "learn": [
                          0.3157505881
                        ],
                        "iteration": 79,
                        "passed_time": 2.070051746,
                        "remaining_time": 10.86777166
                      },
                      {
                        "learn": [
                          0.3142735751
                        ],
                        "iteration": 80,
                        "passed_time": 2.084154088,
                        "remaining_time": 10.7809946
                      },
                      {
                        "learn": [
                          0.3124934226
                        ],
                        "iteration": 81,
                        "passed_time": 2.09541875,
                        "remaining_time": 10.68152485
                      },
                      {
                        "learn": [
                          0.3115958475
                        ],
                        "iteration": 82,
                        "passed_time": 2.101392359,
                        "remaining_time": 10.55759775
                      },
                      {
                        "learn": [
                          0.3099948715
                        ],
                        "iteration": 83,
                        "passed_time": 2.109658123,
                        "remaining_time": 10.4478307
                      },
                      {
                        "learn": [
                          0.3091145527
                        ],
                        "iteration": 84,
                        "passed_time": 2.125469187,
                        "remaining_time": 10.37729074
                      },
                      {
                        "learn": [
                          0.3084749646
                        ],
                        "iteration": 85,
                        "passed_time": 2.136671405,
                        "remaining_time": 10.28583676
                      },
                      {
                        "learn": [
                          0.3074189618
                        ],
                        "iteration": 86,
                        "passed_time": 2.145812203,
                        "remaining_time": 10.18644184
                      },
                      {
                        "learn": [
                          0.3066591992
                        ],
                        "iteration": 87,
                        "passed_time": 2.151842602,
                        "remaining_time": 10.07453582
                      },
                      {
                        "learn": [
                          0.3053628378
                        ],
                        "iteration": 88,
                        "passed_time": 2.157517822,
                        "remaining_time": 9.96336882
                      },
                      {
                        "learn": [
                          0.3040972647
                        ],
                        "iteration": 89,
                        "passed_time": 2.162885347,
                        "remaining_time": 9.853144358
                      },
                      {
                        "learn": [
                          0.3028026988
                        ],
                        "iteration": 90,
                        "passed_time": 2.168234572,
                        "remaining_time": 9.745142196
                      },
                      {
                        "learn": [
                          0.3016974555
                        ],
                        "iteration": 91,
                        "passed_time": 2.173944425,
                        "remaining_time": 9.640970928
                      },
                      {
                        "learn": [
                          0.3003179551
                        ],
                        "iteration": 92,
                        "passed_time": 2.1792218,
                        "remaining_time": 9.537024436
                      },
                      {
                        "learn": [
                          0.2989389755
                        ],
                        "iteration": 93,
                        "passed_time": 2.184332959,
                        "remaining_time": 9.434459377
                      },
                      {
                        "learn": [
                          0.297826813
                        ],
                        "iteration": 94,
                        "passed_time": 2.189993206,
                        "remaining_time": 9.336286824
                      },
                      {
                        "learn": [
                          0.2965096203
                        ],
                        "iteration": 95,
                        "passed_time": 2.1957638,
                        "remaining_time": 9.240505991
                      },
                      {
                        "learn": [
                          0.2949864458
                        ],
                        "iteration": 96,
                        "passed_time": 2.201491603,
                        "remaining_time": 9.146403257
                      },
                      {
                        "learn": [
                          0.2941072131
                        ],
                        "iteration": 97,
                        "passed_time": 2.206996813,
                        "remaining_time": 9.053191009
                      },
                      {
                        "learn": [
                          0.2934177899
                        ],
                        "iteration": 98,
                        "passed_time": 2.214413322,
                        "remaining_time": 8.969492344
                      },
                      {
                        "learn": [
                          0.2926988395
                        ],
                        "iteration": 99,
                        "passed_time": 2.219908745,
                        "remaining_time": 8.879634979
                      },
                      {
                        "learn": [
                          0.2913667898
                        ],
                        "iteration": 100,
                        "passed_time": 2.225597913,
                        "remaining_time": 8.792213536
                      },
                      {
                        "learn": [
                          0.2898336131
                        ],
                        "iteration": 101,
                        "passed_time": 2.231115589,
                        "remaining_time": 8.705725535
                      },
                      {
                        "learn": [
                          0.2888158488
                        ],
                        "iteration": 102,
                        "passed_time": 2.236723025,
                        "remaining_time": 8.621155738
                      },
                      {
                        "learn": [
                          0.2873475257
                        ],
                        "iteration": 103,
                        "passed_time": 2.242424096,
                        "remaining_time": 8.538460981
                      },
                      {
                        "learn": [
                          0.2865464341
                        ],
                        "iteration": 104,
                        "passed_time": 2.247840296,
                        "remaining_time": 8.456161115
                      },
                      {
                        "learn": [
                          0.2855401377
                        ],
                        "iteration": 105,
                        "passed_time": 2.253533942,
                        "remaining_time": 8.376343142
                      },
                      {
                        "learn": [
                          0.2850744151
                        ],
                        "iteration": 106,
                        "passed_time": 2.259465847,
                        "remaining_time": 8.298785773
                      },
                      {
                        "learn": [
                          0.2842270902
                        ],
                        "iteration": 107,
                        "passed_time": 2.264970742,
                        "remaining_time": 8.221004914
                      },
                      {
                        "learn": [
                          0.2831968794
                        ],
                        "iteration": 108,
                        "passed_time": 2.270396631,
                        "remaining_time": 8.144266814
                      },
                      {
                        "learn": [
                          0.2824929656
                        ],
                        "iteration": 109,
                        "passed_time": 2.276010851,
                        "remaining_time": 8.069493016
                      },
                      {
                        "learn": [
                          0.2813474243
                        ],
                        "iteration": 110,
                        "passed_time": 2.28144207,
                        "remaining_time": 7.995324011
                      },
                      {
                        "learn": [
                          0.2805005843
                        ],
                        "iteration": 111,
                        "passed_time": 2.286996237,
                        "remaining_time": 7.922808393
                      },
                      {
                        "learn": [
                          0.2791636193
                        ],
                        "iteration": 112,
                        "passed_time": 2.292568287,
                        "remaining_time": 7.851539178
                      },
                      {
                        "learn": [
                          0.2780445576
                        ],
                        "iteration": 113,
                        "passed_time": 2.29782543,
                        "remaining_time": 7.78035628
                      },
                      {
                        "learn": [
                          0.2770932027
                        ],
                        "iteration": 114,
                        "passed_time": 2.303469361,
                        "remaining_time": 7.711614818
                      },
                      {
                        "learn": [
                          0.2766395889
                        ],
                        "iteration": 115,
                        "passed_time": 2.3088078,
                        "remaining_time": 7.642949959
                      },
                      {
                        "learn": [
                          0.2751753527
                        ],
                        "iteration": 116,
                        "passed_time": 2.314303316,
                        "remaining_time": 7.575881795
                      },
                      {
                        "learn": [
                          0.2742304791
                        ],
                        "iteration": 117,
                        "passed_time": 2.320037653,
                        "remaining_time": 7.510630367
                      },
                      {
                        "learn": [
                          0.2736003104
                        ],
                        "iteration": 118,
                        "passed_time": 2.325458002,
                        "remaining_time": 7.445373939
                      },
                      {
                        "learn": [
                          0.2732017747
                        ],
                        "iteration": 119,
                        "passed_time": 2.331362567,
                        "remaining_time": 7.382648128
                      },
                      {
                        "learn": [
                          0.2720071537
                        ],
                        "iteration": 120,
                        "passed_time": 2.336897096,
                        "remaining_time": 7.319702475
                      },
                      {
                        "learn": [
                          0.271299563
                        ],
                        "iteration": 121,
                        "passed_time": 2.349537536,
                        "remaining_time": 7.279714661
                      },
                      {
                        "learn": [
                          0.2710103588
                        ],
                        "iteration": 122,
                        "passed_time": 2.357155162,
                        "remaining_time": 7.224776389
                      },
                      {
                        "learn": [
                          0.2703356335
                        ],
                        "iteration": 123,
                        "passed_time": 2.362832098,
                        "remaining_time": 7.164716684
                      },
                      {
                        "learn": [
                          0.2695501855
                        ],
                        "iteration": 124,
                        "passed_time": 2.368482664,
                        "remaining_time": 7.105447991
                      },
                      {
                        "learn": [
                          0.2683966853
                        ],
                        "iteration": 125,
                        "passed_time": 2.374291754,
                        "remaining_time": 7.047500921
                      },
                      {
                        "learn": [
                          0.2675327609
                        ],
                        "iteration": 126,
                        "passed_time": 2.380020755,
                        "remaining_time": 6.990139697
                      },
                      {
                        "learn": [
                          0.266971178
                        ],
                        "iteration": 127,
                        "passed_time": 2.386250262,
                        "remaining_time": 6.935039825
                      },
                      {
                        "learn": [
                          0.2664811946
                        ],
                        "iteration": 128,
                        "passed_time": 2.399911217,
                        "remaining_time": 6.902070244
                      },
                      {
                        "learn": [
                          0.2656230833
                        ],
                        "iteration": 129,
                        "passed_time": 2.411132082,
                        "remaining_time": 6.862452848
                      },
                      {
                        "learn": [
                          0.2649254745
                        ],
                        "iteration": 130,
                        "passed_time": 2.416878881,
                        "remaining_time": 6.807849673
                      },
                      {
                        "learn": [
                          0.2643874133
                        ],
                        "iteration": 131,
                        "passed_time": 2.422492533,
                        "remaining_time": 6.753615547
                      },
                      {
                        "learn": [
                          0.2638739259
                        ],
                        "iteration": 132,
                        "passed_time": 2.431594488,
                        "remaining_time": 6.709738175
                      },
                      {
                        "learn": [
                          0.2627662632
                        ],
                        "iteration": 133,
                        "passed_time": 2.437089007,
                        "remaining_time": 6.656526691
                      },
                      {
                        "learn": [
                          0.2625510664
                        ],
                        "iteration": 134,
                        "passed_time": 2.442671239,
                        "remaining_time": 6.604259275
                      },
                      {
                        "learn": [
                          0.2617851169
                        ],
                        "iteration": 135,
                        "passed_time": 2.448015381,
                        "remaining_time": 6.552041167
                      },
                      {
                        "learn": [
                          0.2610381026
                        ],
                        "iteration": 136,
                        "passed_time": 2.45363976,
                        "remaining_time": 6.501249874
                      },
                      {
                        "learn": [
                          0.260488426
                        ],
                        "iteration": 137,
                        "passed_time": 2.459905151,
                        "remaining_time": 6.452794672
                      },
                      {
                        "learn": [
                          0.2597757553
                        ],
                        "iteration": 138,
                        "passed_time": 2.465413274,
                        "remaining_time": 6.402979799
                      },
                      {
                        "learn": [
                          0.2589373742
                        ],
                        "iteration": 139,
                        "passed_time": 2.471082338,
                        "remaining_time": 6.354211726
                      },
                      {
                        "learn": [
                          0.2581546483
                        ],
                        "iteration": 140,
                        "passed_time": 2.476390654,
                        "remaining_time": 6.305136488
                      },
                      {
                        "learn": [
                          0.2576231068
                        ],
                        "iteration": 141,
                        "passed_time": 2.481934046,
                        "remaining_time": 6.25727034
                      },
                      {
                        "learn": [
                          0.2572377749
                        ],
                        "iteration": 142,
                        "passed_time": 2.485225229,
                        "remaining_time": 6.204373474
                      },
                      {
                        "learn": [
                          0.2566797253
                        ],
                        "iteration": 143,
                        "passed_time": 2.490476021,
                        "remaining_time": 6.157010164
                      },
                      {
                        "learn": [
                          0.2563064394
                        ],
                        "iteration": 144,
                        "passed_time": 2.496019769,
                        "remaining_time": 6.110944952
                      },
                      {
                        "learn": [
                          0.2557529807
                        ],
                        "iteration": 145,
                        "passed_time": 2.501485701,
                        "remaining_time": 6.065246152
                      },
                      {
                        "learn": [
                          0.2549525974
                        ],
                        "iteration": 146,
                        "passed_time": 2.507226857,
                        "remaining_time": 6.020755649
                      },
                      {
                        "learn": [
                          0.2542339788
                        ],
                        "iteration": 147,
                        "passed_time": 2.513063307,
                        "remaining_time": 5.977015433
                      },
                      {
                        "learn": [
                          0.2535658469
                        ],
                        "iteration": 148,
                        "passed_time": 2.518281293,
                        "remaining_time": 5.932327073
                      },
                      {
                        "learn": [
                          0.252879491
                        ],
                        "iteration": 149,
                        "passed_time": 2.523866504,
                        "remaining_time": 5.889021843
                      },
                      {
                        "learn": [
                          0.2524451818
                        ],
                        "iteration": 150,
                        "passed_time": 2.529429067,
                        "remaining_time": 5.846163871
                      },
                      {
                        "learn": [
                          0.2517179522
                        ],
                        "iteration": 151,
                        "passed_time": 2.534864755,
                        "remaining_time": 5.80350615
                      },
                      {
                        "learn": [
                          0.2508362025
                        ],
                        "iteration": 152,
                        "passed_time": 2.540295816,
                        "remaining_time": 5.761324497
                      },
                      {
                        "learn": [
                          0.2502174596
                        ],
                        "iteration": 153,
                        "passed_time": 2.546035462,
                        "remaining_time": 5.720313441
                      },
                      {
                        "learn": [
                          0.2496667113
                        ],
                        "iteration": 154,
                        "passed_time": 2.551415297,
                        "remaining_time": 5.678956629
                      },
                      {
                        "learn": [
                          0.2485935431
                        ],
                        "iteration": 155,
                        "passed_time": 2.557285983,
                        "remaining_time": 5.63914345
                      },
                      {
                        "learn": [
                          0.2479438029
                        ],
                        "iteration": 156,
                        "passed_time": 2.562771859,
                        "remaining_time": 5.59892196
                      },
                      {
                        "learn": [
                          0.2474026471
                        ],
                        "iteration": 157,
                        "passed_time": 2.568227302,
                        "remaining_time": 5.559074287
                      },
                      {
                        "learn": [
                          0.246674802
                        ],
                        "iteration": 158,
                        "passed_time": 2.573881885,
                        "remaining_time": 5.520086307
                      },
                      {
                        "learn": [
                          0.2459551024
                        ],
                        "iteration": 159,
                        "passed_time": 2.579079999,
                        "remaining_time": 5.480544999
                      },
                      {
                        "learn": [
                          0.2450562319
                        ],
                        "iteration": 160,
                        "passed_time": 2.584879228,
                        "remaining_time": 5.442696013
                      },
                      {
                        "learn": [
                          0.2443632526
                        ],
                        "iteration": 161,
                        "passed_time": 2.590164674,
                        "remaining_time": 5.40417074
                      },
                      {
                        "learn": [
                          0.2439971103
                        ],
                        "iteration": 162,
                        "passed_time": 2.595578708,
                        "remaining_time": 5.36631917
                      },
                      {
                        "learn": [
                          0.2435922367
                        ],
                        "iteration": 163,
                        "passed_time": 2.60095961,
                        "remaining_time": 5.328795299
                      },
                      {
                        "learn": [
                          0.2431794386
                        ],
                        "iteration": 164,
                        "passed_time": 2.606455209,
                        "remaining_time": 5.291893909
                      },
                      {
                        "learn": [
                          0.2424302027
                        ],
                        "iteration": 165,
                        "passed_time": 2.612117157,
                        "remaining_time": 5.255705606
                      },
                      {
                        "learn": [
                          0.2419686773
                        ],
                        "iteration": 166,
                        "passed_time": 2.617862616,
                        "remaining_time": 5.220049408
                      },
                      {
                        "learn": [
                          0.2410991532
                        ],
                        "iteration": 167,
                        "passed_time": 2.623434239,
                        "remaining_time": 5.184405759
                      },
                      {
                        "learn": [
                          0.2404984619
                        ],
                        "iteration": 168,
                        "passed_time": 2.628930328,
                        "remaining_time": 5.148970051
                      },
                      {
                        "learn": [
                          0.2398324827
                        ],
                        "iteration": 169,
                        "passed_time": 2.634203235,
                        "remaining_time": 5.113453338
                      },
                      {
                        "learn": [
                          0.2392691008
                        ],
                        "iteration": 170,
                        "passed_time": 2.639639251,
                        "remaining_time": 5.078604173
                      },
                      {
                        "learn": [
                          0.2387146427
                        ],
                        "iteration": 171,
                        "passed_time": 2.645126566,
                        "remaining_time": 5.044194847
                      },
                      {
                        "learn": [
                          0.2385327997
                        ],
                        "iteration": 172,
                        "passed_time": 2.647883577,
                        "remaining_time": 5.004959131
                      },
                      {
                        "learn": [
                          0.237495966
                        ],
                        "iteration": 173,
                        "passed_time": 2.653154288,
                        "remaining_time": 4.970852286
                      },
                      {
                        "learn": [
                          0.2366261691
                        ],
                        "iteration": 174,
                        "passed_time": 2.658446594,
                        "remaining_time": 4.937115103
                      },
                      {
                        "learn": [
                          0.2360653636
                        ],
                        "iteration": 175,
                        "passed_time": 2.66381555,
                        "remaining_time": 4.903842263
                      },
                      {
                        "learn": [
                          0.2353579862
                        ],
                        "iteration": 176,
                        "passed_time": 2.668955438,
                        "remaining_time": 4.870466704
                      },
                      {
                        "learn": [
                          0.2349024699
                        ],
                        "iteration": 177,
                        "passed_time": 2.674310831,
                        "remaining_time": 4.837798245
                      },
                      {
                        "learn": [
                          0.233639933
                        ],
                        "iteration": 178,
                        "passed_time": 2.679627252,
                        "remaining_time": 4.805365072
                      },
                      {
                        "learn": [
                          0.2329652524
                        ],
                        "iteration": 179,
                        "passed_time": 2.685117678,
                        "remaining_time": 4.773542538
                      },
                      {
                        "learn": [
                          0.2325196659
                        ],
                        "iteration": 180,
                        "passed_time": 2.690501265,
                        "remaining_time": 4.741822671
                      },
                      {
                        "learn": [
                          0.2321259915
                        ],
                        "iteration": 181,
                        "passed_time": 2.696309641,
                        "remaining_time": 4.711134427
                      },
                      {
                        "learn": [
                          0.2316630897
                        ],
                        "iteration": 182,
                        "passed_time": 2.702216447,
                        "remaining_time": 4.6808886
                      },
                      {
                        "learn": [
                          0.2312364315
                        ],
                        "iteration": 183,
                        "passed_time": 2.707765793,
                        "remaining_time": 4.650293428
                      },
                      {
                        "learn": [
                          0.2310530211
                        ],
                        "iteration": 184,
                        "passed_time": 2.712942691,
                        "remaining_time": 4.619334852
                      },
                      {
                        "learn": [
                          0.2305844767
                        ],
                        "iteration": 185,
                        "passed_time": 2.718401912,
                        "remaining_time": 4.58913011
                      },
                      {
                        "learn": [
                          0.2293802293
                        ],
                        "iteration": 186,
                        "passed_time": 2.72408014,
                        "remaining_time": 4.559556598
                      },
                      {
                        "learn": [
                          0.2291555016
                        ],
                        "iteration": 187,
                        "passed_time": 2.729757048,
                        "remaining_time": 4.530235101
                      },
                      {
                        "learn": [
                          0.2286537041
                        ],
                        "iteration": 188,
                        "passed_time": 2.73547402,
                        "remaining_time": 4.501229737
                      },
                      {
                        "learn": [
                          0.2283337761
                        ],
                        "iteration": 189,
                        "passed_time": 2.74093378,
                        "remaining_time": 4.472049852
                      },
                      {
                        "learn": [
                          0.228255734
                        ],
                        "iteration": 190,
                        "passed_time": 2.743672189,
                        "remaining_time": 4.43871574
                      },
                      {
                        "learn": [
                          0.2278999909
                        ],
                        "iteration": 191,
                        "passed_time": 2.749453075,
                        "remaining_time": 4.410580975
                      },
                      {
                        "learn": [
                          0.2274512143
                        ],
                        "iteration": 192,
                        "passed_time": 2.755188884,
                        "remaining_time": 4.382606153
                      },
                      {
                        "learn": [
                          0.2272670709
                        ],
                        "iteration": 193,
                        "passed_time": 2.760640526,
                        "remaining_time": 4.354412377
                      },
                      {
                        "learn": [
                          0.2268167134
                        ],
                        "iteration": 194,
                        "passed_time": 2.76618648,
                        "remaining_time": 4.326599366
                      },
                      {
                        "learn": [
                          0.2263842749
                        ],
                        "iteration": 195,
                        "passed_time": 2.772092898,
                        "remaining_time": 4.299572658
                      },
                      {
                        "learn": [
                          0.2258586132
                        ],
                        "iteration": 196,
                        "passed_time": 2.777631082,
                        "remaining_time": 4.272193999
                      },
                      {
                        "learn": [
                          0.2246120268
                        ],
                        "iteration": 197,
                        "passed_time": 2.783341602,
                        "remaining_time": 4.245298807
                      },
                      {
                        "learn": [
                          0.2236850353
                        ],
                        "iteration": 198,
                        "passed_time": 2.789400181,
                        "remaining_time": 4.219142988
                      },
                      {
                        "learn": [
                          0.2230680769
                        ],
                        "iteration": 199,
                        "passed_time": 2.796216569,
                        "remaining_time": 4.194324854
                      },
                      {
                        "learn": [
                          0.2224147754
                        ],
                        "iteration": 200,
                        "passed_time": 2.8018107,
                        "remaining_time": 4.167867659
                      },
                      {
                        "learn": [
                          0.222370944
                        ],
                        "iteration": 201,
                        "passed_time": 2.80465457,
                        "remaining_time": 4.137559712
                      },
                      {
                        "learn": [
                          0.221929905
                        ],
                        "iteration": 202,
                        "passed_time": 2.810273621,
                        "remaining_time": 4.111582588
                      },
                      {
                        "learn": [
                          0.2212819909
                        ],
                        "iteration": 203,
                        "passed_time": 2.815757031,
                        "remaining_time": 4.085608241
                      },
                      {
                        "learn": [
                          0.2208595343
                        ],
                        "iteration": 204,
                        "passed_time": 2.821107936,
                        "remaining_time": 4.059643127
                      },
                      {
                        "learn": [
                          0.2204797921
                        ],
                        "iteration": 205,
                        "passed_time": 2.828508536,
                        "remaining_time": 4.036803444
                      },
                      {
                        "learn": [
                          0.2198998585
                        ],
                        "iteration": 206,
                        "passed_time": 2.836660258,
                        "remaining_time": 4.015176115
                      },
                      {
                        "learn": [
                          0.2193185979
                        ],
                        "iteration": 207,
                        "passed_time": 2.842325767,
                        "remaining_time": 3.990188096
                      },
                      {
                        "learn": [
                          0.2188201403
                        ],
                        "iteration": 208,
                        "passed_time": 2.847524705,
                        "remaining_time": 3.964735354
                      },
                      {
                        "learn": [
                          0.2184886342
                        ],
                        "iteration": 209,
                        "passed_time": 2.853315014,
                        "remaining_time": 3.940292162
                      },
                      {
                        "learn": [
                          0.2183424764
                        ],
                        "iteration": 210,
                        "passed_time": 2.858543268,
                        "remaining_time": 3.915255945
                      },
                      {
                        "learn": [
                          0.2176673693
                        ],
                        "iteration": 211,
                        "passed_time": 2.86411817,
                        "remaining_time": 3.890877514
                      },
                      {
                        "learn": [
                          0.2173334981
                        ],
                        "iteration": 212,
                        "passed_time": 2.870046642,
                        "remaining_time": 3.867152048
                      },
                      {
                        "learn": [
                          0.2170533387
                        ],
                        "iteration": 213,
                        "passed_time": 2.875381299,
                        "remaining_time": 3.842799307
                      },
                      {
                        "learn": [
                          0.2167086898
                        ],
                        "iteration": 214,
                        "passed_time": 2.881066255,
                        "remaining_time": 3.819087826
                      },
                      {
                        "learn": [
                          0.2157596328
                        ],
                        "iteration": 215,
                        "passed_time": 2.886578505,
                        "remaining_time": 3.795316183
                      },
                      {
                        "learn": [
                          0.2151841645
                        ],
                        "iteration": 216,
                        "passed_time": 2.891976415,
                        "remaining_time": 3.771563712
                      },
                      {
                        "learn": [
                          0.2146512353
                        ],
                        "iteration": 217,
                        "passed_time": 2.897598409,
                        "remaining_time": 3.748269502
                      },
                      {
                        "learn": [
                          0.2141072377
                        ],
                        "iteration": 218,
                        "passed_time": 2.902933906,
                        "remaining_time": 3.724769076
                      },
                      {
                        "learn": [
                          0.2134795367
                        ],
                        "iteration": 219,
                        "passed_time": 2.908577558,
                        "remaining_time": 3.701825983
                      },
                      {
                        "learn": [
                          0.2130222725
                        ],
                        "iteration": 220,
                        "passed_time": 2.914195558,
                        "remaining_time": 3.679007061
                      },
                      {
                        "learn": [
                          0.2126509067
                        ],
                        "iteration": 221,
                        "passed_time": 2.919936639,
                        "remaining_time": 3.656497233
                      },
                      {
                        "learn": [
                          0.2126009349
                        ],
                        "iteration": 222,
                        "passed_time": 2.922715481,
                        "remaining_time": 3.630458244
                      },
                      {
                        "learn": [
                          0.2119074927
                        ],
                        "iteration": 223,
                        "passed_time": 2.934174397,
                        "remaining_time": 3.615322025
                      },
                      {
                        "learn": [
                          0.2115777227
                        ],
                        "iteration": 224,
                        "passed_time": 2.948747071,
                        "remaining_time": 3.604024197
                      },
                      {
                        "learn": [
                          0.21144613
                        ],
                        "iteration": 225,
                        "passed_time": 2.954773646,
                        "remaining_time": 3.58233619
                      },
                      {
                        "learn": [
                          0.2114098939
                        ],
                        "iteration": 226,
                        "passed_time": 2.956893684,
                        "remaining_time": 3.556087998
                      },
                      {
                        "learn": [
                          0.2109116665
                        ],
                        "iteration": 227,
                        "passed_time": 2.962124078,
                        "remaining_time": 3.533762058
                      },
                      {
                        "learn": [
                          0.210366445
                        ],
                        "iteration": 228,
                        "passed_time": 2.967706469,
                        "remaining_time": 3.512001979
                      },
                      {
                        "learn": [
                          0.2098339411
                        ],
                        "iteration": 229,
                        "passed_time": 2.972908944,
                        "remaining_time": 3.489936586
                      },
                      {
                        "learn": [
                          0.2096203055
                        ],
                        "iteration": 230,
                        "passed_time": 2.978415977,
                        "remaining_time": 3.468371853
                      },
                      {
                        "learn": [
                          0.2092697786
                        ],
                        "iteration": 231,
                        "passed_time": 2.983522505,
                        "remaining_time": 3.446482894
                      },
                      {
                        "learn": [
                          0.2084341449
                        ],
                        "iteration": 232,
                        "passed_time": 2.989024091,
                        "remaining_time": 3.425190697
                      },
                      {
                        "learn": [
                          0.2080857726
                        ],
                        "iteration": 233,
                        "passed_time": 2.994431598,
                        "remaining_time": 3.403926518
                      },
                      {
                        "learn": [
                          0.2075815972
                        ],
                        "iteration": 234,
                        "passed_time": 2.999908477,
                        "remaining_time": 3.382875517
                      },
                      {
                        "learn": [
                          0.2071436563
                        ],
                        "iteration": 235,
                        "passed_time": 3.009382394,
                        "remaining_time": 3.366427763
                      },
                      {
                        "learn": [
                          0.207038226
                        ],
                        "iteration": 236,
                        "passed_time": 3.012910786,
                        "remaining_time": 3.343441083
                      },
                      {
                        "learn": [
                          0.2067735244
                        ],
                        "iteration": 237,
                        "passed_time": 3.019018535,
                        "remaining_time": 3.323457379
                      },
                      {
                        "learn": [
                          0.206176023
                        ],
                        "iteration": 238,
                        "passed_time": 3.024793051,
                        "remaining_time": 3.303225884
                      },
                      {
                        "learn": [
                          0.2059308658
                        ],
                        "iteration": 239,
                        "passed_time": 3.030449488,
                        "remaining_time": 3.282986945
                      },
                      {
                        "learn": [
                          0.2053730009
                        ],
                        "iteration": 240,
                        "passed_time": 3.035906524,
                        "remaining_time": 3.262654729
                      },
                      {
                        "learn": [
                          0.2049757784
                        ],
                        "iteration": 241,
                        "passed_time": 3.041253395,
                        "remaining_time": 3.242327999
                      },
                      {
                        "learn": [
                          0.2044964796
                        ],
                        "iteration": 242,
                        "passed_time": 3.046830249,
                        "remaining_time": 3.222367794
                      },
                      {
                        "learn": [
                          0.2036275753
                        ],
                        "iteration": 243,
                        "passed_time": 3.052657935,
                        "remaining_time": 3.202788653
                      },
                      {
                        "learn": [
                          0.2035772647
                        ],
                        "iteration": 244,
                        "passed_time": 3.056181423,
                        "remaining_time": 3.180923522
                      },
                      {
                        "learn": [
                          0.2032392292
                        ],
                        "iteration": 245,
                        "passed_time": 3.061674638,
                        "remaining_time": 3.161241293
                      },
                      {
                        "learn": [
                          0.2031176136
                        ],
                        "iteration": 246,
                        "passed_time": 3.067247813,
                        "remaining_time": 3.141755857
                      },
                      {
                        "learn": [
                          0.2030109925
                        ],
                        "iteration": 247,
                        "passed_time": 3.070083359,
                        "remaining_time": 3.119600833
                      },
                      {
                        "learn": [
                          0.2025867918
                        ],
                        "iteration": 248,
                        "passed_time": 3.078223776,
                        "remaining_time": 3.102948465
                      },
                      {
                        "learn": [
                          0.2021322818
                        ],
                        "iteration": 249,
                        "passed_time": 3.083938821,
                        "remaining_time": 3.083938821
                      },
                      {
                        "learn": [
                          0.2016204375
                        ],
                        "iteration": 250,
                        "passed_time": 3.089635042,
                        "remaining_time": 3.065016436
                      },
                      {
                        "learn": [
                          0.2009262981
                        ],
                        "iteration": 251,
                        "passed_time": 3.095560695,
                        "remaining_time": 3.046424811
                      },
                      {
                        "learn": [
                          0.2008166986
                        ],
                        "iteration": 252,
                        "passed_time": 3.10142621,
                        "remaining_time": 3.0278746
                      },
                      {
                        "learn": [
                          0.2003245332
                        ],
                        "iteration": 253,
                        "passed_time": 3.106933455,
                        "remaining_time": 3.009077283
                      },
                      {
                        "learn": [
                          0.200097163
                        ],
                        "iteration": 254,
                        "passed_time": 3.112813319,
                        "remaining_time": 2.990742208
                      },
                      {
                        "learn": [
                          0.1993793331
                        ],
                        "iteration": 255,
                        "passed_time": 3.118553433,
                        "remaining_time": 2.972371241
                      },
                      {
                        "learn": [
                          0.1989489445
                        ],
                        "iteration": 256,
                        "passed_time": 3.124379781,
                        "remaining_time": 2.954180104
                      },
                      {
                        "learn": [
                          0.198595013
                        ],
                        "iteration": 257,
                        "passed_time": 3.13018454,
                        "remaining_time": 2.936064569
                      },
                      {
                        "learn": [
                          0.1982073184
                        ],
                        "iteration": 258,
                        "passed_time": 3.135777046,
                        "remaining_time": 2.917846595
                      },
                      {
                        "learn": [
                          0.1976968863
                        ],
                        "iteration": 259,
                        "passed_time": 3.141267028,
                        "remaining_time": 2.899631103
                      },
                      {
                        "learn": [
                          0.1971678181
                        ],
                        "iteration": 260,
                        "passed_time": 3.147037771,
                        "remaining_time": 2.88177022
                      },
                      {
                        "learn": [
                          0.1967283007
                        ],
                        "iteration": 261,
                        "passed_time": 3.152835109,
                        "remaining_time": 2.864025786
                      },
                      {
                        "learn": [
                          0.1964103778
                        ],
                        "iteration": 262,
                        "passed_time": 3.157946848,
                        "remaining_time": 2.845754384
                      },
                      {
                        "learn": [
                          0.1959914553
                        ],
                        "iteration": 263,
                        "passed_time": 3.163479003,
                        "remaining_time": 2.827958503
                      },
                      {
                        "learn": [
                          0.1951841655
                        ],
                        "iteration": 264,
                        "passed_time": 3.168932772,
                        "remaining_time": 2.810185666
                      },
                      {
                        "learn": [
                          0.1944939729
                        ],
                        "iteration": 265,
                        "passed_time": 3.174298062,
                        "remaining_time": 2.792427619
                      },
                      {
                        "learn": [
                          0.1940670962
                        ],
                        "iteration": 266,
                        "passed_time": 3.180058966,
                        "remaining_time": 2.775107637
                      },
                      {
                        "learn": [
                          0.1936208431
                        ],
                        "iteration": 267,
                        "passed_time": 3.185546775,
                        "remaining_time": 2.757637507
                      },
                      {
                        "learn": [
                          0.1933843347
                        ],
                        "iteration": 268,
                        "passed_time": 3.192984929,
                        "remaining_time": 2.741931296
                      },
                      {
                        "learn": [
                          0.1930355981
                        ],
                        "iteration": 269,
                        "passed_time": 3.198900035,
                        "remaining_time": 2.724988919
                      },
                      {
                        "learn": [
                          0.1925179843
                        ],
                        "iteration": 270,
                        "passed_time": 3.204475758,
                        "remaining_time": 2.707841139
                      },
                      {
                        "learn": [
                          0.192128822
                        ],
                        "iteration": 271,
                        "passed_time": 3.210397557,
                        "remaining_time": 2.69106854
                      },
                      {
                        "learn": [
                          0.1915752288
                        ],
                        "iteration": 272,
                        "passed_time": 3.216366086,
                        "remaining_time": 2.674414291
                      },
                      {
                        "learn": [
                          0.1910640541
                        ],
                        "iteration": 273,
                        "passed_time": 3.222090934,
                        "remaining_time": 2.657637048
                      },
                      {
                        "learn": [
                          0.1908806723
                        ],
                        "iteration": 274,
                        "passed_time": 3.22793851,
                        "remaining_time": 2.641040599
                      },
                      {
                        "learn": [
                          0.19060822
                        ],
                        "iteration": 275,
                        "passed_time": 3.233653811,
                        "remaining_time": 2.624414687
                      },
                      {
                        "learn": [
                          0.1900529125
                        ],
                        "iteration": 276,
                        "passed_time": 3.239071591,
                        "remaining_time": 2.607628032
                      },
                      {
                        "learn": [
                          0.1896271686
                        ],
                        "iteration": 277,
                        "passed_time": 3.244776038,
                        "remaining_time": 2.591152088
                      },
                      {
                        "learn": [
                          0.1892684601
                        ],
                        "iteration": 278,
                        "passed_time": 3.250426845,
                        "remaining_time": 2.57471087
                      },
                      {
                        "learn": [
                          0.1889037675
                        ],
                        "iteration": 279,
                        "passed_time": 3.256189684,
                        "remaining_time": 2.558434752
                      },
                      {
                        "learn": [
                          0.1884630433
                        ],
                        "iteration": 280,
                        "passed_time": 3.261892184,
                        "remaining_time": 2.542186435
                      },
                      {
                        "learn": [
                          0.188104216
                        ],
                        "iteration": 281,
                        "passed_time": 3.267305687,
                        "remaining_time": 2.525789503
                      },
                      {
                        "learn": [
                          0.1876343274
                        ],
                        "iteration": 282,
                        "passed_time": 3.272934975,
                        "remaining_time": 2.509635652
                      },
                      {
                        "learn": [
                          0.1871432644
                        ],
                        "iteration": 283,
                        "passed_time": 3.279145276,
                        "remaining_time": 2.493997816
                      },
                      {
                        "learn": [
                          0.1868669286
                        ],
                        "iteration": 284,
                        "passed_time": 3.284909652,
                        "remaining_time": 2.478089737
                      },
                      {
                        "learn": [
                          0.1862330621
                        ],
                        "iteration": 285,
                        "passed_time": 3.290454633,
                        "remaining_time": 2.462088432
                      },
                      {
                        "learn": [
                          0.1857229114
                        ],
                        "iteration": 286,
                        "passed_time": 3.296244282,
                        "remaining_time": 2.446341575
                      },
                      {
                        "learn": [
                          0.1851193633
                        ],
                        "iteration": 287,
                        "passed_time": 3.301934183,
                        "remaining_time": 2.430590441
                      },
                      {
                        "learn": [
                          0.184933679
                        ],
                        "iteration": 288,
                        "passed_time": 3.307842434,
                        "remaining_time": 2.415068352
                      },
                      {
                        "learn": [
                          0.1845381917
                        ],
                        "iteration": 289,
                        "passed_time": 3.313417197,
                        "remaining_time": 2.399371073
                      },
                      {
                        "learn": [
                          0.1840843881
                        ],
                        "iteration": 290,
                        "passed_time": 3.319089433,
                        "remaining_time": 2.383813373
                      },
                      {
                        "learn": [
                          0.1834008878
                        ],
                        "iteration": 291,
                        "passed_time": 3.324910612,
                        "remaining_time": 2.368429477
                      },
                      {
                        "learn": [
                          0.1828915786
                        ],
                        "iteration": 292,
                        "passed_time": 3.330440228,
                        "remaining_time": 2.352904871
                      },
                      {
                        "learn": [
                          0.1826397938
                        ],
                        "iteration": 293,
                        "passed_time": 3.335971969,
                        "remaining_time": 2.337449747
                      },
                      {
                        "learn": [
                          0.1820171518
                        ],
                        "iteration": 294,
                        "passed_time": 3.34139085,
                        "remaining_time": 2.321983472
                      },
                      {
                        "learn": [
                          0.181348131
                        ],
                        "iteration": 295,
                        "passed_time": 3.348125348,
                        "remaining_time": 2.307491794
                      },
                      {
                        "learn": [
                          0.1807194779
                        ],
                        "iteration": 296,
                        "passed_time": 3.35628563,
                        "remaining_time": 2.294026879
                      },
                      {
                        "learn": [
                          0.1804735058
                        ],
                        "iteration": 297,
                        "passed_time": 3.367003997,
                        "remaining_time": 2.282331568
                      },
                      {
                        "learn": [
                          0.1798908667
                        ],
                        "iteration": 298,
                        "passed_time": 3.379159997,
                        "remaining_time": 2.271609229
                      },
                      {
                        "learn": [
                          0.1790848459
                        ],
                        "iteration": 299,
                        "passed_time": 3.384640114,
                        "remaining_time": 2.256426743
                      },
                      {
                        "learn": [
                          0.178713748
                        ],
                        "iteration": 300,
                        "passed_time": 3.392642016,
                        "remaining_time": 2.242975951
                      },
                      {
                        "learn": [
                          0.1782607119
                        ],
                        "iteration": 301,
                        "passed_time": 3.404791336,
                        "remaining_time": 2.232280413
                      },
                      {
                        "learn": [
                          0.177858289
                        ],
                        "iteration": 302,
                        "passed_time": 3.412426187,
                        "remaining_time": 2.218640128
                      },
                      {
                        "learn": [
                          0.1774682282
                        ],
                        "iteration": 303,
                        "passed_time": 3.417916442,
                        "remaining_time": 2.203656654
                      },
                      {
                        "learn": [
                          0.1769951599
                        ],
                        "iteration": 304,
                        "passed_time": 3.423345872,
                        "remaining_time": 2.188696541
                      },
                      {
                        "learn": [
                          0.1764775016
                        ],
                        "iteration": 305,
                        "passed_time": 3.429426232,
                        "remaining_time": 2.174211402
                      },
                      {
                        "learn": [
                          0.1763349169
                        ],
                        "iteration": 306,
                        "passed_time": 3.442408974,
                        "remaining_time": 2.1641203
                      },
                      {
                        "learn": [
                          0.1759509722
                        ],
                        "iteration": 307,
                        "passed_time": 3.450329984,
                        "remaining_time": 2.150855055
                      },
                      {
                        "learn": [
                          0.1757253217
                        ],
                        "iteration": 308,
                        "passed_time": 3.46031525,
                        "remaining_time": 2.138900365
                      },
                      {
                        "learn": [
                          0.1754045252
                        ],
                        "iteration": 309,
                        "passed_time": 3.465918781,
                        "remaining_time": 2.124272801
                      },
                      {
                        "learn": [
                          0.1752965277
                        ],
                        "iteration": 310,
                        "passed_time": 3.471397115,
                        "remaining_time": 2.109627186
                      },
                      {
                        "learn": [
                          0.1748663127
                        ],
                        "iteration": 311,
                        "passed_time": 3.477109146,
                        "remaining_time": 2.095181152
                      },
                      {
                        "learn": [
                          0.1746323477
                        ],
                        "iteration": 312,
                        "passed_time": 3.482753174,
                        "remaining_time": 2.080750299
                      },
                      {
                        "learn": [
                          0.1743289607
                        ],
                        "iteration": 313,
                        "passed_time": 3.488623549,
                        "remaining_time": 2.066509491
                      },
                      {
                        "learn": [
                          0.173995376
                        ],
                        "iteration": 314,
                        "passed_time": 3.49436798,
                        "remaining_time": 2.052247861
                      },
                      {
                        "learn": [
                          0.1736395963
                        ],
                        "iteration": 315,
                        "passed_time": 3.500209888,
                        "remaining_time": 2.038096897
                      },
                      {
                        "learn": [
                          0.173249536
                        ],
                        "iteration": 316,
                        "passed_time": 3.506176628,
                        "remaining_time": 2.024070419
                      },
                      {
                        "learn": [
                          0.1727001495
                        ],
                        "iteration": 317,
                        "passed_time": 3.511997961,
                        "remaining_time": 2.010011411
                      },
                      {
                        "learn": [
                          0.1726177207
                        ],
                        "iteration": 318,
                        "passed_time": 3.517669712,
                        "remaining_time": 1.995919178
                      },
                      {
                        "learn": [
                          0.1725312767
                        ],
                        "iteration": 319,
                        "passed_time": 3.522953074,
                        "remaining_time": 1.981661104
                      },
                      {
                        "learn": [
                          0.1722401504
                        ],
                        "iteration": 320,
                        "passed_time": 3.52838602,
                        "remaining_time": 1.96754236
                      },
                      {
                        "learn": [
                          0.1718493735
                        ],
                        "iteration": 321,
                        "passed_time": 3.533827964,
                        "remaining_time": 1.953482539
                      },
                      {
                        "learn": [
                          0.1714652355
                        ],
                        "iteration": 322,
                        "passed_time": 3.539425567,
                        "remaining_time": 1.939561379
                      },
                      {
                        "learn": [
                          0.1714124807
                        ],
                        "iteration": 323,
                        "passed_time": 3.544703623,
                        "remaining_time": 1.925518017
                      },
                      {
                        "learn": [
                          0.1709963838
                        ],
                        "iteration": 324,
                        "passed_time": 3.550233045,
                        "remaining_time": 1.911663947
                      },
                      {
                        "learn": [
                          0.1704804165
                        ],
                        "iteration": 325,
                        "passed_time": 3.555607441,
                        "remaining_time": 1.897778205
                      },
                      {
                        "learn": [
                          0.1701752706
                        ],
                        "iteration": 326,
                        "passed_time": 3.561273172,
                        "remaining_time": 1.884098651
                      },
                      {
                        "learn": [
                          0.1698561594
                        ],
                        "iteration": 327,
                        "passed_time": 3.566967161,
                        "remaining_time": 1.87048278
                      },
                      {
                        "learn": [
                          0.1694108757
                        ],
                        "iteration": 328,
                        "passed_time": 3.5722984,
                        "remaining_time": 1.856726524
                      },
                      {
                        "learn": [
                          0.1692345756
                        ],
                        "iteration": 329,
                        "passed_time": 3.578166986,
                        "remaining_time": 1.843298144
                      },
                      {
                        "learn": [
                          0.1690583469
                        ],
                        "iteration": 330,
                        "passed_time": 3.583467596,
                        "remaining_time": 1.829625449
                      },
                      {
                        "learn": [
                          0.1688485791
                        ],
                        "iteration": 331,
                        "passed_time": 3.588945607,
                        "remaining_time": 1.816092958
                      },
                      {
                        "learn": [
                          0.1685924589
                        ],
                        "iteration": 332,
                        "passed_time": 3.59838458,
                        "remaining_time": 1.80459527
                      },
                      {
                        "learn": [
                          0.1682757293
                        ],
                        "iteration": 333,
                        "passed_time": 3.603987376,
                        "remaining_time": 1.791203307
                      },
                      {
                        "learn": [
                          0.1678415026
                        ],
                        "iteration": 334,
                        "passed_time": 3.609442884,
                        "remaining_time": 1.777785301
                      },
                      {
                        "learn": [
                          0.1676767655
                        ],
                        "iteration": 335,
                        "passed_time": 3.614896145,
                        "remaining_time": 1.764413595
                      },
                      {
                        "learn": [
                          0.1670794676
                        ],
                        "iteration": 336,
                        "passed_time": 3.620218477,
                        "remaining_time": 1.751025554
                      },
                      {
                        "learn": [
                          0.1670334463
                        ],
                        "iteration": 337,
                        "passed_time": 3.62542087,
                        "remaining_time": 1.737627754
                      },
                      {
                        "learn": [
                          0.1666698721
                        ],
                        "iteration": 338,
                        "passed_time": 3.630726574,
                        "remaining_time": 1.72432737
                      },
                      {
                        "learn": [
                          0.1664343582
                        ],
                        "iteration": 339,
                        "passed_time": 3.636237115,
                        "remaining_time": 1.711170407
                      },
                      {
                        "learn": [
                          0.1662072207
                        ],
                        "iteration": 340,
                        "passed_time": 3.641463872,
                        "remaining_time": 1.69792597
                      },
                      {
                        "learn": [
                          0.165905702
                        ],
                        "iteration": 341,
                        "passed_time": 3.646868315,
                        "remaining_time": 1.684810508
                      },
                      {
                        "learn": [
                          0.1654794911
                        ],
                        "iteration": 342,
                        "passed_time": 3.652367596,
                        "remaining_time": 1.671783419
                      },
                      {
                        "learn": [
                          0.1647671302
                        ],
                        "iteration": 343,
                        "passed_time": 3.657760822,
                        "remaining_time": 1.658752
                      },
                      {
                        "learn": [
                          0.1644701805
                        ],
                        "iteration": 344,
                        "passed_time": 3.662974795,
                        "remaining_time": 1.645684328
                      },
                      {
                        "learn": [
                          0.1643775415
                        ],
                        "iteration": 345,
                        "passed_time": 3.668436398,
                        "remaining_time": 1.63277227
                      },
                      {
                        "learn": [
                          0.1639582599
                        ],
                        "iteration": 346,
                        "passed_time": 3.673851939,
                        "remaining_time": 1.619882843
                      },
                      {
                        "learn": [
                          0.1639412246
                        ],
                        "iteration": 347,
                        "passed_time": 3.676156525,
                        "remaining_time": 1.605677563
                      },
                      {
                        "learn": [
                          0.1634945151
                        ],
                        "iteration": 348,
                        "passed_time": 3.68152061,
                        "remaining_time": 1.592864218
                      },
                      {
                        "learn": [
                          0.1632008754
                        ],
                        "iteration": 349,
                        "passed_time": 3.687378055,
                        "remaining_time": 1.580304881
                      },
                      {
                        "learn": [
                          0.1628457154
                        ],
                        "iteration": 350,
                        "passed_time": 3.692913632,
                        "remaining_time": 1.567647097
                      },
                      {
                        "learn": [
                          0.1623216607
                        ],
                        "iteration": 351,
                        "passed_time": 3.698258499,
                        "remaining_time": 1.554949596
                      },
                      {
                        "learn": [
                          0.1617180531
                        ],
                        "iteration": 352,
                        "passed_time": 3.703695332,
                        "remaining_time": 1.542332051
                      },
                      {
                        "learn": [
                          0.1612318662
                        ],
                        "iteration": 353,
                        "passed_time": 3.708899739,
                        "remaining_time": 1.529659215
                      },
                      {
                        "learn": [
                          0.1607973605
                        ],
                        "iteration": 354,
                        "passed_time": 3.714296379,
                        "remaining_time": 1.517106972
                      },
                      {
                        "learn": [
                          0.1604339131
                        ],
                        "iteration": 355,
                        "passed_time": 3.719410791,
                        "remaining_time": 1.504480769
                      },
                      {
                        "learn": [
                          0.1597369051
                        ],
                        "iteration": 356,
                        "passed_time": 3.724698704,
                        "remaining_time": 1.491966148
                      },
                      {
                        "learn": [
                          0.1593262235
                        ],
                        "iteration": 357,
                        "passed_time": 3.730136624,
                        "remaining_time": 1.479551398
                      },
                      {
                        "learn": [
                          0.1590807041
                        ],
                        "iteration": 358,
                        "passed_time": 3.735683,
                        "remaining_time": 1.467218114
                      },
                      {
                        "learn": [
                          0.1590057753
                        ],
                        "iteration": 359,
                        "passed_time": 3.740915032,
                        "remaining_time": 1.45480029
                      },
                      {
                        "learn": [
                          0.1584936959
                        ],
                        "iteration": 360,
                        "passed_time": 3.746544927,
                        "remaining_time": 1.442575471
                      },
                      {
                        "learn": [
                          0.1579727023
                        ],
                        "iteration": 361,
                        "passed_time": 3.752242105,
                        "remaining_time": 1.430412736
                      },
                      {
                        "learn": [
                          0.1576112945
                        ],
                        "iteration": 362,
                        "passed_time": 3.75775633,
                        "remaining_time": 1.418216576
                      },
                      {
                        "learn": [
                          0.1572917781
                        ],
                        "iteration": 363,
                        "passed_time": 3.763115409,
                        "remaining_time": 1.405999164
                      },
                      {
                        "learn": [
                          0.1571433721
                        ],
                        "iteration": 364,
                        "passed_time": 3.768944888,
                        "remaining_time": 1.393993315
                      },
                      {
                        "learn": [
                          0.1566279499
                        ],
                        "iteration": 365,
                        "passed_time": 3.774734185,
                        "remaining_time": 1.382006505
                      },
                      {
                        "learn": [
                          0.1561488953
                        ],
                        "iteration": 366,
                        "passed_time": 3.780153536,
                        "remaining_time": 1.369919401
                      },
                      {
                        "learn": [
                          0.1557347788
                        ],
                        "iteration": 367,
                        "passed_time": 3.78577365,
                        "remaining_time": 1.357940548
                      },
                      {
                        "learn": [
                          0.1552563697
                        ],
                        "iteration": 368,
                        "passed_time": 3.79097834,
                        "remaining_time": 1.345848679
                      },
                      {
                        "learn": [
                          0.1551547875
                        ],
                        "iteration": 369,
                        "passed_time": 3.796582497,
                        "remaining_time": 1.333934391
                      },
                      {
                        "learn": [
                          0.1550047189
                        ],
                        "iteration": 370,
                        "passed_time": 3.802184756,
                        "remaining_time": 1.32205346
                      },
                      {
                        "learn": [
                          0.1549910365
                        ],
                        "iteration": 371,
                        "passed_time": 3.804367244,
                        "remaining_time": 1.309029589
                      },
                      {
                        "learn": [
                          0.1545210433
                        ],
                        "iteration": 372,
                        "passed_time": 3.813090594,
                        "remaining_time": 1.298290899
                      },
                      {
                        "learn": [
                          0.1541958508
                        ],
                        "iteration": 373,
                        "passed_time": 3.821226485,
                        "remaining_time": 1.287365072
                      },
                      {
                        "learn": [
                          0.1537212405
                        ],
                        "iteration": 374,
                        "passed_time": 3.826704704,
                        "remaining_time": 1.275568235
                      },
                      {
                        "learn": [
                          0.1534040346
                        ],
                        "iteration": 375,
                        "passed_time": 3.832561349,
                        "remaining_time": 1.263929807
                      },
                      {
                        "learn": [
                          0.1531976971
                        ],
                        "iteration": 376,
                        "passed_time": 3.838332398,
                        "remaining_time": 1.252294124
                      },
                      {
                        "learn": [
                          0.1530782694
                        ],
                        "iteration": 377,
                        "passed_time": 3.843994173,
                        "remaining_time": 1.240654204
                      },
                      {
                        "learn": [
                          0.1526756893
                        ],
                        "iteration": 378,
                        "passed_time": 3.849553553,
                        "remaining_time": 1.229013139
                      },
                      {
                        "learn": [
                          0.1524284367
                        ],
                        "iteration": 379,
                        "passed_time": 3.854829261,
                        "remaining_time": 1.217314504
                      },
                      {
                        "learn": [
                          0.1521383356
                        ],
                        "iteration": 380,
                        "passed_time": 3.860102188,
                        "remaining_time": 1.205648715
                      },
                      {
                        "learn": [
                          0.1518199491
                        ],
                        "iteration": 381,
                        "passed_time": 3.865720383,
                        "remaining_time": 1.19412305
                      },
                      {
                        "learn": [
                          0.1516584498
                        ],
                        "iteration": 382,
                        "passed_time": 3.871401918,
                        "remaining_time": 1.182647583
                      },
                      {
                        "learn": [
                          0.1513544276
                        ],
                        "iteration": 383,
                        "passed_time": 3.877262386,
                        "remaining_time": 1.171256346
                      },
                      {
                        "learn": [
                          0.1511612444
                        ],
                        "iteration": 384,
                        "passed_time": 3.882688078,
                        "remaining_time": 1.159763971
                      },
                      {
                        "learn": [
                          0.1509770835
                        ],
                        "iteration": 385,
                        "passed_time": 3.888370061,
                        "remaining_time": 1.148378723
                      },
                      {
                        "learn": [
                          0.1505128315
                        ],
                        "iteration": 386,
                        "passed_time": 3.894086955,
                        "remaining_time": 1.137033142
                      },
                      {
                        "learn": [
                          0.1500643271
                        ],
                        "iteration": 387,
                        "passed_time": 3.899487441,
                        "remaining_time": 1.125625241
                      },
                      {
                        "learn": [
                          0.1498921497
                        ],
                        "iteration": 388,
                        "passed_time": 3.904986365,
                        "remaining_time": 1.114276315
                      },
                      {
                        "learn": [
                          0.149584854
                        ],
                        "iteration": 389,
                        "passed_time": 3.910545831,
                        "remaining_time": 1.102974465
                      },
                      {
                        "learn": [
                          0.149066289
                        ],
                        "iteration": 390,
                        "passed_time": 3.915757587,
                        "remaining_time": 1.091605056
                      },
                      {
                        "learn": [
                          0.1490090954
                        ],
                        "iteration": 391,
                        "passed_time": 3.920879167,
                        "remaining_time": 1.08024222
                      },
                      {
                        "learn": [
                          0.1486251112
                        ],
                        "iteration": 392,
                        "passed_time": 3.937080554,
                        "remaining_time": 1.071927784
                      },
                      {
                        "learn": [
                          0.1483191606
                        ],
                        "iteration": 393,
                        "passed_time": 3.949810254,
                        "remaining_time": 1.062639307
                      },
                      {
                        "learn": [
                          0.1479963898
                        ],
                        "iteration": 394,
                        "passed_time": 3.956197148,
                        "remaining_time": 1.051647343
                      },
                      {
                        "learn": [
                          0.1473620804
                        ],
                        "iteration": 395,
                        "passed_time": 3.961901684,
                        "remaining_time": 1.040499432
                      },
                      {
                        "learn": [
                          0.1471648366
                        ],
                        "iteration": 396,
                        "passed_time": 3.967694794,
                        "remaining_time": 1.029401924
                      },
                      {
                        "learn": [
                          0.1471286895
                        ],
                        "iteration": 397,
                        "passed_time": 3.973507703,
                        "remaining_time": 1.018336145
                      },
                      {
                        "learn": [
                          0.1466916348
                        ],
                        "iteration": 398,
                        "passed_time": 3.98059443,
                        "remaining_time": 1.007619142
                      },
                      {
                        "learn": [
                          0.1464062381
                        ],
                        "iteration": 399,
                        "passed_time": 3.986500846,
                        "remaining_time": 0.9966252114
                      },
                      {
                        "learn": [
                          0.1458441622
                        ],
                        "iteration": 400,
                        "passed_time": 3.992023521,
                        "remaining_time": 0.9855619167
                      },
                      {
                        "learn": [
                          0.1457541718
                        ],
                        "iteration": 401,
                        "passed_time": 3.998196894,
                        "remaining_time": 0.9746848151
                      },
                      {
                        "learn": [
                          0.1454941586
                        ],
                        "iteration": 402,
                        "passed_time": 4.0040432,
                        "remaining_time": 0.9637523336
                      },
                      {
                        "learn": [
                          0.1451438017
                        ],
                        "iteration": 403,
                        "passed_time": 4.009909095,
                        "remaining_time": 0.952849686
                      },
                      {
                        "learn": [
                          0.1447454723
                        ],
                        "iteration": 404,
                        "passed_time": 4.015253324,
                        "remaining_time": 0.9418495451
                      },
                      {
                        "learn": [
                          0.1444882295
                        ],
                        "iteration": 405,
                        "passed_time": 4.02318423,
                        "remaining_time": 0.9314761518
                      },
                      {
                        "learn": [
                          0.1439289732
                        ],
                        "iteration": 406,
                        "passed_time": 4.028914821,
                        "remaining_time": 0.9206119861
                      },
                      {
                        "learn": [
                          0.143457891
                        ],
                        "iteration": 407,
                        "passed_time": 4.034741852,
                        "remaining_time": 0.9097947313
                      },
                      {
                        "learn": [
                          0.1431960301
                        ],
                        "iteration": 408,
                        "passed_time": 4.043382194,
                        "remaining_time": 0.899627823
                      },
                      {
                        "learn": [
                          0.1431482069
                        ],
                        "iteration": 409,
                        "passed_time": 4.0488096,
                        "remaining_time": 0.8887630829
                      },
                      {
                        "learn": [
                          0.1428514911
                        ],
                        "iteration": 410,
                        "passed_time": 4.054203928,
                        "remaining_time": 0.877917639
                      },
                      {
                        "learn": [
                          0.1424279288
                        ],
                        "iteration": 411,
                        "passed_time": 4.060610822,
                        "remaining_time": 0.8673149328
                      },
                      {
                        "learn": [
                          0.1423376387
                        ],
                        "iteration": 412,
                        "passed_time": 4.067916712,
                        "remaining_time": 0.8569219225
                      },
                      {
                        "learn": [
                          0.1416908878
                        ],
                        "iteration": 413,
                        "passed_time": 4.073393987,
                        "remaining_time": 0.8461639684
                      },
                      {
                        "learn": [
                          0.1414329947
                        ],
                        "iteration": 414,
                        "passed_time": 4.078783545,
                        "remaining_time": 0.8354134971
                      },
                      {
                        "learn": [
                          0.1411919279
                        ],
                        "iteration": 415,
                        "passed_time": 4.084208677,
                        "remaining_time": 0.8246959829
                      },
                      {
                        "learn": [
                          0.1411330025
                        ],
                        "iteration": 416,
                        "passed_time": 4.0898585,
                        "remaining_time": 0.8140485743
                      },
                      {
                        "learn": [
                          0.1410950721
                        ],
                        "iteration": 417,
                        "passed_time": 4.095629622,
                        "remaining_time": 0.8034488732
                      },
                      {
                        "learn": [
                          0.1408557537
                        ],
                        "iteration": 418,
                        "passed_time": 4.101500033,
                        "remaining_time": 0.7928914145
                      },
                      {
                        "learn": [
                          0.1402797995
                        ],
                        "iteration": 419,
                        "passed_time": 4.108283415,
                        "remaining_time": 0.7825301744
                      },
                      {
                        "learn": [
                          0.1402685144
                        ],
                        "iteration": 420,
                        "passed_time": 4.112345501,
                        "remaining_time": 0.771675284
                      },
                      {
                        "learn": [
                          0.1396527572
                        ],
                        "iteration": 421,
                        "passed_time": 4.122843672,
                        "remaining_time": 0.7620421954
                      },
                      {
                        "learn": [
                          0.139200612
                        ],
                        "iteration": 422,
                        "passed_time": 4.128320514,
                        "remaining_time": 0.7514909682
                      },
                      {
                        "learn": [
                          0.1390205871
                        ],
                        "iteration": 423,
                        "passed_time": 4.133784101,
                        "remaining_time": 0.7409613011
                      },
                      {
                        "learn": [
                          0.1388397695
                        ],
                        "iteration": 424,
                        "passed_time": 4.138916906,
                        "remaining_time": 0.730397101
                      },
                      {
                        "learn": [
                          0.1386519046
                        ],
                        "iteration": 425,
                        "passed_time": 4.144298242,
                        "remaining_time": 0.7199015725
                      },
                      {
                        "learn": [
                          0.1383679942
                        ],
                        "iteration": 426,
                        "passed_time": 4.149439431,
                        "remaining_time": 0.7093889426
                      },
                      {
                        "learn": [
                          0.1381054541
                        ],
                        "iteration": 427,
                        "passed_time": 4.154899657,
                        "remaining_time": 0.6989550825
                      },
                      {
                        "learn": [
                          0.1379197751
                        ],
                        "iteration": 428,
                        "passed_time": 4.160503396,
                        "remaining_time": 0.688568161
                      },
                      {
                        "learn": [
                          0.1377358052
                        ],
                        "iteration": 429,
                        "passed_time": 4.16633976,
                        "remaining_time": 0.6782413562
                      },
                      {
                        "learn": [
                          0.1376164709
                        ],
                        "iteration": 430,
                        "passed_time": 4.172110317,
                        "remaining_time": 0.6679248536
                      },
                      {
                        "learn": [
                          0.1375855173
                        ],
                        "iteration": 431,
                        "passed_time": 4.176085964,
                        "remaining_time": 0.6573468646
                      },
                      {
                        "learn": [
                          0.1372922025
                        ],
                        "iteration": 432,
                        "passed_time": 4.181309801,
                        "remaining_time": 0.6469925096
                      },
                      {
                        "learn": [
                          0.1371234791
                        ],
                        "iteration": 433,
                        "passed_time": 4.187078025,
                        "remaining_time": 0.6367445844
                      },
                      {
                        "learn": [
                          0.1368477367
                        ],
                        "iteration": 434,
                        "passed_time": 4.196205353,
                        "remaining_time": 0.6270191907
                      },
                      {
                        "learn": [
                          0.1365041142
                        ],
                        "iteration": 435,
                        "passed_time": 4.201727896,
                        "remaining_time": 0.6167673976
                      },
                      {
                        "learn": [
                          0.1363933301
                        ],
                        "iteration": 436,
                        "passed_time": 4.207549979,
                        "remaining_time": 0.6065804318
                      },
                      {
                        "learn": [
                          0.1361753409
                        ],
                        "iteration": 437,
                        "passed_time": 4.212645427,
                        "remaining_time": 0.59631054
                      },
                      {
                        "learn": [
                          0.1361245254
                        ],
                        "iteration": 438,
                        "passed_time": 4.218274479,
                        "remaining_time": 0.5861383673
                      },
                      {
                        "learn": [
                          0.1361008802
                        ],
                        "iteration": 439,
                        "passed_time": 4.223709339,
                        "remaining_time": 0.5759603645
                      },
                      {
                        "learn": [
                          0.1359605732
                        ],
                        "iteration": 440,
                        "passed_time": 4.229273448,
                        "remaining_time": 0.5658211642
                      },
                      {
                        "learn": [
                          0.1355999392
                        ],
                        "iteration": 441,
                        "passed_time": 4.23479563,
                        "remaining_time": 0.5556971641
                      },
                      {
                        "learn": [
                          0.1354566984
                        ],
                        "iteration": 442,
                        "passed_time": 4.240499604,
                        "remaining_time": 0.5456173306
                      },
                      {
                        "learn": [
                          0.1351038781
                        ],
                        "iteration": 443,
                        "passed_time": 4.245747405,
                        "remaining_time": 0.5354996727
                      },
                      {
                        "learn": [
                          0.1348024477
                        ],
                        "iteration": 444,
                        "passed_time": 4.251333992,
                        "remaining_time": 0.5254457743
                      },
                      {
                        "learn": [
                          0.1346152671
                        ],
                        "iteration": 445,
                        "passed_time": 4.256669608,
                        "remaining_time": 0.5153815221
                      },
                      {
                        "learn": [
                          0.1345663315
                        ],
                        "iteration": 446,
                        "passed_time": 4.262177073,
                        "remaining_time": 0.5053588028
                      },
                      {
                        "learn": [
                          0.1345071641
                        ],
                        "iteration": 447,
                        "passed_time": 4.267614107,
                        "remaining_time": 0.495348066
                      },
                      {
                        "learn": [
                          0.1344205736
                        ],
                        "iteration": 448,
                        "passed_time": 4.273137052,
                        "remaining_time": 0.4853674602
                      },
                      {
                        "learn": [
                          0.134387218
                        ],
                        "iteration": 449,
                        "passed_time": 4.278693145,
                        "remaining_time": 0.4754103494
                      },
                      {
                        "learn": [
                          0.1343299001
                        ],
                        "iteration": 450,
                        "passed_time": 4.284372609,
                        "remaining_time": 0.4654861593
                      },
                      {
                        "learn": [
                          0.1342451967
                        ],
                        "iteration": 451,
                        "passed_time": 4.289591037,
                        "remaining_time": 0.4555317916
                      },
                      {
                        "learn": [
                          0.1337709187
                        ],
                        "iteration": 452,
                        "passed_time": 4.294927106,
                        "remaining_time": 0.4456105386
                      },
                      {
                        "learn": [
                          0.1333328568
                        ],
                        "iteration": 453,
                        "passed_time": 4.30050683,
                        "remaining_time": 0.4357341722
                      },
                      {
                        "learn": [
                          0.1331296766
                        ],
                        "iteration": 454,
                        "passed_time": 4.306012191,
                        "remaining_time": 0.4258693376
                      },
                      {
                        "learn": [
                          0.1327485335
                        ],
                        "iteration": 455,
                        "passed_time": 4.31167448,
                        "remaining_time": 0.4160387656
                      },
                      {
                        "learn": [
                          0.1323963385
                        ],
                        "iteration": 456,
                        "passed_time": 4.317212728,
                        "remaining_time": 0.4062147644
                      },
                      {
                        "learn": [
                          0.1322176434
                        ],
                        "iteration": 457,
                        "passed_time": 4.322658305,
                        "remaining_time": 0.3964009799
                      },
                      {
                        "learn": [
                          0.1319138014
                        ],
                        "iteration": 458,
                        "passed_time": 4.328478054,
                        "remaining_time": 0.3866396519
                      },
                      {
                        "learn": [
                          0.1316169877
                        ],
                        "iteration": 459,
                        "passed_time": 4.333726258,
                        "remaining_time": 0.3768457616
                      },
                      {
                        "learn": [
                          0.1313290546
                        ],
                        "iteration": 460,
                        "passed_time": 4.339491333,
                        "remaining_time": 0.3671153188
                      },
                      {
                        "learn": [
                          0.1313067934
                        ],
                        "iteration": 461,
                        "passed_time": 4.345009763,
                        "remaining_time": 0.3573817554
                      },
                      {
                        "learn": [
                          0.1308772596
                        ],
                        "iteration": 462,
                        "passed_time": 4.350706073,
                        "remaining_time": 0.3476806149
                      },
                      {
                        "learn": [
                          0.1305431922
                        ],
                        "iteration": 463,
                        "passed_time": 4.356116509,
                        "remaining_time": 0.3379745567
                      },
                      {
                        "learn": [
                          0.1302441384
                        ],
                        "iteration": 464,
                        "passed_time": 4.361587937,
                        "remaining_time": 0.3282915652
                      },
                      {
                        "learn": [
                          0.1297949466
                        ],
                        "iteration": 465,
                        "passed_time": 4.3674103,
                        "remaining_time": 0.3186522537
                      },
                      {
                        "learn": [
                          0.1294580814
                        ],
                        "iteration": 466,
                        "passed_time": 4.372921471,
                        "remaining_time": 0.3090072988
                      },
                      {
                        "learn": [
                          0.1293080273
                        ],
                        "iteration": 467,
                        "passed_time": 4.378206609,
                        "remaining_time": 0.2993645545
                      },
                      {
                        "learn": [
                          0.1290532012
                        ],
                        "iteration": 468,
                        "passed_time": 4.383965355,
                        "remaining_time": 0.2897716972
                      },
                      {
                        "learn": [
                          0.1287891663
                        ],
                        "iteration": 469,
                        "passed_time": 4.389633467,
                        "remaining_time": 0.2801893702
                      },
                      {
                        "learn": [
                          0.1285709639
                        ],
                        "iteration": 470,
                        "passed_time": 4.398936859,
                        "remaining_time": 0.2708474924
                      },
                      {
                        "learn": [
                          0.1283410584
                        ],
                        "iteration": 471,
                        "passed_time": 4.412077462,
                        "remaining_time": 0.2617334087
                      },
                      {
                        "learn": [
                          0.1281652836
                        ],
                        "iteration": 472,
                        "passed_time": 4.417616769,
                        "remaining_time": 0.2521683991
                      },
                      {
                        "learn": [
                          0.1279826284
                        ],
                        "iteration": 473,
                        "passed_time": 4.423263301,
                        "remaining_time": 0.242626257
                      },
                      {
                        "learn": [
                          0.1277473808
                        ],
                        "iteration": 474,
                        "passed_time": 4.429522116,
                        "remaining_time": 0.233132743
                      },
                      {
                        "learn": [
                          0.127505111
                        ],
                        "iteration": 475,
                        "passed_time": 4.435409099,
                        "remaining_time": 0.2236340722
                      },
                      {
                        "learn": [
                          0.1272970377
                        ],
                        "iteration": 476,
                        "passed_time": 4.441014249,
                        "remaining_time": 0.2141369554
                      },
                      {
                        "learn": [
                          0.1271474298
                        ],
                        "iteration": 477,
                        "passed_time": 4.446252243,
                        "remaining_time": 0.2046392246
                      },
                      {
                        "learn": [
                          0.1266823445
                        ],
                        "iteration": 478,
                        "passed_time": 4.451778121,
                        "remaining_time": 0.1951719009
                      },
                      {
                        "learn": [
                          0.1263418313
                        ],
                        "iteration": 479,
                        "passed_time": 4.457174811,
                        "remaining_time": 0.1857156171
                      },
                      {
                        "learn": [
                          0.1261476721
                        ],
                        "iteration": 480,
                        "passed_time": 4.462386328,
                        "remaining_time": 0.1762688986
                      },
                      {
                        "learn": [
                          0.1258820131
                        ],
                        "iteration": 481,
                        "passed_time": 4.46827666,
                        "remaining_time": 0.1668651035
                      },
                      {
                        "learn": [
                          0.1257401147
                        ],
                        "iteration": 482,
                        "passed_time": 4.473998007,
                        "remaining_time": 0.1574699092
                      },
                      {
                        "learn": [
                          0.1253147727
                        ],
                        "iteration": 483,
                        "passed_time": 4.479430774,
                        "remaining_time": 0.1480803562
                      },
                      {
                        "learn": [
                          0.1250505935
                        ],
                        "iteration": 484,
                        "passed_time": 4.48496581,
                        "remaining_time": 0.1387102828
                      },
                      {
                        "learn": [
                          0.124806096
                        ],
                        "iteration": 485,
                        "passed_time": 4.490220853,
                        "remaining_time": 0.1293479258
                      },
                      {
                        "learn": [
                          0.1247200528
                        ],
                        "iteration": 486,
                        "passed_time": 4.495913824,
                        "remaining_time": 0.1200141267
                      },
                      {
                        "learn": [
                          0.1244355967
                        ],
                        "iteration": 487,
                        "passed_time": 4.501137967,
                        "remaining_time": 0.1106837205
                      },
                      {
                        "learn": [
                          0.1241079958
                        ],
                        "iteration": 488,
                        "passed_time": 4.50644879,
                        "remaining_time": 0.1013720587
                      },
                      {
                        "learn": [
                          0.1240399268
                        ],
                        "iteration": 489,
                        "passed_time": 4.511768611,
                        "remaining_time": 0.09207691043
                      },
                      {
                        "learn": [
                          0.123602069
                        ],
                        "iteration": 490,
                        "passed_time": 4.517337271,
                        "remaining_time": 0.08280251617
                      },
                      {
                        "learn": [
                          0.1234741852
                        ],
                        "iteration": 491,
                        "passed_time": 4.523322314,
                        "remaining_time": 0.07354995633
                      },
                      {
                        "learn": [
                          0.123045029
                        ],
                        "iteration": 492,
                        "passed_time": 4.528913274,
                        "remaining_time": 0.06430505663
                      },
                      {
                        "learn": [
                          0.1229739831
                        ],
                        "iteration": 493,
                        "passed_time": 4.534538268,
                        "remaining_time": 0.05507536358
                      },
                      {
                        "learn": [
                          0.1228120221
                        ],
                        "iteration": 494,
                        "passed_time": 4.539931812,
                        "remaining_time": 0.04585789709
                      },
                      {
                        "learn": [
                          0.1225873575
                        ],
                        "iteration": 495,
                        "passed_time": 4.545302754,
                        "remaining_time": 0.03665566737
                      },
                      {
                        "learn": [
                          0.1223284782
                        ],
                        "iteration": 496,
                        "passed_time": 4.550620115,
                        "remaining_time": 0.02746853188
                      },
                      {
                        "learn": [
                          0.1219295982
                        ],
                        "iteration": 497,
                        "passed_time": 4.556128987,
                        "remaining_time": 0.01829770678
                      },
                      {
                        "learn": [
                          0.1217827494
                        ],
                        "iteration": 498,
                        "passed_time": 4.561575417,
                        "remaining_time": 0.009141433701
                      },
                      {
                        "learn": [
                          0.1217526568
                        ],
                        "iteration": 499,
                        "passed_time": 4.567062936,
                        "remaining_time": 0
                      }
                    ],
                    "meta": {
                      "test_sets": [],
                      "test_metrics": [],
                      "learn_metrics": [
                        {
                          "best_value": "Min",
                          "name": "Logloss"
                        }
                      ],
                      "launch_mode": "Train",
                      "parameters": "",
                      "iteration_count": 500,
                      "learn_sets": [
                        "learn"
                      ],
                      "name": "experiment"
                    }
                  }
                }
              }
            },
            "layout": "IPY_MODEL_bcfb7f7a928140a4b64a745e20f116ba"
          }
        }
      }
    }
  },
  "cells": [
    {
      "cell_type": "markdown",
      "metadata": {
        "id": "view-in-github",
        "colab_type": "text"
      },
      "source": [
        "<a href=\"https://colab.research.google.com/github/amdeyk/ii_scproj/blob/main/amba_Dey_Part2_M1_NB_MiniProject_1_Employee_Attrition_Prediction.ipynb\" target=\"_parent\"><img src=\"https://colab.research.google.com/assets/colab-badge.svg\" alt=\"Open In Colab\"/></a>"
      ]
    },
    {
      "cell_type": "markdown",
      "source": [
        "Located the Data Set"
      ],
      "metadata": {
        "id": "Stbdb1y0K2ME"
      }
    },
    {
      "cell_type": "code",
      "execution_count": 1,
      "metadata": {
        "colab": {
          "base_uri": "https://localhost:8080/"
        },
        "id": "x0HJVL8uCyJy",
        "outputId": "c58d3c34-1287-4ce6-e8b3-6d9b61d27793"
      },
      "outputs": [
        {
          "output_type": "stream",
          "name": "stdout",
          "text": [
            "Data Downloaded Successfuly!!\n"
          ]
        }
      ],
      "source": [
        "!wget -qq https://cdn.iisc.talentsprint.com/CDS/Datasets/wa_fn_usec_hr_employee_attrition_tsv.csv\n",
        "print(\"Data Downloaded Successfuly!!\")"
      ]
    },
    {
      "cell_type": "markdown",
      "source": [
        "Install CAT BOOST"
      ],
      "metadata": {
        "id": "aq1CA9plK567"
      }
    },
    {
      "cell_type": "code",
      "source": [
        "!pip -qq install catboost"
      ],
      "metadata": {
        "colab": {
          "base_uri": "https://localhost:8080/"
        },
        "id": "lpfBdRSPDCwD",
        "outputId": "4145360f-aa0f-4427-ecc5-864db7269ac6"
      },
      "execution_count": 2,
      "outputs": [
        {
          "output_type": "stream",
          "name": "stdout",
          "text": [
            "\u001b[2K     \u001b[90m━━━━━━━━━━━━━━━━━━━━━━━━━━━━━━━━━━━━━━━━\u001b[0m \u001b[32m76.6/76.6 MB\u001b[0m \u001b[31m12.9 MB/s\u001b[0m eta \u001b[36m0:00:00\u001b[0m\n",
            "\u001b[?25h"
          ]
        }
      ]
    },
    {
      "cell_type": "markdown",
      "source": [
        "Install the other LIBs"
      ],
      "metadata": {
        "id": "Tbhu9n9jK-Ii"
      }
    },
    {
      "cell_type": "code",
      "source": [
        "import pandas as pd\n",
        "import matplotlib.pyplot as plt\n",
        "import numpy as np\n",
        "from sklearn.model_selection import train_test_split\n",
        "from sklearn.preprocessing import OrdinalEncoder, OneHotEncoder, MinMaxScaler, StandardScaler, FunctionTransformer\n",
        "from sklearn.metrics import roc_auc_score, accuracy_score, confusion_matrix, f1_score\n",
        "from catboost import CatBoostClassifier, metrics, Pool\n",
        "%matplotlib inline\n",
        "np.set_printoptions(precision=4)"
      ],
      "metadata": {
        "id": "dfiR0nPGDJMr"
      },
      "execution_count": 37,
      "outputs": []
    },
    {
      "cell_type": "markdown",
      "source": [
        "Load the DataFrame"
      ],
      "metadata": {
        "id": "WwU4V99gLBoK"
      }
    },
    {
      "cell_type": "code",
      "source": [],
      "metadata": {
        "id": "AT5r-9WbLNEp"
      },
      "execution_count": null,
      "outputs": []
    },
    {
      "cell_type": "code",
      "source": [
        "df = pd.read_csv('wa_fn_usec_hr_employee_attrition_tsv.csv')"
      ],
      "metadata": {
        "id": "7BB30QPvDZti"
      },
      "execution_count": 4,
      "outputs": []
    },
    {
      "cell_type": "markdown",
      "source": [
        "Split the Data.  \n",
        "\n",
        "Practically havent touched the Data in terms of Feature Engineering"
      ],
      "metadata": {
        "id": "f7I5YInMLE-p"
      }
    },
    {
      "cell_type": "code",
      "source": [
        "categorical_columns = df.select_dtypes(include=['object']).columns\n",
        "balance_set, test_set = train_test_split(df, test_size=0.15, random_state=42, shuffle=True)\n",
        "train_set, validation_set = train_test_split(balance_set, test_size=0.15, random_state=42, shuffle=True)\n",
        "\n",
        "X_train = train_set.drop(['attrition','over18'], axis=1)\n",
        "Y_train = train_set['attrition']\n",
        "\n",
        "X_val = validation_set.drop(['attrition','over18'], axis=1)\n",
        "Y_val = validation_set['attrition']\n",
        "\n",
        "X_test = test_set.drop(['attrition','over18'], axis=1)\n",
        "Y_test = test_set['attrition']\n",
        "\n"
      ],
      "metadata": {
        "id": "qfiqG8_uDbNa"
      },
      "execution_count": 7,
      "outputs": []
    },
    {
      "cell_type": "markdown",
      "source": [
        "Deleting the Target Var and one Useless Var from the Cat Fea List"
      ],
      "metadata": {
        "id": "_XMGBlkPLOfJ"
      }
    },
    {
      "cell_type": "code",
      "source": [
        "cat_fea = categorical_columns.values\n",
        "cat_fea1 = np.delete(cat_fea, [0,7], axis=0 ) # Need to look at this Delete. right now Working with this ."
      ],
      "metadata": {
        "id": "lSYGZuq5EN3S"
      },
      "execution_count": 54,
      "outputs": []
    },
    {
      "cell_type": "markdown",
      "source": [
        "Model Build Here .. Thats all "
      ],
      "metadata": {
        "id": "f3GB7EEMLVsp"
      }
    },
    {
      "cell_type": "code",
      "source": [
        "model_08_04_a1 = CatBoostClassifier(iterations=500, learning_rate=0.02)\n",
        "\n",
        "train_pool = Pool(data=X_train, label=Y_train, cat_features=cat_fea1)\n",
        "\n",
        "model_08_04_a1.fit(train_pool, verbose=100, plot=True)  # Cant plot on Spyder - need to Check \n",
        "# model_08_04_a1.fit(train_pool, verbose=False)\n"
      ],
      "metadata": {
        "colab": {
          "base_uri": "https://localhost:8080/",
          "height": 145,
          "referenced_widgets": [
            "889ad75c48e34f0aa3d2ca3a4f14a9d1"
          ]
        },
        "id": "o9WaJ-ZgEVwy",
        "outputId": "2baeff3a-dfe3-4317-c0d7-0f86797be187"
      },
      "execution_count": 43,
      "outputs": [
        {
          "output_type": "display_data",
          "data": {
            "text/plain": [
              "MetricVisualizer(layout=Layout(align_self='stretch', height='500px'))"
            ],
            "application/vnd.jupyter.widget-view+json": {
              "version_major": 2,
              "version_minor": 0,
              "model_id": "889ad75c48e34f0aa3d2ca3a4f14a9d1"
            }
          },
          "metadata": {}
        },
        {
          "output_type": "stream",
          "name": "stdout",
          "text": [
            "0:\tlearn: 0.6758689\ttotal: 13.3ms\tremaining: 6.66s\n",
            "100:\tlearn: 0.2913668\ttotal: 2.23s\tremaining: 8.79s\n",
            "200:\tlearn: 0.2224148\ttotal: 2.8s\tremaining: 4.17s\n",
            "300:\tlearn: 0.1787137\ttotal: 3.39s\tremaining: 2.24s\n",
            "400:\tlearn: 0.1458442\ttotal: 3.99s\tremaining: 986ms\n",
            "499:\tlearn: 0.1217527\ttotal: 4.57s\tremaining: 0us\n"
          ]
        },
        {
          "output_type": "execute_result",
          "data": {
            "text/plain": [
              "<catboost.core.CatBoostClassifier at 0x7f58f85d3fa0>"
            ]
          },
          "metadata": {},
          "execution_count": 43
        }
      ]
    },
    {
      "cell_type": "markdown",
      "source": [
        "Check the Param on TRAIN DATA FIRST"
      ],
      "metadata": {
        "id": "I9jYOy_mLcaT"
      }
    },
    {
      "cell_type": "code",
      "source": [
        "model_08_04_a1.score(train_pool)"
      ],
      "metadata": {
        "colab": {
          "base_uri": "https://localhost:8080/"
        },
        "id": "n6rEn0hWLjQJ",
        "outputId": "df5c4b31-95e4-4279-d779-6be4c0860ad0"
      },
      "execution_count": 60,
      "outputs": [
        {
          "output_type": "execute_result",
          "data": {
            "text/plain": [
              "0.9679547596606974"
            ]
          },
          "metadata": {},
          "execution_count": 60
        }
      ]
    },
    {
      "cell_type": "markdown",
      "source": [
        "Number of Trees ??? "
      ],
      "metadata": {
        "id": "jA3Vgjp4MAJh"
      }
    },
    {
      "cell_type": "code",
      "source": [
        "model_08_04_a1.tree_count_"
      ],
      "metadata": {
        "colab": {
          "base_uri": "https://localhost:8080/"
        },
        "id": "Dfj7-6-ZKVk6",
        "outputId": "ebe92136-c7ec-4f9d-afff-6463536b5429"
      },
      "execution_count": 55,
      "outputs": [
        {
          "output_type": "execute_result",
          "data": {
            "text/plain": [
              "500"
            ]
          },
          "metadata": {},
          "execution_count": 55
        }
      ]
    },
    {
      "cell_type": "markdown",
      "source": [
        "How does the Decision Tree LOOK like ??"
      ],
      "metadata": {
        "id": "_dbht3sjMECR"
      }
    },
    {
      "cell_type": "code",
      "source": [
        "model_08_04_a1.plot_tree(tree_idx=0,\n",
        "    pool=train_pool)  \n",
        "# Basically Plot the Decision Tree here .. Just to understand"
      ],
      "metadata": {
        "colab": {
          "base_uri": "https://localhost:8080/",
          "height": 795
        },
        "id": "X_Xb2EWkH4uB",
        "outputId": "5ebe5932-2934-41d2-8d4d-fdd1f1539d7c"
      },
      "execution_count": 46,
      "outputs": [
        {
          "output_type": "execute_result",
          "data": {
            "image/svg+xml": "<?xml version=\"1.0\" encoding=\"UTF-8\" standalone=\"no\"?>\n<!DOCTYPE svg PUBLIC \"-//W3C//DTD SVG 1.1//EN\"\n \"http://www.w3.org/Graphics/SVG/1.1/DTD/svg11.dtd\">\n<!-- Generated by graphviz version 2.43.0 (0)\n -->\n<!-- Title: %3 Pages: 1 -->\n<svg width=\"8566pt\" height=\"566pt\"\n viewBox=\"0.00 0.00 8565.58 566.00\" xmlns=\"http://www.w3.org/2000/svg\" xmlns:xlink=\"http://www.w3.org/1999/xlink\">\n<g id=\"graph0\" class=\"graph\" transform=\"scale(1 1) rotate(0) translate(4 562)\">\n<title>%3</title>\n<polygon fill=\"white\" stroke=\"transparent\" points=\"-4,4 -4,-562 8561.58,-562 8561.58,4 -4,4\"/>\n<!-- 0 -->\n<g id=\"node1\" class=\"node\">\n<title>0</title>\n<ellipse fill=\"none\" stroke=\"black\" cx=\"3834.79\" cy=\"-540\" rx=\"107.78\" ry=\"18\"/>\n<text text-anchor=\"middle\" x=\"3834.79\" y=\"-536.3\" font-family=\"Times,serif\" font-size=\"14.00\">worklifebalance, value&gt;1.5</text>\n</g>\n<!-- 1 -->\n<g id=\"node2\" class=\"node\">\n<title>1</title>\n<ellipse fill=\"none\" stroke=\"black\" cx=\"3164.79\" cy=\"-453\" rx=\"67.69\" ry=\"18\"/>\n<text text-anchor=\"middle\" x=\"3164.79\" y=\"-449.3\" font-family=\"Times,serif\" font-size=\"14.00\">age, value&gt;42.5</text>\n</g>\n<!-- 0&#45;&gt;1 -->\n<g id=\"edge1\" class=\"edge\">\n<title>0&#45;&gt;1</title>\n<path fill=\"none\" stroke=\"black\" d=\"M3751.62,-528.45C3618.34,-511.54 3359.28,-478.67 3234.83,-462.89\"/>\n<polygon fill=\"black\" stroke=\"black\" points=\"3235.03,-459.38 3224.66,-461.6 3234.14,-466.33 3235.03,-459.38\"/>\n<text text-anchor=\"middle\" x=\"3549.29\" y=\"-492.8\" font-family=\"Times,serif\" font-size=\"14.00\">No</text>\n</g>\n<!-- 2 -->\n<g id=\"node3\" class=\"node\">\n<title>2</title>\n<ellipse fill=\"none\" stroke=\"black\" cx=\"5343.79\" cy=\"-453\" rx=\"67.69\" ry=\"18\"/>\n<text text-anchor=\"middle\" x=\"5343.79\" y=\"-449.3\" font-family=\"Times,serif\" font-size=\"14.00\">age, value&gt;42.5</text>\n</g>\n<!-- 0&#45;&gt;2 -->\n<g id=\"edge2\" class=\"edge\">\n<title>0&#45;&gt;2</title>\n<path fill=\"none\" stroke=\"black\" d=\"M3935.26,-533.34C4218.45,-517.39 5018.73,-472.31 5268.42,-458.25\"/>\n<polygon fill=\"black\" stroke=\"black\" points=\"5268.69,-461.74 5278.48,-457.68 5268.3,-454.75 5268.69,-461.74\"/>\n<text text-anchor=\"middle\" x=\"4690.29\" y=\"-492.8\" font-family=\"Times,serif\" font-size=\"14.00\">Yes</text>\n</g>\n<!-- 3 -->\n<g id=\"node4\" class=\"node\">\n<title>3</title>\n<ellipse fill=\"none\" stroke=\"black\" cx=\"1598.79\" cy=\"-366\" rx=\"85.29\" ry=\"18\"/>\n<text text-anchor=\"middle\" x=\"1598.79\" y=\"-362.3\" font-family=\"Times,serif\" font-size=\"14.00\">overtime, value=Yes</text>\n</g>\n<!-- 1&#45;&gt;3 -->\n<g id=\"edge3\" class=\"edge\">\n<title>1&#45;&gt;3</title>\n<path fill=\"none\" stroke=\"black\" d=\"M3099,-448.43C2851.71,-435.01 1977.42,-387.55 1690.65,-371.99\"/>\n<polygon fill=\"black\" stroke=\"black\" points=\"1690.46,-368.47 1680.29,-371.42 1690.08,-375.46 1690.46,-368.47\"/>\n<text text-anchor=\"middle\" x=\"2484.29\" y=\"-405.8\" font-family=\"Times,serif\" font-size=\"14.00\">No</text>\n</g>\n<!-- 4 -->\n<g id=\"node5\" class=\"node\">\n<title>4</title>\n<ellipse fill=\"none\" stroke=\"black\" cx=\"3164.79\" cy=\"-366\" rx=\"85.29\" ry=\"18\"/>\n<text text-anchor=\"middle\" x=\"3164.79\" y=\"-362.3\" font-family=\"Times,serif\" font-size=\"14.00\">overtime, value=Yes</text>\n</g>\n<!-- 1&#45;&gt;4 -->\n<g id=\"edge4\" class=\"edge\">\n<title>1&#45;&gt;4</title>\n<path fill=\"none\" stroke=\"black\" d=\"M3164.79,-434.8C3164.79,-423.16 3164.79,-407.55 3164.79,-394.24\"/>\n<polygon fill=\"black\" stroke=\"black\" points=\"3168.29,-394.18 3164.79,-384.18 3161.29,-394.18 3168.29,-394.18\"/>\n<text text-anchor=\"middle\" x=\"3175.29\" y=\"-405.8\" font-family=\"Times,serif\" font-size=\"14.00\">Yes</text>\n</g>\n<!-- 5 -->\n<g id=\"node6\" class=\"node\">\n<title>5</title>\n<ellipse fill=\"none\" stroke=\"black\" cx=\"5343.79\" cy=\"-366\" rx=\"85.29\" ry=\"18\"/>\n<text text-anchor=\"middle\" x=\"5343.79\" y=\"-362.3\" font-family=\"Times,serif\" font-size=\"14.00\">overtime, value=Yes</text>\n</g>\n<!-- 2&#45;&gt;5 -->\n<g id=\"edge5\" class=\"edge\">\n<title>2&#45;&gt;5</title>\n<path fill=\"none\" stroke=\"black\" d=\"M5343.79,-434.8C5343.79,-423.16 5343.79,-407.55 5343.79,-394.24\"/>\n<polygon fill=\"black\" stroke=\"black\" points=\"5347.29,-394.18 5343.79,-384.18 5340.29,-394.18 5347.29,-394.18\"/>\n<text text-anchor=\"middle\" x=\"5352.29\" y=\"-405.8\" font-family=\"Times,serif\" font-size=\"14.00\">No</text>\n</g>\n<!-- 6 -->\n<g id=\"node7\" class=\"node\">\n<title>6</title>\n<ellipse fill=\"none\" stroke=\"black\" cx=\"6891.79\" cy=\"-366\" rx=\"85.29\" ry=\"18\"/>\n<text text-anchor=\"middle\" x=\"6891.79\" y=\"-362.3\" font-family=\"Times,serif\" font-size=\"14.00\">overtime, value=Yes</text>\n</g>\n<!-- 2&#45;&gt;6 -->\n<g id=\"edge6\" class=\"edge\">\n<title>2&#45;&gt;6</title>\n<path fill=\"none\" stroke=\"black\" d=\"M5409.32,-448.4C5654.17,-434.96 6515.89,-387.64 6800.1,-372.03\"/>\n<polygon fill=\"black\" stroke=\"black\" points=\"6800.57,-375.51 6810.37,-371.47 6800.19,-368.52 6800.57,-375.51\"/>\n<text text-anchor=\"middle\" x=\"6221.29\" y=\"-405.8\" font-family=\"Times,serif\" font-size=\"14.00\">Yes</text>\n</g>\n<!-- 7 -->\n<g id=\"node8\" class=\"node\">\n<title>7</title>\n<ellipse fill=\"none\" stroke=\"black\" cx=\"747.79\" cy=\"-279\" rx=\"109.38\" ry=\"18\"/>\n<text text-anchor=\"middle\" x=\"747.79\" y=\"-275.3\" font-family=\"Times,serif\" font-size=\"14.00\">stockoptionlevel, value&gt;0.5</text>\n</g>\n<!-- 3&#45;&gt;7 -->\n<g id=\"edge7\" class=\"edge\">\n<title>3&#45;&gt;7</title>\n<path fill=\"none\" stroke=\"black\" d=\"M1523.64,-357.49C1370.32,-342.18 1021.35,-307.32 848.56,-290.07\"/>\n<polygon fill=\"black\" stroke=\"black\" points=\"848.75,-286.57 838.45,-289.06 848.05,-293.53 848.75,-286.57\"/>\n<text text-anchor=\"middle\" x=\"1233.29\" y=\"-318.8\" font-family=\"Times,serif\" font-size=\"14.00\">No</text>\n</g>\n<!-- 8 -->\n<g id=\"node9\" class=\"node\">\n<title>8</title>\n<ellipse fill=\"none\" stroke=\"black\" cx=\"1598.79\" cy=\"-279\" rx=\"109.38\" ry=\"18\"/>\n<text text-anchor=\"middle\" x=\"1598.79\" y=\"-275.3\" font-family=\"Times,serif\" font-size=\"14.00\">stockoptionlevel, value&gt;0.5</text>\n</g>\n<!-- 3&#45;&gt;8 -->\n<g id=\"edge8\" class=\"edge\">\n<title>3&#45;&gt;8</title>\n<path fill=\"none\" stroke=\"black\" d=\"M1598.79,-347.8C1598.79,-336.16 1598.79,-320.55 1598.79,-307.24\"/>\n<polygon fill=\"black\" stroke=\"black\" points=\"1602.29,-307.18 1598.79,-297.18 1595.29,-307.18 1602.29,-307.18\"/>\n<text text-anchor=\"middle\" x=\"1609.29\" y=\"-318.8\" font-family=\"Times,serif\" font-size=\"14.00\">Yes</text>\n</g>\n<!-- 9 -->\n<g id=\"node10\" class=\"node\">\n<title>9</title>\n<ellipse fill=\"none\" stroke=\"black\" cx=\"2938.79\" cy=\"-279\" rx=\"109.38\" ry=\"18\"/>\n<text text-anchor=\"middle\" x=\"2938.79\" y=\"-275.3\" font-family=\"Times,serif\" font-size=\"14.00\">stockoptionlevel, value&gt;0.5</text>\n</g>\n<!-- 4&#45;&gt;9 -->\n<g id=\"edge9\" class=\"edge\">\n<title>4&#45;&gt;9</title>\n<path fill=\"none\" stroke=\"black\" d=\"M3124.9,-350C3087.36,-335.88 3030.96,-314.66 2990.08,-299.29\"/>\n<polygon fill=\"black\" stroke=\"black\" points=\"2991.16,-295.96 2980.57,-295.71 2988.7,-302.51 2991.16,-295.96\"/>\n<text text-anchor=\"middle\" x=\"3074.29\" y=\"-318.8\" font-family=\"Times,serif\" font-size=\"14.00\">No</text>\n</g>\n<!-- 10 -->\n<g id=\"node11\" class=\"node\">\n<title>10</title>\n<ellipse fill=\"none\" stroke=\"black\" cx=\"3566.79\" cy=\"-279\" rx=\"109.38\" ry=\"18\"/>\n<text text-anchor=\"middle\" x=\"3566.79\" y=\"-275.3\" font-family=\"Times,serif\" font-size=\"14.00\">stockoptionlevel, value&gt;0.5</text>\n</g>\n<!-- 4&#45;&gt;10 -->\n<g id=\"edge10\" class=\"edge\">\n<title>4&#45;&gt;10</title>\n<path fill=\"none\" stroke=\"black\" d=\"M3222.81,-352.73C3293.88,-337.71 3414.38,-312.23 3492.24,-295.76\"/>\n<polygon fill=\"black\" stroke=\"black\" points=\"3493.4,-299.09 3502.46,-293.6 3491.95,-292.25 3493.4,-299.09\"/>\n<text text-anchor=\"middle\" x=\"3401.29\" y=\"-318.8\" font-family=\"Times,serif\" font-size=\"14.00\">Yes</text>\n</g>\n<!-- 11 -->\n<g id=\"node12\" class=\"node\">\n<title>11</title>\n<ellipse fill=\"none\" stroke=\"black\" cx=\"5027.79\" cy=\"-279\" rx=\"109.38\" ry=\"18\"/>\n<text text-anchor=\"middle\" x=\"5027.79\" y=\"-275.3\" font-family=\"Times,serif\" font-size=\"14.00\">stockoptionlevel, value&gt;0.5</text>\n</g>\n<!-- 5&#45;&gt;11 -->\n<g id=\"edge11\" class=\"edge\">\n<title>5&#45;&gt;11</title>\n<path fill=\"none\" stroke=\"black\" d=\"M5293.37,-351.44C5238.73,-336.74 5151.42,-313.25 5091.93,-297.25\"/>\n<polygon fill=\"black\" stroke=\"black\" points=\"5092.84,-293.87 5082.27,-294.65 5091.02,-300.63 5092.84,-293.87\"/>\n<text text-anchor=\"middle\" x=\"5213.29\" y=\"-318.8\" font-family=\"Times,serif\" font-size=\"14.00\">No</text>\n</g>\n<!-- 12 -->\n<g id=\"node13\" class=\"node\">\n<title>12</title>\n<ellipse fill=\"none\" stroke=\"black\" cx=\"5732.79\" cy=\"-279\" rx=\"109.38\" ry=\"18\"/>\n<text text-anchor=\"middle\" x=\"5732.79\" y=\"-275.3\" font-family=\"Times,serif\" font-size=\"14.00\">stockoptionlevel, value&gt;0.5</text>\n</g>\n<!-- 5&#45;&gt;12 -->\n<g id=\"edge12\" class=\"edge\">\n<title>5&#45;&gt;12</title>\n<path fill=\"none\" stroke=\"black\" d=\"M5400.77,-352.55C5469.44,-337.54 5584.93,-312.31 5659.99,-295.91\"/>\n<polygon fill=\"black\" stroke=\"black\" points=\"5660.82,-299.31 5669.85,-293.75 5659.33,-292.47 5660.82,-299.31\"/>\n<text text-anchor=\"middle\" x=\"5572.29\" y=\"-318.8\" font-family=\"Times,serif\" font-size=\"14.00\">Yes</text>\n</g>\n<!-- 13 -->\n<g id=\"node14\" class=\"node\">\n<title>13</title>\n<ellipse fill=\"none\" stroke=\"black\" cx=\"6891.79\" cy=\"-279\" rx=\"109.38\" ry=\"18\"/>\n<text text-anchor=\"middle\" x=\"6891.79\" y=\"-275.3\" font-family=\"Times,serif\" font-size=\"14.00\">stockoptionlevel, value&gt;0.5</text>\n</g>\n<!-- 6&#45;&gt;13 -->\n<g id=\"edge13\" class=\"edge\">\n<title>6&#45;&gt;13</title>\n<path fill=\"none\" stroke=\"black\" d=\"M6891.79,-347.8C6891.79,-336.16 6891.79,-320.55 6891.79,-307.24\"/>\n<polygon fill=\"black\" stroke=\"black\" points=\"6895.29,-307.18 6891.79,-297.18 6888.29,-307.18 6895.29,-307.18\"/>\n<text text-anchor=\"middle\" x=\"6900.29\" y=\"-318.8\" font-family=\"Times,serif\" font-size=\"14.00\">No</text>\n</g>\n<!-- 14 -->\n<g id=\"node15\" class=\"node\">\n<title>14</title>\n<ellipse fill=\"none\" stroke=\"black\" cx=\"7743.79\" cy=\"-279\" rx=\"109.38\" ry=\"18\"/>\n<text text-anchor=\"middle\" x=\"7743.79\" y=\"-275.3\" font-family=\"Times,serif\" font-size=\"14.00\">stockoptionlevel, value&gt;0.5</text>\n</g>\n<!-- 6&#45;&gt;14 -->\n<g id=\"edge14\" class=\"edge\">\n<title>6&#45;&gt;14</title>\n<path fill=\"none\" stroke=\"black\" d=\"M6967.02,-357.49C7120.53,-342.18 7469.91,-307.32 7642.9,-290.07\"/>\n<polygon fill=\"black\" stroke=\"black\" points=\"7643.42,-293.53 7653.02,-289.06 7642.72,-286.57 7643.42,-293.53\"/>\n<text text-anchor=\"middle\" x=\"7380.29\" y=\"-318.8\" font-family=\"Times,serif\" font-size=\"14.00\">Yes</text>\n</g>\n<!-- 15 -->\n<g id=\"node16\" class=\"node\">\n<title>15</title>\n<ellipse fill=\"none\" stroke=\"black\" cx=\"392.79\" cy=\"-192\" rx=\"113.98\" ry=\"18\"/>\n<text text-anchor=\"middle\" x=\"392.79\" y=\"-188.3\" font-family=\"Times,serif\" font-size=\"14.00\">monthlyincome, value&gt;2560</text>\n</g>\n<!-- 7&#45;&gt;15 -->\n<g id=\"edge15\" class=\"edge\">\n<title>7&#45;&gt;15</title>\n<path fill=\"none\" stroke=\"black\" d=\"M688.37,-263.77C626.13,-248.87 528.45,-225.48 462.58,-209.71\"/>\n<polygon fill=\"black\" stroke=\"black\" points=\"463.24,-206.27 452.7,-207.34 461.61,-213.08 463.24,-206.27\"/>\n<text text-anchor=\"middle\" x=\"600.29\" y=\"-231.8\" font-family=\"Times,serif\" font-size=\"14.00\">No</text>\n</g>\n<!-- 16 -->\n<g id=\"node17\" class=\"node\">\n<title>16</title>\n<ellipse fill=\"none\" stroke=\"black\" cx=\"747.79\" cy=\"-192\" rx=\"113.98\" ry=\"18\"/>\n<text text-anchor=\"middle\" x=\"747.79\" y=\"-188.3\" font-family=\"Times,serif\" font-size=\"14.00\">monthlyincome, value&gt;2560</text>\n</g>\n<!-- 7&#45;&gt;16 -->\n<g id=\"edge16\" class=\"edge\">\n<title>7&#45;&gt;16</title>\n<path fill=\"none\" stroke=\"black\" d=\"M747.79,-260.8C747.79,-249.16 747.79,-233.55 747.79,-220.24\"/>\n<polygon fill=\"black\" stroke=\"black\" points=\"751.29,-220.18 747.79,-210.18 744.29,-220.18 751.29,-220.18\"/>\n<text text-anchor=\"middle\" x=\"758.29\" y=\"-231.8\" font-family=\"Times,serif\" font-size=\"14.00\">Yes</text>\n</g>\n<!-- 17 -->\n<g id=\"node18\" class=\"node\">\n<title>17</title>\n<ellipse fill=\"none\" stroke=\"black\" cx=\"1464.79\" cy=\"-192\" rx=\"113.98\" ry=\"18\"/>\n<text text-anchor=\"middle\" x=\"1464.79\" y=\"-188.3\" font-family=\"Times,serif\" font-size=\"14.00\">monthlyincome, value&gt;2560</text>\n</g>\n<!-- 8&#45;&gt;17 -->\n<g id=\"edge17\" class=\"edge\">\n<title>8&#45;&gt;17</title>\n<path fill=\"none\" stroke=\"black\" d=\"M1572.63,-261.41C1551.79,-248.19 1522.42,-229.56 1499.59,-215.07\"/>\n<polygon fill=\"black\" stroke=\"black\" points=\"1501.2,-211.95 1490.88,-209.55 1497.45,-217.86 1501.2,-211.95\"/>\n<text text-anchor=\"middle\" x=\"1549.29\" y=\"-231.8\" font-family=\"Times,serif\" font-size=\"14.00\">No</text>\n</g>\n<!-- 18 -->\n<g id=\"node19\" class=\"node\">\n<title>18</title>\n<ellipse fill=\"none\" stroke=\"black\" cx=\"1732.79\" cy=\"-192\" rx=\"113.98\" ry=\"18\"/>\n<text text-anchor=\"middle\" x=\"1732.79\" y=\"-188.3\" font-family=\"Times,serif\" font-size=\"14.00\">monthlyincome, value&gt;2560</text>\n</g>\n<!-- 8&#45;&gt;18 -->\n<g id=\"edge18\" class=\"edge\">\n<title>8&#45;&gt;18</title>\n<path fill=\"none\" stroke=\"black\" d=\"M1624.94,-261.41C1645.79,-248.19 1675.16,-229.56 1697.99,-215.07\"/>\n<polygon fill=\"black\" stroke=\"black\" points=\"1700.13,-217.86 1706.7,-209.55 1696.38,-211.95 1700.13,-217.86\"/>\n<text text-anchor=\"middle\" x=\"1685.29\" y=\"-231.8\" font-family=\"Times,serif\" font-size=\"14.00\">Yes</text>\n</g>\n<!-- 19 -->\n<g id=\"node20\" class=\"node\">\n<title>19</title>\n<ellipse fill=\"none\" stroke=\"black\" cx=\"2536.79\" cy=\"-192\" rx=\"113.98\" ry=\"18\"/>\n<text text-anchor=\"middle\" x=\"2536.79\" y=\"-188.3\" font-family=\"Times,serif\" font-size=\"14.00\">monthlyincome, value&gt;2560</text>\n</g>\n<!-- 9&#45;&gt;19 -->\n<g id=\"edge19\" class=\"edge\">\n<title>9&#45;&gt;19</title>\n<path fill=\"none\" stroke=\"black\" d=\"M2874.2,-264.34C2802.62,-249.21 2687.33,-224.83 2611.81,-208.86\"/>\n<polygon fill=\"black\" stroke=\"black\" points=\"2612.39,-205.41 2601.88,-206.76 2610.94,-212.26 2612.39,-205.41\"/>\n<text text-anchor=\"middle\" x=\"2771.29\" y=\"-231.8\" font-family=\"Times,serif\" font-size=\"14.00\">No</text>\n</g>\n<!-- 20 -->\n<g id=\"node21\" class=\"node\">\n<title>20</title>\n<ellipse fill=\"none\" stroke=\"black\" cx=\"2938.79\" cy=\"-192\" rx=\"113.98\" ry=\"18\"/>\n<text text-anchor=\"middle\" x=\"2938.79\" y=\"-188.3\" font-family=\"Times,serif\" font-size=\"14.00\">monthlyincome, value&gt;2560</text>\n</g>\n<!-- 9&#45;&gt;20 -->\n<g id=\"edge20\" class=\"edge\">\n<title>9&#45;&gt;20</title>\n<path fill=\"none\" stroke=\"black\" d=\"M2938.79,-260.8C2938.79,-249.16 2938.79,-233.55 2938.79,-220.24\"/>\n<polygon fill=\"black\" stroke=\"black\" points=\"2942.29,-220.18 2938.79,-210.18 2935.29,-220.18 2942.29,-220.18\"/>\n<text text-anchor=\"middle\" x=\"2949.29\" y=\"-231.8\" font-family=\"Times,serif\" font-size=\"14.00\">Yes</text>\n</g>\n<!-- 21 -->\n<g id=\"node22\" class=\"node\">\n<title>21</title>\n<ellipse fill=\"none\" stroke=\"black\" cx=\"3566.79\" cy=\"-192\" rx=\"113.98\" ry=\"18\"/>\n<text text-anchor=\"middle\" x=\"3566.79\" y=\"-188.3\" font-family=\"Times,serif\" font-size=\"14.00\">monthlyincome, value&gt;2560</text>\n</g>\n<!-- 10&#45;&gt;21 -->\n<g id=\"edge21\" class=\"edge\">\n<title>10&#45;&gt;21</title>\n<path fill=\"none\" stroke=\"black\" d=\"M3566.79,-260.8C3566.79,-249.16 3566.79,-233.55 3566.79,-220.24\"/>\n<polygon fill=\"black\" stroke=\"black\" points=\"3570.29,-220.18 3566.79,-210.18 3563.29,-220.18 3570.29,-220.18\"/>\n<text text-anchor=\"middle\" x=\"3575.29\" y=\"-231.8\" font-family=\"Times,serif\" font-size=\"14.00\">No</text>\n</g>\n<!-- 22 -->\n<g id=\"node23\" class=\"node\">\n<title>22</title>\n<ellipse fill=\"none\" stroke=\"black\" cx=\"3876.79\" cy=\"-192\" rx=\"113.98\" ry=\"18\"/>\n<text text-anchor=\"middle\" x=\"3876.79\" y=\"-188.3\" font-family=\"Times,serif\" font-size=\"14.00\">monthlyincome, value&gt;2560</text>\n</g>\n<!-- 10&#45;&gt;22 -->\n<g id=\"edge22\" class=\"edge\">\n<title>10&#45;&gt;22</title>\n<path fill=\"none\" stroke=\"black\" d=\"M3620.43,-263.29C3673.81,-248.66 3755.74,-226.19 3812.55,-210.61\"/>\n<polygon fill=\"black\" stroke=\"black\" points=\"3813.78,-213.9 3822.5,-207.89 3811.93,-207.15 3813.78,-213.9\"/>\n<text text-anchor=\"middle\" x=\"3751.29\" y=\"-231.8\" font-family=\"Times,serif\" font-size=\"14.00\">Yes</text>\n</g>\n<!-- 23 -->\n<g id=\"node24\" class=\"node\">\n<title>23</title>\n<ellipse fill=\"none\" stroke=\"black\" cx=\"4680.79\" cy=\"-192\" rx=\"113.98\" ry=\"18\"/>\n<text text-anchor=\"middle\" x=\"4680.79\" y=\"-188.3\" font-family=\"Times,serif\" font-size=\"14.00\">monthlyincome, value&gt;2560</text>\n</g>\n<!-- 11&#45;&gt;23 -->\n<g id=\"edge23\" class=\"edge\">\n<title>11&#45;&gt;23</title>\n<path fill=\"none\" stroke=\"black\" d=\"M4969.32,-263.68C4908.72,-248.83 4814.06,-225.65 4749.83,-209.91\"/>\n<polygon fill=\"black\" stroke=\"black\" points=\"4750.34,-206.43 4739.79,-207.45 4748.67,-213.23 4750.34,-206.43\"/>\n<text text-anchor=\"middle\" x=\"4884.29\" y=\"-231.8\" font-family=\"Times,serif\" font-size=\"14.00\">No</text>\n</g>\n<!-- 24 -->\n<g id=\"node25\" class=\"node\">\n<title>24</title>\n<ellipse fill=\"none\" stroke=\"black\" cx=\"5027.79\" cy=\"-192\" rx=\"113.98\" ry=\"18\"/>\n<text text-anchor=\"middle\" x=\"5027.79\" y=\"-188.3\" font-family=\"Times,serif\" font-size=\"14.00\">monthlyincome, value&gt;2560</text>\n</g>\n<!-- 11&#45;&gt;24 -->\n<g id=\"edge24\" class=\"edge\">\n<title>11&#45;&gt;24</title>\n<path fill=\"none\" stroke=\"black\" d=\"M5027.79,-260.8C5027.79,-249.16 5027.79,-233.55 5027.79,-220.24\"/>\n<polygon fill=\"black\" stroke=\"black\" points=\"5031.29,-220.18 5027.79,-210.18 5024.29,-220.18 5031.29,-220.18\"/>\n<text text-anchor=\"middle\" x=\"5038.29\" y=\"-231.8\" font-family=\"Times,serif\" font-size=\"14.00\">Yes</text>\n</g>\n<!-- 25 -->\n<g id=\"node26\" class=\"node\">\n<title>25</title>\n<ellipse fill=\"none\" stroke=\"black\" cx=\"5732.79\" cy=\"-192\" rx=\"113.98\" ry=\"18\"/>\n<text text-anchor=\"middle\" x=\"5732.79\" y=\"-188.3\" font-family=\"Times,serif\" font-size=\"14.00\">monthlyincome, value&gt;2560</text>\n</g>\n<!-- 12&#45;&gt;25 -->\n<g id=\"edge25\" class=\"edge\">\n<title>12&#45;&gt;25</title>\n<path fill=\"none\" stroke=\"black\" d=\"M5732.79,-260.8C5732.79,-249.16 5732.79,-233.55 5732.79,-220.24\"/>\n<polygon fill=\"black\" stroke=\"black\" points=\"5736.29,-220.18 5732.79,-210.18 5729.29,-220.18 5736.29,-220.18\"/>\n<text text-anchor=\"middle\" x=\"5741.29\" y=\"-231.8\" font-family=\"Times,serif\" font-size=\"14.00\">No</text>\n</g>\n<!-- 26 -->\n<g id=\"node27\" class=\"node\">\n<title>26</title>\n<ellipse fill=\"none\" stroke=\"black\" cx=\"6020.79\" cy=\"-192\" rx=\"113.98\" ry=\"18\"/>\n<text text-anchor=\"middle\" x=\"6020.79\" y=\"-188.3\" font-family=\"Times,serif\" font-size=\"14.00\">monthlyincome, value&gt;2560</text>\n</g>\n<!-- 12&#45;&gt;26 -->\n<g id=\"edge26\" class=\"edge\">\n<title>12&#45;&gt;26</title>\n<path fill=\"none\" stroke=\"black\" d=\"M5783.61,-263C5832.77,-248.49 5907.3,-226.49 5959.67,-211.04\"/>\n<polygon fill=\"black\" stroke=\"black\" points=\"5960.9,-214.32 5969.5,-208.14 5958.92,-207.61 5960.9,-214.32\"/>\n<text text-anchor=\"middle\" x=\"5905.29\" y=\"-231.8\" font-family=\"Times,serif\" font-size=\"14.00\">Yes</text>\n</g>\n<!-- 27 -->\n<g id=\"node28\" class=\"node\">\n<title>27</title>\n<ellipse fill=\"none\" stroke=\"black\" cx=\"6824.79\" cy=\"-192\" rx=\"113.98\" ry=\"18\"/>\n<text text-anchor=\"middle\" x=\"6824.79\" y=\"-188.3\" font-family=\"Times,serif\" font-size=\"14.00\">monthlyincome, value&gt;2560</text>\n</g>\n<!-- 13&#45;&gt;27 -->\n<g id=\"edge27\" class=\"edge\">\n<title>13&#45;&gt;27</title>\n<path fill=\"none\" stroke=\"black\" d=\"M6878.23,-260.8C6868.54,-248.51 6855.35,-231.77 6844.5,-218.01\"/>\n<polygon fill=\"black\" stroke=\"black\" points=\"6847.04,-215.57 6838.1,-209.89 6841.54,-219.91 6847.04,-215.57\"/>\n<text text-anchor=\"middle\" x=\"6871.29\" y=\"-231.8\" font-family=\"Times,serif\" font-size=\"14.00\">No</text>\n</g>\n<!-- 28 -->\n<g id=\"node29\" class=\"node\">\n<title>28</title>\n<ellipse fill=\"none\" stroke=\"black\" cx=\"7092.79\" cy=\"-192\" rx=\"113.98\" ry=\"18\"/>\n<text text-anchor=\"middle\" x=\"7092.79\" y=\"-188.3\" font-family=\"Times,serif\" font-size=\"14.00\">monthlyincome, value&gt;2560</text>\n</g>\n<!-- 13&#45;&gt;28 -->\n<g id=\"edge28\" class=\"edge\">\n<title>13&#45;&gt;28</title>\n<path fill=\"none\" stroke=\"black\" d=\"M6929.6,-262.01C6962.34,-248.17 7009.87,-228.07 7045.19,-213.13\"/>\n<polygon fill=\"black\" stroke=\"black\" points=\"7046.96,-216.18 7054.81,-209.06 7044.24,-209.73 7046.96,-216.18\"/>\n<text text-anchor=\"middle\" x=\"7015.29\" y=\"-231.8\" font-family=\"Times,serif\" font-size=\"14.00\">Yes</text>\n</g>\n<!-- 29 -->\n<g id=\"node30\" class=\"node\">\n<title>29</title>\n<ellipse fill=\"none\" stroke=\"black\" cx=\"7743.79\" cy=\"-192\" rx=\"113.98\" ry=\"18\"/>\n<text text-anchor=\"middle\" x=\"7743.79\" y=\"-188.3\" font-family=\"Times,serif\" font-size=\"14.00\">monthlyincome, value&gt;2560</text>\n</g>\n<!-- 14&#45;&gt;29 -->\n<g id=\"edge29\" class=\"edge\">\n<title>14&#45;&gt;29</title>\n<path fill=\"none\" stroke=\"black\" d=\"M7743.79,-260.8C7743.79,-249.16 7743.79,-233.55 7743.79,-220.24\"/>\n<polygon fill=\"black\" stroke=\"black\" points=\"7747.29,-220.18 7743.79,-210.18 7740.29,-220.18 7747.29,-220.18\"/>\n<text text-anchor=\"middle\" x=\"7752.29\" y=\"-231.8\" font-family=\"Times,serif\" font-size=\"14.00\">No</text>\n</g>\n<!-- 30 -->\n<g id=\"node31\" class=\"node\">\n<title>30</title>\n<ellipse fill=\"none\" stroke=\"black\" cx=\"8164.79\" cy=\"-192\" rx=\"113.98\" ry=\"18\"/>\n<text text-anchor=\"middle\" x=\"8164.79\" y=\"-188.3\" font-family=\"Times,serif\" font-size=\"14.00\">monthlyincome, value&gt;2560</text>\n</g>\n<!-- 14&#45;&gt;30 -->\n<g id=\"edge30\" class=\"edge\">\n<title>14&#45;&gt;30</title>\n<path fill=\"none\" stroke=\"black\" d=\"M7810.03,-264.63C7885.31,-249.43 8008.02,-224.65 8087.58,-208.59\"/>\n<polygon fill=\"black\" stroke=\"black\" points=\"8088.43,-211.99 8097.54,-206.58 8087.04,-205.13 8088.43,-211.99\"/>\n<text text-anchor=\"middle\" x=\"7990.29\" y=\"-231.8\" font-family=\"Times,serif\" font-size=\"14.00\">Yes</text>\n</g>\n<!-- 31 -->\n<g id=\"node32\" class=\"node\">\n<title>31</title>\n<ellipse fill=\"none\" stroke=\"black\" cx=\"124.79\" cy=\"-105\" rx=\"124.58\" ry=\"18\"/>\n<text text-anchor=\"middle\" x=\"124.79\" y=\"-101.3\" font-family=\"Times,serif\" font-size=\"14.00\">trainingtimeslastyear, value&gt;0.5</text>\n</g>\n<!-- 15&#45;&gt;31 -->\n<g id=\"edge31\" class=\"edge\">\n<title>15&#45;&gt;31</title>\n<path fill=\"none\" stroke=\"black\" d=\"M344.26,-175.61C299.1,-161.28 231.72,-139.91 183.54,-124.63\"/>\n<polygon fill=\"black\" stroke=\"black\" points=\"184.46,-121.25 173.87,-121.57 182.34,-127.93 184.46,-121.25\"/>\n<text text-anchor=\"middle\" x=\"284.29\" y=\"-144.8\" font-family=\"Times,serif\" font-size=\"14.00\">No</text>\n</g>\n<!-- 32 -->\n<g id=\"node33\" class=\"node\">\n<title>32</title>\n<ellipse fill=\"none\" stroke=\"black\" cx=\"392.79\" cy=\"-105\" rx=\"124.58\" ry=\"18\"/>\n<text text-anchor=\"middle\" x=\"392.79\" y=\"-101.3\" font-family=\"Times,serif\" font-size=\"14.00\">trainingtimeslastyear, value&gt;0.5</text>\n</g>\n<!-- 15&#45;&gt;32 -->\n<g id=\"edge32\" class=\"edge\">\n<title>15&#45;&gt;32</title>\n<path fill=\"none\" stroke=\"black\" d=\"M392.79,-173.8C392.79,-162.16 392.79,-146.55 392.79,-133.24\"/>\n<polygon fill=\"black\" stroke=\"black\" points=\"396.29,-133.18 392.79,-123.18 389.29,-133.18 396.29,-133.18\"/>\n<text text-anchor=\"middle\" x=\"403.29\" y=\"-144.8\" font-family=\"Times,serif\" font-size=\"14.00\">Yes</text>\n</g>\n<!-- 33 -->\n<g id=\"node34\" class=\"node\">\n<title>33</title>\n<ellipse fill=\"none\" stroke=\"black\" cx=\"660.79\" cy=\"-105\" rx=\"124.58\" ry=\"18\"/>\n<text text-anchor=\"middle\" x=\"660.79\" y=\"-101.3\" font-family=\"Times,serif\" font-size=\"14.00\">trainingtimeslastyear, value&gt;0.5</text>\n</g>\n<!-- 16&#45;&gt;33 -->\n<g id=\"edge33\" class=\"edge\">\n<title>16&#45;&gt;33</title>\n<path fill=\"none\" stroke=\"black\" d=\"M730.18,-173.8C717.36,-161.27 699.83,-144.14 685.59,-130.23\"/>\n<polygon fill=\"black\" stroke=\"black\" points=\"687.67,-127.37 678.07,-122.89 682.78,-132.38 687.67,-127.37\"/>\n<text text-anchor=\"middle\" x=\"718.29\" y=\"-144.8\" font-family=\"Times,serif\" font-size=\"14.00\">No</text>\n</g>\n<!-- 34 -->\n<g id=\"node35\" class=\"node\">\n<title>34</title>\n<ellipse fill=\"none\" stroke=\"black\" cx=\"928.79\" cy=\"-105\" rx=\"124.58\" ry=\"18\"/>\n<text text-anchor=\"middle\" x=\"928.79\" y=\"-101.3\" font-family=\"Times,serif\" font-size=\"14.00\">trainingtimeslastyear, value&gt;0.5</text>\n</g>\n<!-- 16&#45;&gt;34 -->\n<g id=\"edge34\" class=\"edge\">\n<title>16&#45;&gt;34</title>\n<path fill=\"none\" stroke=\"black\" d=\"M782.26,-174.81C811.26,-161.19 852.92,-141.63 884.41,-126.84\"/>\n<polygon fill=\"black\" stroke=\"black\" points=\"886.27,-129.84 893.83,-122.42 883.29,-123.5 886.27,-129.84\"/>\n<text text-anchor=\"middle\" x=\"860.29\" y=\"-144.8\" font-family=\"Times,serif\" font-size=\"14.00\">Yes</text>\n</g>\n<!-- 35 -->\n<g id=\"node36\" class=\"node\">\n<title>35</title>\n<ellipse fill=\"none\" stroke=\"black\" cx=\"1196.79\" cy=\"-105\" rx=\"124.58\" ry=\"18\"/>\n<text text-anchor=\"middle\" x=\"1196.79\" y=\"-101.3\" font-family=\"Times,serif\" font-size=\"14.00\">trainingtimeslastyear, value&gt;0.5</text>\n</g>\n<!-- 17&#45;&gt;35 -->\n<g id=\"edge35\" class=\"edge\">\n<title>17&#45;&gt;35</title>\n<path fill=\"none\" stroke=\"black\" d=\"M1416.26,-175.61C1371.1,-161.28 1303.72,-139.91 1255.54,-124.63\"/>\n<polygon fill=\"black\" stroke=\"black\" points=\"1256.46,-121.25 1245.87,-121.57 1254.34,-127.93 1256.46,-121.25\"/>\n<text text-anchor=\"middle\" x=\"1356.29\" y=\"-144.8\" font-family=\"Times,serif\" font-size=\"14.00\">No</text>\n</g>\n<!-- 36 -->\n<g id=\"node37\" class=\"node\">\n<title>36</title>\n<ellipse fill=\"none\" stroke=\"black\" cx=\"1464.79\" cy=\"-105\" rx=\"124.58\" ry=\"18\"/>\n<text text-anchor=\"middle\" x=\"1464.79\" y=\"-101.3\" font-family=\"Times,serif\" font-size=\"14.00\">trainingtimeslastyear, value&gt;0.5</text>\n</g>\n<!-- 17&#45;&gt;36 -->\n<g id=\"edge36\" class=\"edge\">\n<title>17&#45;&gt;36</title>\n<path fill=\"none\" stroke=\"black\" d=\"M1464.79,-173.8C1464.79,-162.16 1464.79,-146.55 1464.79,-133.24\"/>\n<polygon fill=\"black\" stroke=\"black\" points=\"1468.29,-133.18 1464.79,-123.18 1461.29,-133.18 1468.29,-133.18\"/>\n<text text-anchor=\"middle\" x=\"1475.29\" y=\"-144.8\" font-family=\"Times,serif\" font-size=\"14.00\">Yes</text>\n</g>\n<!-- 37 -->\n<g id=\"node38\" class=\"node\">\n<title>37</title>\n<ellipse fill=\"none\" stroke=\"black\" cx=\"1732.79\" cy=\"-105\" rx=\"124.58\" ry=\"18\"/>\n<text text-anchor=\"middle\" x=\"1732.79\" y=\"-101.3\" font-family=\"Times,serif\" font-size=\"14.00\">trainingtimeslastyear, value&gt;0.5</text>\n</g>\n<!-- 18&#45;&gt;37 -->\n<g id=\"edge37\" class=\"edge\">\n<title>18&#45;&gt;37</title>\n<path fill=\"none\" stroke=\"black\" d=\"M1732.79,-173.8C1732.79,-162.16 1732.79,-146.55 1732.79,-133.24\"/>\n<polygon fill=\"black\" stroke=\"black\" points=\"1736.29,-133.18 1732.79,-123.18 1729.29,-133.18 1736.29,-133.18\"/>\n<text text-anchor=\"middle\" x=\"1741.29\" y=\"-144.8\" font-family=\"Times,serif\" font-size=\"14.00\">No</text>\n</g>\n<!-- 38 -->\n<g id=\"node39\" class=\"node\">\n<title>38</title>\n<ellipse fill=\"none\" stroke=\"black\" cx=\"2000.79\" cy=\"-105\" rx=\"124.58\" ry=\"18\"/>\n<text text-anchor=\"middle\" x=\"2000.79\" y=\"-101.3\" font-family=\"Times,serif\" font-size=\"14.00\">trainingtimeslastyear, value&gt;0.5</text>\n</g>\n<!-- 18&#45;&gt;38 -->\n<g id=\"edge38\" class=\"edge\">\n<title>18&#45;&gt;38</title>\n<path fill=\"none\" stroke=\"black\" d=\"M1781.32,-175.61C1826.48,-161.28 1893.86,-139.91 1942.04,-124.63\"/>\n<polygon fill=\"black\" stroke=\"black\" points=\"1943.24,-127.93 1951.71,-121.57 1941.12,-121.25 1943.24,-127.93\"/>\n<text text-anchor=\"middle\" x=\"1894.29\" y=\"-144.8\" font-family=\"Times,serif\" font-size=\"14.00\">Yes</text>\n</g>\n<!-- 39 -->\n<g id=\"node40\" class=\"node\">\n<title>39</title>\n<ellipse fill=\"none\" stroke=\"black\" cx=\"2268.79\" cy=\"-105\" rx=\"124.58\" ry=\"18\"/>\n<text text-anchor=\"middle\" x=\"2268.79\" y=\"-101.3\" font-family=\"Times,serif\" font-size=\"14.00\">trainingtimeslastyear, value&gt;0.5</text>\n</g>\n<!-- 19&#45;&gt;39 -->\n<g id=\"edge39\" class=\"edge\">\n<title>19&#45;&gt;39</title>\n<path fill=\"none\" stroke=\"black\" d=\"M2488.26,-175.61C2443.1,-161.28 2375.72,-139.91 2327.54,-124.63\"/>\n<polygon fill=\"black\" stroke=\"black\" points=\"2328.46,-121.25 2317.87,-121.57 2326.34,-127.93 2328.46,-121.25\"/>\n<text text-anchor=\"middle\" x=\"2428.29\" y=\"-144.8\" font-family=\"Times,serif\" font-size=\"14.00\">No</text>\n</g>\n<!-- 40 -->\n<g id=\"node41\" class=\"node\">\n<title>40</title>\n<ellipse fill=\"none\" stroke=\"black\" cx=\"2536.79\" cy=\"-105\" rx=\"124.58\" ry=\"18\"/>\n<text text-anchor=\"middle\" x=\"2536.79\" y=\"-101.3\" font-family=\"Times,serif\" font-size=\"14.00\">trainingtimeslastyear, value&gt;0.5</text>\n</g>\n<!-- 19&#45;&gt;40 -->\n<g id=\"edge40\" class=\"edge\">\n<title>19&#45;&gt;40</title>\n<path fill=\"none\" stroke=\"black\" d=\"M2536.79,-173.8C2536.79,-162.16 2536.79,-146.55 2536.79,-133.24\"/>\n<polygon fill=\"black\" stroke=\"black\" points=\"2540.29,-133.18 2536.79,-123.18 2533.29,-133.18 2540.29,-133.18\"/>\n<text text-anchor=\"middle\" x=\"2547.29\" y=\"-144.8\" font-family=\"Times,serif\" font-size=\"14.00\">Yes</text>\n</g>\n<!-- 41 -->\n<g id=\"node42\" class=\"node\">\n<title>41</title>\n<ellipse fill=\"none\" stroke=\"black\" cx=\"2804.79\" cy=\"-105\" rx=\"124.58\" ry=\"18\"/>\n<text text-anchor=\"middle\" x=\"2804.79\" y=\"-101.3\" font-family=\"Times,serif\" font-size=\"14.00\">trainingtimeslastyear, value&gt;0.5</text>\n</g>\n<!-- 20&#45;&gt;41 -->\n<g id=\"edge41\" class=\"edge\">\n<title>20&#45;&gt;41</title>\n<path fill=\"none\" stroke=\"black\" d=\"M2912.63,-174.41C2891.92,-161.27 2862.8,-142.8 2840.03,-128.35\"/>\n<polygon fill=\"black\" stroke=\"black\" points=\"2841.65,-125.24 2831.34,-122.84 2837.91,-131.15 2841.65,-125.24\"/>\n<text text-anchor=\"middle\" x=\"2889.29\" y=\"-144.8\" font-family=\"Times,serif\" font-size=\"14.00\">No</text>\n</g>\n<!-- 42 -->\n<g id=\"node43\" class=\"node\">\n<title>42</title>\n<ellipse fill=\"none\" stroke=\"black\" cx=\"3072.79\" cy=\"-105\" rx=\"124.58\" ry=\"18\"/>\n<text text-anchor=\"middle\" x=\"3072.79\" y=\"-101.3\" font-family=\"Times,serif\" font-size=\"14.00\">trainingtimeslastyear, value&gt;0.5</text>\n</g>\n<!-- 20&#45;&gt;42 -->\n<g id=\"edge42\" class=\"edge\">\n<title>20&#45;&gt;42</title>\n<path fill=\"none\" stroke=\"black\" d=\"M2964.94,-174.41C2985.65,-161.27 3014.78,-142.8 3037.55,-128.35\"/>\n<polygon fill=\"black\" stroke=\"black\" points=\"3039.67,-131.15 3046.24,-122.84 3035.92,-125.24 3039.67,-131.15\"/>\n<text text-anchor=\"middle\" x=\"3025.29\" y=\"-144.8\" font-family=\"Times,serif\" font-size=\"14.00\">Yes</text>\n</g>\n<!-- 43 -->\n<g id=\"node44\" class=\"node\">\n<title>43</title>\n<ellipse fill=\"none\" stroke=\"black\" cx=\"3340.79\" cy=\"-105\" rx=\"124.58\" ry=\"18\"/>\n<text text-anchor=\"middle\" x=\"3340.79\" y=\"-101.3\" font-family=\"Times,serif\" font-size=\"14.00\">trainingtimeslastyear, value&gt;0.5</text>\n</g>\n<!-- 21&#45;&gt;43 -->\n<g id=\"edge43\" class=\"edge\">\n<title>21&#45;&gt;43</title>\n<path fill=\"none\" stroke=\"black\" d=\"M3524.81,-175.21C3487.54,-161.2 3432.95,-140.66 3392.9,-125.6\"/>\n<polygon fill=\"black\" stroke=\"black\" points=\"3393.9,-122.24 3383.31,-121.99 3391.44,-128.79 3393.9,-122.24\"/>\n<text text-anchor=\"middle\" x=\"3476.29\" y=\"-144.8\" font-family=\"Times,serif\" font-size=\"14.00\">No</text>\n</g>\n<!-- 44 -->\n<g id=\"node45\" class=\"node\">\n<title>44</title>\n<ellipse fill=\"none\" stroke=\"black\" cx=\"3608.79\" cy=\"-105\" rx=\"124.58\" ry=\"18\"/>\n<text text-anchor=\"middle\" x=\"3608.79\" y=\"-101.3\" font-family=\"Times,serif\" font-size=\"14.00\">trainingtimeslastyear, value&gt;0.5</text>\n</g>\n<!-- 21&#45;&gt;44 -->\n<g id=\"edge44\" class=\"edge\">\n<title>21&#45;&gt;44</title>\n<path fill=\"none\" stroke=\"black\" d=\"M3575.29,-173.8C3581.15,-161.93 3589.06,-145.93 3595.72,-132.45\"/>\n<polygon fill=\"black\" stroke=\"black\" points=\"3599.01,-133.69 3600.3,-123.18 3592.73,-130.59 3599.01,-133.69\"/>\n<text text-anchor=\"middle\" x=\"3601.29\" y=\"-144.8\" font-family=\"Times,serif\" font-size=\"14.00\">Yes</text>\n</g>\n<!-- 45 -->\n<g id=\"node46\" class=\"node\">\n<title>45</title>\n<ellipse fill=\"none\" stroke=\"black\" cx=\"3876.79\" cy=\"-105\" rx=\"124.58\" ry=\"18\"/>\n<text text-anchor=\"middle\" x=\"3876.79\" y=\"-101.3\" font-family=\"Times,serif\" font-size=\"14.00\">trainingtimeslastyear, value&gt;0.5</text>\n</g>\n<!-- 22&#45;&gt;45 -->\n<g id=\"edge45\" class=\"edge\">\n<title>22&#45;&gt;45</title>\n<path fill=\"none\" stroke=\"black\" d=\"M3876.79,-173.8C3876.79,-162.16 3876.79,-146.55 3876.79,-133.24\"/>\n<polygon fill=\"black\" stroke=\"black\" points=\"3880.29,-133.18 3876.79,-123.18 3873.29,-133.18 3880.29,-133.18\"/>\n<text text-anchor=\"middle\" x=\"3885.29\" y=\"-144.8\" font-family=\"Times,serif\" font-size=\"14.00\">No</text>\n</g>\n<!-- 46 -->\n<g id=\"node47\" class=\"node\">\n<title>46</title>\n<ellipse fill=\"none\" stroke=\"black\" cx=\"4144.79\" cy=\"-105\" rx=\"124.58\" ry=\"18\"/>\n<text text-anchor=\"middle\" x=\"4144.79\" y=\"-101.3\" font-family=\"Times,serif\" font-size=\"14.00\">trainingtimeslastyear, value&gt;0.5</text>\n</g>\n<!-- 22&#45;&gt;46 -->\n<g id=\"edge46\" class=\"edge\">\n<title>22&#45;&gt;46</title>\n<path fill=\"none\" stroke=\"black\" d=\"M3925.32,-175.61C3970.48,-161.28 4037.86,-139.91 4086.04,-124.63\"/>\n<polygon fill=\"black\" stroke=\"black\" points=\"4087.24,-127.93 4095.71,-121.57 4085.12,-121.25 4087.24,-127.93\"/>\n<text text-anchor=\"middle\" x=\"4038.29\" y=\"-144.8\" font-family=\"Times,serif\" font-size=\"14.00\">Yes</text>\n</g>\n<!-- 47 -->\n<g id=\"node48\" class=\"node\">\n<title>47</title>\n<ellipse fill=\"none\" stroke=\"black\" cx=\"4412.79\" cy=\"-105\" rx=\"124.58\" ry=\"18\"/>\n<text text-anchor=\"middle\" x=\"4412.79\" y=\"-101.3\" font-family=\"Times,serif\" font-size=\"14.00\">trainingtimeslastyear, value&gt;0.5</text>\n</g>\n<!-- 23&#45;&gt;47 -->\n<g id=\"edge47\" class=\"edge\">\n<title>23&#45;&gt;47</title>\n<path fill=\"none\" stroke=\"black\" d=\"M4632.26,-175.61C4587.1,-161.28 4519.72,-139.91 4471.54,-124.63\"/>\n<polygon fill=\"black\" stroke=\"black\" points=\"4472.46,-121.25 4461.87,-121.57 4470.34,-127.93 4472.46,-121.25\"/>\n<text text-anchor=\"middle\" x=\"4572.29\" y=\"-144.8\" font-family=\"Times,serif\" font-size=\"14.00\">No</text>\n</g>\n<!-- 48 -->\n<g id=\"node49\" class=\"node\">\n<title>48</title>\n<ellipse fill=\"none\" stroke=\"black\" cx=\"4680.79\" cy=\"-105\" rx=\"124.58\" ry=\"18\"/>\n<text text-anchor=\"middle\" x=\"4680.79\" y=\"-101.3\" font-family=\"Times,serif\" font-size=\"14.00\">trainingtimeslastyear, value&gt;0.5</text>\n</g>\n<!-- 23&#45;&gt;48 -->\n<g id=\"edge48\" class=\"edge\">\n<title>23&#45;&gt;48</title>\n<path fill=\"none\" stroke=\"black\" d=\"M4680.79,-173.8C4680.79,-162.16 4680.79,-146.55 4680.79,-133.24\"/>\n<polygon fill=\"black\" stroke=\"black\" points=\"4684.29,-133.18 4680.79,-123.18 4677.29,-133.18 4684.29,-133.18\"/>\n<text text-anchor=\"middle\" x=\"4691.29\" y=\"-144.8\" font-family=\"Times,serif\" font-size=\"14.00\">Yes</text>\n</g>\n<!-- 49 -->\n<g id=\"node50\" class=\"node\">\n<title>49</title>\n<ellipse fill=\"none\" stroke=\"black\" cx=\"4948.79\" cy=\"-105\" rx=\"124.58\" ry=\"18\"/>\n<text text-anchor=\"middle\" x=\"4948.79\" y=\"-101.3\" font-family=\"Times,serif\" font-size=\"14.00\">trainingtimeslastyear, value&gt;0.5</text>\n</g>\n<!-- 24&#45;&gt;49 -->\n<g id=\"edge49\" class=\"edge\">\n<title>24&#45;&gt;49</title>\n<path fill=\"none\" stroke=\"black\" d=\"M5011.8,-173.8C5000.16,-161.27 4984.24,-144.14 4971.31,-130.23\"/>\n<polygon fill=\"black\" stroke=\"black\" points=\"4973.85,-127.83 4964.48,-122.89 4968.73,-132.59 4973.85,-127.83\"/>\n<text text-anchor=\"middle\" x=\"5002.29\" y=\"-144.8\" font-family=\"Times,serif\" font-size=\"14.00\">No</text>\n</g>\n<!-- 50 -->\n<g id=\"node51\" class=\"node\">\n<title>50</title>\n<ellipse fill=\"none\" stroke=\"black\" cx=\"5216.79\" cy=\"-105\" rx=\"124.58\" ry=\"18\"/>\n<text text-anchor=\"middle\" x=\"5216.79\" y=\"-101.3\" font-family=\"Times,serif\" font-size=\"14.00\">trainingtimeslastyear, value&gt;0.5</text>\n</g>\n<!-- 24&#45;&gt;50 -->\n<g id=\"edge50\" class=\"edge\">\n<title>24&#45;&gt;50</title>\n<path fill=\"none\" stroke=\"black\" d=\"M5063.78,-174.81C5094.29,-161.09 5138.22,-141.33 5171.19,-126.51\"/>\n<polygon fill=\"black\" stroke=\"black\" points=\"5172.92,-129.57 5180.61,-122.27 5170.05,-123.18 5172.92,-129.57\"/>\n<text text-anchor=\"middle\" x=\"5144.29\" y=\"-144.8\" font-family=\"Times,serif\" font-size=\"14.00\">Yes</text>\n</g>\n<!-- 51 -->\n<g id=\"node52\" class=\"node\">\n<title>51</title>\n<ellipse fill=\"none\" stroke=\"black\" cx=\"5484.79\" cy=\"-105\" rx=\"124.58\" ry=\"18\"/>\n<text text-anchor=\"middle\" x=\"5484.79\" y=\"-101.3\" font-family=\"Times,serif\" font-size=\"14.00\">trainingtimeslastyear, value&gt;0.5</text>\n</g>\n<!-- 25&#45;&gt;51 -->\n<g id=\"edge51\" class=\"edge\">\n<title>25&#45;&gt;51</title>\n<path fill=\"none\" stroke=\"black\" d=\"M5687.3,-175.41C5645.87,-161.21 5584.58,-140.2 5540.29,-125.02\"/>\n<polygon fill=\"black\" stroke=\"black\" points=\"5541.42,-121.71 5530.83,-121.78 5539.15,-128.33 5541.42,-121.71\"/>\n<text text-anchor=\"middle\" x=\"5632.29\" y=\"-144.8\" font-family=\"Times,serif\" font-size=\"14.00\">No</text>\n</g>\n<!-- 52 -->\n<g id=\"node53\" class=\"node\">\n<title>52</title>\n<ellipse fill=\"none\" stroke=\"black\" cx=\"5752.79\" cy=\"-105\" rx=\"124.58\" ry=\"18\"/>\n<text text-anchor=\"middle\" x=\"5752.79\" y=\"-101.3\" font-family=\"Times,serif\" font-size=\"14.00\">trainingtimeslastyear, value&gt;0.5</text>\n</g>\n<!-- 25&#45;&gt;52 -->\n<g id=\"edge52\" class=\"edge\">\n<title>25&#45;&gt;52</title>\n<path fill=\"none\" stroke=\"black\" d=\"M5736.84,-173.8C5739.57,-162.16 5743.25,-146.55 5746.38,-133.24\"/>\n<polygon fill=\"black\" stroke=\"black\" points=\"5749.86,-133.71 5748.75,-123.18 5743.05,-132.11 5749.86,-133.71\"/>\n<text text-anchor=\"middle\" x=\"5755.29\" y=\"-144.8\" font-family=\"Times,serif\" font-size=\"14.00\">Yes</text>\n</g>\n<!-- 53 -->\n<g id=\"node54\" class=\"node\">\n<title>53</title>\n<ellipse fill=\"none\" stroke=\"black\" cx=\"6020.79\" cy=\"-105\" rx=\"124.58\" ry=\"18\"/>\n<text text-anchor=\"middle\" x=\"6020.79\" y=\"-101.3\" font-family=\"Times,serif\" font-size=\"14.00\">trainingtimeslastyear, value&gt;0.5</text>\n</g>\n<!-- 26&#45;&gt;53 -->\n<g id=\"edge53\" class=\"edge\">\n<title>26&#45;&gt;53</title>\n<path fill=\"none\" stroke=\"black\" d=\"M6020.79,-173.8C6020.79,-162.16 6020.79,-146.55 6020.79,-133.24\"/>\n<polygon fill=\"black\" stroke=\"black\" points=\"6024.29,-133.18 6020.79,-123.18 6017.29,-133.18 6024.29,-133.18\"/>\n<text text-anchor=\"middle\" x=\"6029.29\" y=\"-144.8\" font-family=\"Times,serif\" font-size=\"14.00\">No</text>\n</g>\n<!-- 54 -->\n<g id=\"node55\" class=\"node\">\n<title>54</title>\n<ellipse fill=\"none\" stroke=\"black\" cx=\"6288.79\" cy=\"-105\" rx=\"124.58\" ry=\"18\"/>\n<text text-anchor=\"middle\" x=\"6288.79\" y=\"-101.3\" font-family=\"Times,serif\" font-size=\"14.00\">trainingtimeslastyear, value&gt;0.5</text>\n</g>\n<!-- 26&#45;&gt;54 -->\n<g id=\"edge54\" class=\"edge\">\n<title>26&#45;&gt;54</title>\n<path fill=\"none\" stroke=\"black\" d=\"M6069.32,-175.61C6114.48,-161.28 6181.86,-139.91 6230.04,-124.63\"/>\n<polygon fill=\"black\" stroke=\"black\" points=\"6231.24,-127.93 6239.71,-121.57 6229.12,-121.25 6231.24,-127.93\"/>\n<text text-anchor=\"middle\" x=\"6182.29\" y=\"-144.8\" font-family=\"Times,serif\" font-size=\"14.00\">Yes</text>\n</g>\n<!-- 55 -->\n<g id=\"node56\" class=\"node\">\n<title>55</title>\n<ellipse fill=\"none\" stroke=\"black\" cx=\"6556.79\" cy=\"-105\" rx=\"124.58\" ry=\"18\"/>\n<text text-anchor=\"middle\" x=\"6556.79\" y=\"-101.3\" font-family=\"Times,serif\" font-size=\"14.00\">trainingtimeslastyear, value&gt;0.5</text>\n</g>\n<!-- 27&#45;&gt;55 -->\n<g id=\"edge55\" class=\"edge\">\n<title>27&#45;&gt;55</title>\n<path fill=\"none\" stroke=\"black\" d=\"M6776.26,-175.61C6731.1,-161.28 6663.72,-139.91 6615.54,-124.63\"/>\n<polygon fill=\"black\" stroke=\"black\" points=\"6616.46,-121.25 6605.87,-121.57 6614.34,-127.93 6616.46,-121.25\"/>\n<text text-anchor=\"middle\" x=\"6716.29\" y=\"-144.8\" font-family=\"Times,serif\" font-size=\"14.00\">No</text>\n</g>\n<!-- 56 -->\n<g id=\"node57\" class=\"node\">\n<title>56</title>\n<ellipse fill=\"none\" stroke=\"black\" cx=\"6824.79\" cy=\"-105\" rx=\"124.58\" ry=\"18\"/>\n<text text-anchor=\"middle\" x=\"6824.79\" y=\"-101.3\" font-family=\"Times,serif\" font-size=\"14.00\">trainingtimeslastyear, value&gt;0.5</text>\n</g>\n<!-- 27&#45;&gt;56 -->\n<g id=\"edge56\" class=\"edge\">\n<title>27&#45;&gt;56</title>\n<path fill=\"none\" stroke=\"black\" d=\"M6824.79,-173.8C6824.79,-162.16 6824.79,-146.55 6824.79,-133.24\"/>\n<polygon fill=\"black\" stroke=\"black\" points=\"6828.29,-133.18 6824.79,-123.18 6821.29,-133.18 6828.29,-133.18\"/>\n<text text-anchor=\"middle\" x=\"6835.29\" y=\"-144.8\" font-family=\"Times,serif\" font-size=\"14.00\">Yes</text>\n</g>\n<!-- 57 -->\n<g id=\"node58\" class=\"node\">\n<title>57</title>\n<ellipse fill=\"none\" stroke=\"black\" cx=\"7092.79\" cy=\"-105\" rx=\"124.58\" ry=\"18\"/>\n<text text-anchor=\"middle\" x=\"7092.79\" y=\"-101.3\" font-family=\"Times,serif\" font-size=\"14.00\">trainingtimeslastyear, value&gt;0.5</text>\n</g>\n<!-- 28&#45;&gt;57 -->\n<g id=\"edge57\" class=\"edge\">\n<title>28&#45;&gt;57</title>\n<path fill=\"none\" stroke=\"black\" d=\"M7092.79,-173.8C7092.79,-162.16 7092.79,-146.55 7092.79,-133.24\"/>\n<polygon fill=\"black\" stroke=\"black\" points=\"7096.29,-133.18 7092.79,-123.18 7089.29,-133.18 7096.29,-133.18\"/>\n<text text-anchor=\"middle\" x=\"7101.29\" y=\"-144.8\" font-family=\"Times,serif\" font-size=\"14.00\">No</text>\n</g>\n<!-- 58 -->\n<g id=\"node59\" class=\"node\">\n<title>58</title>\n<ellipse fill=\"none\" stroke=\"black\" cx=\"7360.79\" cy=\"-105\" rx=\"124.58\" ry=\"18\"/>\n<text text-anchor=\"middle\" x=\"7360.79\" y=\"-101.3\" font-family=\"Times,serif\" font-size=\"14.00\">trainingtimeslastyear, value&gt;0.5</text>\n</g>\n<!-- 28&#45;&gt;58 -->\n<g id=\"edge58\" class=\"edge\">\n<title>28&#45;&gt;58</title>\n<path fill=\"none\" stroke=\"black\" d=\"M7141.32,-175.61C7186.48,-161.28 7253.86,-139.91 7302.04,-124.63\"/>\n<polygon fill=\"black\" stroke=\"black\" points=\"7303.24,-127.93 7311.71,-121.57 7301.12,-121.25 7303.24,-127.93\"/>\n<text text-anchor=\"middle\" x=\"7254.29\" y=\"-144.8\" font-family=\"Times,serif\" font-size=\"14.00\">Yes</text>\n</g>\n<!-- 59 -->\n<g id=\"node60\" class=\"node\">\n<title>59</title>\n<ellipse fill=\"none\" stroke=\"black\" cx=\"7628.79\" cy=\"-105\" rx=\"124.58\" ry=\"18\"/>\n<text text-anchor=\"middle\" x=\"7628.79\" y=\"-101.3\" font-family=\"Times,serif\" font-size=\"14.00\">trainingtimeslastyear, value&gt;0.5</text>\n</g>\n<!-- 29&#45;&gt;59 -->\n<g id=\"edge59\" class=\"edge\">\n<title>29&#45;&gt;59</title>\n<path fill=\"none\" stroke=\"black\" d=\"M7721.07,-174.21C7703.51,-161.23 7679.01,-143.12 7659.67,-128.83\"/>\n<polygon fill=\"black\" stroke=\"black\" points=\"7661.58,-125.89 7651.46,-122.76 7657.42,-131.52 7661.58,-125.89\"/>\n<text text-anchor=\"middle\" x=\"7702.29\" y=\"-144.8\" font-family=\"Times,serif\" font-size=\"14.00\">No</text>\n</g>\n<!-- 60 -->\n<g id=\"node61\" class=\"node\">\n<title>60</title>\n<ellipse fill=\"none\" stroke=\"black\" cx=\"7896.79\" cy=\"-105\" rx=\"124.58\" ry=\"18\"/>\n<text text-anchor=\"middle\" x=\"7896.79\" y=\"-101.3\" font-family=\"Times,serif\" font-size=\"14.00\">trainingtimeslastyear, value&gt;0.5</text>\n</g>\n<!-- 29&#45;&gt;60 -->\n<g id=\"edge60\" class=\"edge\">\n<title>29&#45;&gt;60</title>\n<path fill=\"none\" stroke=\"black\" d=\"M7773.29,-174.61C7797.37,-161.23 7831.59,-142.22 7857.91,-127.6\"/>\n<polygon fill=\"black\" stroke=\"black\" points=\"7859.82,-130.54 7866.86,-122.63 7856.42,-124.43 7859.82,-130.54\"/>\n<text text-anchor=\"middle\" x=\"7840.29\" y=\"-144.8\" font-family=\"Times,serif\" font-size=\"14.00\">Yes</text>\n</g>\n<!-- 61 -->\n<g id=\"node62\" class=\"node\">\n<title>61</title>\n<ellipse fill=\"none\" stroke=\"black\" cx=\"8164.79\" cy=\"-105\" rx=\"124.58\" ry=\"18\"/>\n<text text-anchor=\"middle\" x=\"8164.79\" y=\"-101.3\" font-family=\"Times,serif\" font-size=\"14.00\">trainingtimeslastyear, value&gt;0.5</text>\n</g>\n<!-- 30&#45;&gt;61 -->\n<g id=\"edge61\" class=\"edge\">\n<title>30&#45;&gt;61</title>\n<path fill=\"none\" stroke=\"black\" d=\"M8164.79,-173.8C8164.79,-162.16 8164.79,-146.55 8164.79,-133.24\"/>\n<polygon fill=\"black\" stroke=\"black\" points=\"8168.29,-133.18 8164.79,-123.18 8161.29,-133.18 8168.29,-133.18\"/>\n<text text-anchor=\"middle\" x=\"8173.29\" y=\"-144.8\" font-family=\"Times,serif\" font-size=\"14.00\">No</text>\n</g>\n<!-- 62 -->\n<g id=\"node63\" class=\"node\">\n<title>62</title>\n<ellipse fill=\"none\" stroke=\"black\" cx=\"8432.79\" cy=\"-105\" rx=\"124.58\" ry=\"18\"/>\n<text text-anchor=\"middle\" x=\"8432.79\" y=\"-101.3\" font-family=\"Times,serif\" font-size=\"14.00\">trainingtimeslastyear, value&gt;0.5</text>\n</g>\n<!-- 30&#45;&gt;62 -->\n<g id=\"edge62\" class=\"edge\">\n<title>30&#45;&gt;62</title>\n<path fill=\"none\" stroke=\"black\" d=\"M8213.32,-175.61C8258.48,-161.28 8325.86,-139.91 8374.04,-124.63\"/>\n<polygon fill=\"black\" stroke=\"black\" points=\"8375.24,-127.93 8383.71,-121.57 8373.12,-121.25 8375.24,-127.93\"/>\n<text text-anchor=\"middle\" x=\"8326.29\" y=\"-144.8\" font-family=\"Times,serif\" font-size=\"14.00\">Yes</text>\n</g>\n<!-- 63 -->\n<g id=\"node64\" class=\"node\">\n<title>63</title>\n<polygon fill=\"none\" stroke=\"red\" points=\"150.79,-36 70.79,-36 70.79,0 150.79,0 150.79,-36\"/>\n<text text-anchor=\"middle\" x=\"110.79\" y=\"-14.3\" font-family=\"Times,serif\" font-size=\"14.00\">val = 0.000</text>\n</g>\n<!-- 31&#45;&gt;63 -->\n<g id=\"edge63\" class=\"edge\">\n<title>31&#45;&gt;63</title>\n<path fill=\"none\" stroke=\"black\" d=\"M121.96,-86.8C120.04,-75.16 117.47,-59.55 115.27,-46.24\"/>\n<polygon fill=\"black\" stroke=\"black\" points=\"118.7,-45.47 113.62,-36.18 111.79,-46.61 118.7,-45.47\"/>\n<text text-anchor=\"middle\" x=\"127.29\" y=\"-57.8\" font-family=\"Times,serif\" font-size=\"14.00\">No</text>\n</g>\n<!-- 64 -->\n<g id=\"node65\" class=\"node\">\n<title>64</title>\n<polygon fill=\"none\" stroke=\"red\" points=\"248.79,-36 168.79,-36 168.79,0 248.79,0 248.79,-36\"/>\n<text text-anchor=\"middle\" x=\"208.79\" y=\"-14.3\" font-family=\"Times,serif\" font-size=\"14.00\">val = 0.034</text>\n</g>\n<!-- 31&#45;&gt;64 -->\n<g id=\"edge64\" class=\"edge\">\n<title>31&#45;&gt;64</title>\n<path fill=\"none\" stroke=\"black\" d=\"M141.79,-86.8C154.08,-74.36 170.88,-57.36 184.57,-43.5\"/>\n<polygon fill=\"black\" stroke=\"black\" points=\"187.28,-45.75 191.82,-36.18 182.3,-40.83 187.28,-45.75\"/>\n<text text-anchor=\"middle\" x=\"183.29\" y=\"-57.8\" font-family=\"Times,serif\" font-size=\"14.00\">Yes</text>\n</g>\n<!-- 65 -->\n<g id=\"node66\" class=\"node\">\n<title>65</title>\n<polygon fill=\"none\" stroke=\"red\" points=\"373.79,-36 293.79,-36 293.79,0 373.79,0 373.79,-36\"/>\n<text text-anchor=\"middle\" x=\"333.79\" y=\"-14.3\" font-family=\"Times,serif\" font-size=\"14.00\">val = 0.000</text>\n</g>\n<!-- 32&#45;&gt;65 -->\n<g id=\"edge65\" class=\"edge\">\n<title>32&#45;&gt;65</title>\n<path fill=\"none\" stroke=\"black\" d=\"M380.85,-86.8C372.45,-74.7 361.07,-58.3 351.6,-44.67\"/>\n<polygon fill=\"black\" stroke=\"black\" points=\"354.29,-42.39 345.71,-36.18 348.54,-46.39 354.29,-42.39\"/>\n<text text-anchor=\"middle\" x=\"376.29\" y=\"-57.8\" font-family=\"Times,serif\" font-size=\"14.00\">No</text>\n</g>\n<!-- 66 -->\n<g id=\"node67\" class=\"node\">\n<title>66</title>\n<polygon fill=\"none\" stroke=\"red\" points=\"475.79,-36 391.79,-36 391.79,0 475.79,0 475.79,-36\"/>\n<text text-anchor=\"middle\" x=\"433.79\" y=\"-14.3\" font-family=\"Times,serif\" font-size=\"14.00\">val = &#45;0.004</text>\n</g>\n<!-- 32&#45;&gt;66 -->\n<g id=\"edge66\" class=\"edge\">\n<title>32&#45;&gt;66</title>\n<path fill=\"none\" stroke=\"black\" d=\"M401.09,-86.8C406.81,-74.93 414.53,-58.93 421.03,-45.45\"/>\n<polygon fill=\"black\" stroke=\"black\" points=\"424.31,-46.7 425.5,-36.18 418.01,-43.66 424.31,-46.7\"/>\n<text text-anchor=\"middle\" x=\"426.29\" y=\"-57.8\" font-family=\"Times,serif\" font-size=\"14.00\">Yes</text>\n</g>\n<!-- 67 -->\n<g id=\"node68\" class=\"node\">\n<title>67</title>\n<polygon fill=\"none\" stroke=\"red\" points=\"634.79,-36 554.79,-36 554.79,0 634.79,0 634.79,-36\"/>\n<text text-anchor=\"middle\" x=\"594.79\" y=\"-14.3\" font-family=\"Times,serif\" font-size=\"14.00\">val = 0.000</text>\n</g>\n<!-- 33&#45;&gt;67 -->\n<g id=\"edge67\" class=\"edge\">\n<title>33&#45;&gt;67</title>\n<path fill=\"none\" stroke=\"black\" d=\"M647.43,-86.8C637.95,-74.59 625.07,-57.99 614.42,-44.28\"/>\n<polygon fill=\"black\" stroke=\"black\" points=\"617.02,-41.93 608.13,-36.18 611.49,-46.22 617.02,-41.93\"/>\n<text text-anchor=\"middle\" x=\"640.29\" y=\"-57.8\" font-family=\"Times,serif\" font-size=\"14.00\">No</text>\n</g>\n<!-- 68 -->\n<g id=\"node69\" class=\"node\">\n<title>68</title>\n<polygon fill=\"none\" stroke=\"red\" points=\"736.79,-36 652.79,-36 652.79,0 736.79,0 736.79,-36\"/>\n<text text-anchor=\"middle\" x=\"694.79\" y=\"-14.3\" font-family=\"Times,serif\" font-size=\"14.00\">val = &#45;0.034</text>\n</g>\n<!-- 33&#45;&gt;68 -->\n<g id=\"edge68\" class=\"edge\">\n<title>33&#45;&gt;68</title>\n<path fill=\"none\" stroke=\"black\" d=\"M667.67,-86.8C672.37,-75.05 678.69,-59.24 684.05,-45.84\"/>\n<polygon fill=\"black\" stroke=\"black\" points=\"687.45,-46.76 687.92,-36.18 680.96,-44.16 687.45,-46.76\"/>\n<text text-anchor=\"middle\" x=\"691.29\" y=\"-57.8\" font-family=\"Times,serif\" font-size=\"14.00\">Yes</text>\n</g>\n<!-- 69 -->\n<g id=\"node70\" class=\"node\">\n<title>69</title>\n<polygon fill=\"none\" stroke=\"red\" points=\"903.79,-36 823.79,-36 823.79,0 903.79,0 903.79,-36\"/>\n<text text-anchor=\"middle\" x=\"863.79\" y=\"-14.3\" font-family=\"Times,serif\" font-size=\"14.00\">val = 0.000</text>\n</g>\n<!-- 34&#45;&gt;69 -->\n<g id=\"edge69\" class=\"edge\">\n<title>34&#45;&gt;69</title>\n<path fill=\"none\" stroke=\"black\" d=\"M915.64,-86.8C906.3,-74.59 893.61,-57.99 883.12,-44.28\"/>\n<polygon fill=\"black\" stroke=\"black\" points=\"885.78,-41.99 876.92,-36.18 880.22,-46.25 885.78,-41.99\"/>\n<text text-anchor=\"middle\" x=\"909.29\" y=\"-57.8\" font-family=\"Times,serif\" font-size=\"14.00\">No</text>\n</g>\n<!-- 70 -->\n<g id=\"node71\" class=\"node\">\n<title>70</title>\n<polygon fill=\"none\" stroke=\"red\" points=\"1005.79,-36 921.79,-36 921.79,0 1005.79,0 1005.79,-36\"/>\n<text text-anchor=\"middle\" x=\"963.79\" y=\"-14.3\" font-family=\"Times,serif\" font-size=\"14.00\">val = &#45;0.065</text>\n</g>\n<!-- 34&#45;&gt;70 -->\n<g id=\"edge70\" class=\"edge\">\n<title>34&#45;&gt;70</title>\n<path fill=\"none\" stroke=\"black\" d=\"M935.87,-86.8C940.76,-74.93 947.35,-58.93 952.9,-45.45\"/>\n<polygon fill=\"black\" stroke=\"black\" points=\"956.15,-46.75 956.72,-36.18 949.67,-44.09 956.15,-46.75\"/>\n<text text-anchor=\"middle\" x=\"959.29\" y=\"-57.8\" font-family=\"Times,serif\" font-size=\"14.00\">Yes</text>\n</g>\n<!-- 71 -->\n<g id=\"node72\" class=\"node\">\n<title>71</title>\n<polygon fill=\"none\" stroke=\"red\" points=\"1174.79,-36 1094.79,-36 1094.79,0 1174.79,0 1174.79,-36\"/>\n<text text-anchor=\"middle\" x=\"1134.79\" y=\"-14.3\" font-family=\"Times,serif\" font-size=\"14.00\">val = 0.000</text>\n</g>\n<!-- 35&#45;&gt;71 -->\n<g id=\"edge71\" class=\"edge\">\n<title>35&#45;&gt;71</title>\n<path fill=\"none\" stroke=\"black\" d=\"M1184.24,-86.8C1175.33,-74.59 1163.23,-57.99 1153.23,-44.28\"/>\n<polygon fill=\"black\" stroke=\"black\" points=\"1156.04,-42.19 1147.32,-36.18 1150.38,-46.32 1156.04,-42.19\"/>\n<text text-anchor=\"middle\" x=\"1178.29\" y=\"-57.8\" font-family=\"Times,serif\" font-size=\"14.00\">No</text>\n</g>\n<!-- 72 -->\n<g id=\"node73\" class=\"node\">\n<title>72</title>\n<polygon fill=\"none\" stroke=\"red\" points=\"1272.79,-36 1192.79,-36 1192.79,0 1272.79,0 1272.79,-36\"/>\n<text text-anchor=\"middle\" x=\"1232.79\" y=\"-14.3\" font-family=\"Times,serif\" font-size=\"14.00\">val = 0.034</text>\n</g>\n<!-- 35&#45;&gt;72 -->\n<g id=\"edge72\" class=\"edge\">\n<title>35&#45;&gt;72</title>\n<path fill=\"none\" stroke=\"black\" d=\"M1204.07,-86.8C1209.1,-74.93 1215.88,-58.93 1221.59,-45.45\"/>\n<polygon fill=\"black\" stroke=\"black\" points=\"1224.84,-46.75 1225.51,-36.18 1218.39,-44.02 1224.84,-46.75\"/>\n<text text-anchor=\"middle\" x=\"1228.29\" y=\"-57.8\" font-family=\"Times,serif\" font-size=\"14.00\">Yes</text>\n</g>\n<!-- 73 -->\n<g id=\"node74\" class=\"node\">\n<title>73</title>\n<polygon fill=\"none\" stroke=\"red\" points=\"1455.79,-36 1375.79,-36 1375.79,0 1455.79,0 1455.79,-36\"/>\n<text text-anchor=\"middle\" x=\"1415.79\" y=\"-14.3\" font-family=\"Times,serif\" font-size=\"14.00\">val = 0.023</text>\n</g>\n<!-- 36&#45;&gt;73 -->\n<g id=\"edge73\" class=\"edge\">\n<title>36&#45;&gt;73</title>\n<path fill=\"none\" stroke=\"black\" d=\"M1454.87,-86.8C1447.97,-74.82 1438.63,-58.62 1430.81,-45.06\"/>\n<polygon fill=\"black\" stroke=\"black\" points=\"1433.72,-43.09 1425.69,-36.18 1427.65,-46.59 1433.72,-43.09\"/>\n<text text-anchor=\"middle\" x=\"1452.29\" y=\"-57.8\" font-family=\"Times,serif\" font-size=\"14.00\">No</text>\n</g>\n<!-- 74 -->\n<g id=\"node75\" class=\"node\">\n<title>74</title>\n<polygon fill=\"none\" stroke=\"red\" points=\"1553.79,-36 1473.79,-36 1473.79,0 1553.79,0 1553.79,-36\"/>\n<text text-anchor=\"middle\" x=\"1513.79\" y=\"-14.3\" font-family=\"Times,serif\" font-size=\"14.00\">val = 0.023</text>\n</g>\n<!-- 36&#45;&gt;74 -->\n<g id=\"edge74\" class=\"edge\">\n<title>36&#45;&gt;74</title>\n<path fill=\"none\" stroke=\"black\" d=\"M1474.7,-86.8C1481.61,-74.82 1490.95,-58.62 1498.77,-45.06\"/>\n<polygon fill=\"black\" stroke=\"black\" points=\"1501.93,-46.59 1503.89,-36.18 1495.86,-43.09 1501.93,-46.59\"/>\n<text text-anchor=\"middle\" x=\"1503.29\" y=\"-57.8\" font-family=\"Times,serif\" font-size=\"14.00\">Yes</text>\n</g>\n<!-- 75 -->\n<g id=\"node76\" class=\"node\">\n<title>75</title>\n<polygon fill=\"none\" stroke=\"red\" points=\"1723.79,-36 1643.79,-36 1643.79,0 1723.79,0 1723.79,-36\"/>\n<text text-anchor=\"middle\" x=\"1683.79\" y=\"-14.3\" font-family=\"Times,serif\" font-size=\"14.00\">val = 0.000</text>\n</g>\n<!-- 37&#45;&gt;75 -->\n<g id=\"edge75\" class=\"edge\">\n<title>37&#45;&gt;75</title>\n<path fill=\"none\" stroke=\"black\" d=\"M1722.87,-86.8C1715.97,-74.82 1706.63,-58.62 1698.81,-45.06\"/>\n<polygon fill=\"black\" stroke=\"black\" points=\"1701.72,-43.09 1693.69,-36.18 1695.65,-46.59 1701.72,-43.09\"/>\n<text text-anchor=\"middle\" x=\"1720.29\" y=\"-57.8\" font-family=\"Times,serif\" font-size=\"14.00\">No</text>\n</g>\n<!-- 76 -->\n<g id=\"node77\" class=\"node\">\n<title>76</title>\n<polygon fill=\"none\" stroke=\"red\" points=\"1821.79,-36 1741.79,-36 1741.79,0 1821.79,0 1821.79,-36\"/>\n<text text-anchor=\"middle\" x=\"1781.79\" y=\"-14.3\" font-family=\"Times,serif\" font-size=\"14.00\">val = 0.023</text>\n</g>\n<!-- 37&#45;&gt;76 -->\n<g id=\"edge76\" class=\"edge\">\n<title>37&#45;&gt;76</title>\n<path fill=\"none\" stroke=\"black\" d=\"M1742.7,-86.8C1749.61,-74.82 1758.95,-58.62 1766.77,-45.06\"/>\n<polygon fill=\"black\" stroke=\"black\" points=\"1769.93,-46.59 1771.89,-36.18 1763.86,-43.09 1769.93,-46.59\"/>\n<text text-anchor=\"middle\" x=\"1771.29\" y=\"-57.8\" font-family=\"Times,serif\" font-size=\"14.00\">Yes</text>\n</g>\n<!-- 77 -->\n<g id=\"node78\" class=\"node\">\n<title>77</title>\n<polygon fill=\"none\" stroke=\"red\" points=\"1991.79,-36 1907.79,-36 1907.79,0 1991.79,0 1991.79,-36\"/>\n<text text-anchor=\"middle\" x=\"1949.79\" y=\"-14.3\" font-family=\"Times,serif\" font-size=\"14.00\">val = &#45;0.023</text>\n</g>\n<!-- 38&#45;&gt;77 -->\n<g id=\"edge77\" class=\"edge\">\n<title>38&#45;&gt;77</title>\n<path fill=\"none\" stroke=\"black\" d=\"M1990.47,-86.8C1983.28,-74.82 1973.56,-58.62 1965.42,-45.06\"/>\n<polygon fill=\"black\" stroke=\"black\" points=\"1968.24,-42.95 1960.09,-36.18 1962.24,-46.55 1968.24,-42.95\"/>\n<text text-anchor=\"middle\" x=\"1987.29\" y=\"-57.8\" font-family=\"Times,serif\" font-size=\"14.00\">No</text>\n</g>\n<!-- 78 -->\n<g id=\"node79\" class=\"node\">\n<title>78</title>\n<polygon fill=\"none\" stroke=\"red\" points=\"2093.79,-36 2009.79,-36 2009.79,0 2093.79,0 2093.79,-36\"/>\n<text text-anchor=\"middle\" x=\"2051.79\" y=\"-14.3\" font-family=\"Times,serif\" font-size=\"14.00\">val = &#45;0.014</text>\n</g>\n<!-- 38&#45;&gt;78 -->\n<g id=\"edge78\" class=\"edge\">\n<title>38&#45;&gt;78</title>\n<path fill=\"none\" stroke=\"black\" d=\"M2011.11,-86.8C2018.3,-74.82 2028.02,-58.62 2036.15,-45.06\"/>\n<polygon fill=\"black\" stroke=\"black\" points=\"2039.34,-46.55 2041.48,-36.18 2033.34,-42.95 2039.34,-46.55\"/>\n<text text-anchor=\"middle\" x=\"2040.29\" y=\"-57.8\" font-family=\"Times,serif\" font-size=\"14.00\">Yes</text>\n</g>\n<!-- 79 -->\n<g id=\"node80\" class=\"node\">\n<title>79</title>\n<polygon fill=\"none\" stroke=\"red\" points=\"2284.79,-36 2204.79,-36 2204.79,0 2284.79,0 2284.79,-36\"/>\n<text text-anchor=\"middle\" x=\"2244.79\" y=\"-14.3\" font-family=\"Times,serif\" font-size=\"14.00\">val = 0.000</text>\n</g>\n<!-- 39&#45;&gt;79 -->\n<g id=\"edge79\" class=\"edge\">\n<title>39&#45;&gt;79</title>\n<path fill=\"none\" stroke=\"black\" d=\"M2263.93,-86.8C2260.61,-75.05 2256.15,-59.24 2252.37,-45.84\"/>\n<polygon fill=\"black\" stroke=\"black\" points=\"2255.72,-44.85 2249.64,-36.18 2248.99,-46.75 2255.72,-44.85\"/>\n<text text-anchor=\"middle\" x=\"2267.29\" y=\"-57.8\" font-family=\"Times,serif\" font-size=\"14.00\">No</text>\n</g>\n<!-- 80 -->\n<g id=\"node81\" class=\"node\">\n<title>80</title>\n<polygon fill=\"none\" stroke=\"red\" points=\"2382.79,-36 2302.79,-36 2302.79,0 2382.79,0 2382.79,-36\"/>\n<text text-anchor=\"middle\" x=\"2342.79\" y=\"-14.3\" font-family=\"Times,serif\" font-size=\"14.00\">val = 0.000</text>\n</g>\n<!-- 39&#45;&gt;80 -->\n<g id=\"edge80\" class=\"edge\">\n<title>39&#45;&gt;80</title>\n<path fill=\"none\" stroke=\"black\" d=\"M2283.76,-86.8C2294.5,-74.47 2309.12,-57.68 2321.12,-43.89\"/>\n<polygon fill=\"black\" stroke=\"black\" points=\"2323.91,-46.02 2327.84,-36.18 2318.63,-41.42 2323.91,-46.02\"/>\n<text text-anchor=\"middle\" x=\"2321.29\" y=\"-57.8\" font-family=\"Times,serif\" font-size=\"14.00\">Yes</text>\n</g>\n<!-- 81 -->\n<g id=\"node82\" class=\"node\">\n<title>81</title>\n<polygon fill=\"none\" stroke=\"red\" points=\"2499.79,-36 2419.79,-36 2419.79,0 2499.79,0 2499.79,-36\"/>\n<text text-anchor=\"middle\" x=\"2459.79\" y=\"-14.3\" font-family=\"Times,serif\" font-size=\"14.00\">val = 0.000</text>\n</g>\n<!-- 40&#45;&gt;81 -->\n<g id=\"edge81\" class=\"edge\">\n<title>40&#45;&gt;81</title>\n<path fill=\"none\" stroke=\"black\" d=\"M2521.21,-86.8C2510.04,-74.47 2494.83,-57.68 2482.34,-43.89\"/>\n<polygon fill=\"black\" stroke=\"black\" points=\"2484.66,-41.24 2475.35,-36.18 2479.47,-45.94 2484.66,-41.24\"/>\n<text text-anchor=\"middle\" x=\"2512.29\" y=\"-57.8\" font-family=\"Times,serif\" font-size=\"14.00\">No</text>\n</g>\n<!-- 82 -->\n<g id=\"node83\" class=\"node\">\n<title>82</title>\n<polygon fill=\"none\" stroke=\"red\" points=\"2601.79,-36 2517.79,-36 2517.79,0 2601.79,0 2601.79,-36\"/>\n<text text-anchor=\"middle\" x=\"2559.79\" y=\"-14.3\" font-family=\"Times,serif\" font-size=\"14.00\">val = &#45;0.012</text>\n</g>\n<!-- 40&#45;&gt;82 -->\n<g id=\"edge82\" class=\"edge\">\n<title>40&#45;&gt;82</title>\n<path fill=\"none\" stroke=\"black\" d=\"M2541.44,-86.8C2544.62,-75.05 2548.9,-59.24 2552.53,-45.84\"/>\n<polygon fill=\"black\" stroke=\"black\" points=\"2555.91,-46.74 2555.14,-36.18 2549.15,-44.91 2555.91,-46.74\"/>\n<text text-anchor=\"middle\" x=\"2560.29\" y=\"-57.8\" font-family=\"Times,serif\" font-size=\"14.00\">Yes</text>\n</g>\n<!-- 83 -->\n<g id=\"node84\" class=\"node\">\n<title>83</title>\n<polygon fill=\"none\" stroke=\"red\" points=\"2781.79,-36 2701.79,-36 2701.79,0 2781.79,0 2781.79,-36\"/>\n<text text-anchor=\"middle\" x=\"2741.79\" y=\"-14.3\" font-family=\"Times,serif\" font-size=\"14.00\">val = 0.000</text>\n</g>\n<!-- 41&#45;&gt;83 -->\n<g id=\"edge83\" class=\"edge\">\n<title>41&#45;&gt;83</title>\n<path fill=\"none\" stroke=\"black\" d=\"M2792.04,-86.8C2782.99,-74.59 2770.69,-57.99 2760.52,-44.28\"/>\n<polygon fill=\"black\" stroke=\"black\" points=\"2763.29,-42.13 2754.52,-36.18 2757.66,-46.29 2763.29,-42.13\"/>\n<text text-anchor=\"middle\" x=\"2786.29\" y=\"-57.8\" font-family=\"Times,serif\" font-size=\"14.00\">No</text>\n</g>\n<!-- 84 -->\n<g id=\"node85\" class=\"node\">\n<title>84</title>\n<polygon fill=\"none\" stroke=\"red\" points=\"2879.79,-36 2799.79,-36 2799.79,0 2879.79,0 2879.79,-36\"/>\n<text text-anchor=\"middle\" x=\"2839.79\" y=\"-14.3\" font-family=\"Times,serif\" font-size=\"14.00\">val = 0.000</text>\n</g>\n<!-- 41&#45;&gt;84 -->\n<g id=\"edge84\" class=\"edge\">\n<title>41&#45;&gt;84</title>\n<path fill=\"none\" stroke=\"black\" d=\"M2811.87,-86.8C2816.76,-74.93 2823.35,-58.93 2828.9,-45.45\"/>\n<polygon fill=\"black\" stroke=\"black\" points=\"2832.15,-46.75 2832.72,-36.18 2825.67,-44.09 2832.15,-46.75\"/>\n<text text-anchor=\"middle\" x=\"2835.29\" y=\"-57.8\" font-family=\"Times,serif\" font-size=\"14.00\">Yes</text>\n</g>\n<!-- 85 -->\n<g id=\"node86\" class=\"node\">\n<title>85</title>\n<polygon fill=\"none\" stroke=\"red\" points=\"3062.79,-36 2982.79,-36 2982.79,0 3062.79,0 3062.79,-36\"/>\n<text text-anchor=\"middle\" x=\"3022.79\" y=\"-14.3\" font-family=\"Times,serif\" font-size=\"14.00\">val = 0.000</text>\n</g>\n<!-- 42&#45;&gt;85 -->\n<g id=\"edge85\" class=\"edge\">\n<title>42&#45;&gt;85</title>\n<path fill=\"none\" stroke=\"black\" d=\"M3062.67,-86.8C3055.62,-74.82 3046.09,-58.62 3038.12,-45.06\"/>\n<polygon fill=\"black\" stroke=\"black\" points=\"3040.98,-43.02 3032.89,-36.18 3034.95,-46.57 3040.98,-43.02\"/>\n<text text-anchor=\"middle\" x=\"3059.29\" y=\"-57.8\" font-family=\"Times,serif\" font-size=\"14.00\">No</text>\n</g>\n<!-- 86 -->\n<g id=\"node87\" class=\"node\">\n<title>86</title>\n<polygon fill=\"none\" stroke=\"red\" points=\"3164.79,-36 3080.79,-36 3080.79,0 3164.79,0 3164.79,-36\"/>\n<text text-anchor=\"middle\" x=\"3122.79\" y=\"-14.3\" font-family=\"Times,serif\" font-size=\"14.00\">val = &#45;0.058</text>\n</g>\n<!-- 42&#45;&gt;86 -->\n<g id=\"edge86\" class=\"edge\">\n<title>42&#45;&gt;86</title>\n<path fill=\"none\" stroke=\"black\" d=\"M3082.91,-86.8C3089.96,-74.82 3099.48,-58.62 3107.46,-45.06\"/>\n<polygon fill=\"black\" stroke=\"black\" points=\"3110.63,-46.57 3112.69,-36.18 3104.6,-43.02 3110.63,-46.57\"/>\n<text text-anchor=\"middle\" x=\"3111.29\" y=\"-57.8\" font-family=\"Times,serif\" font-size=\"14.00\">Yes</text>\n</g>\n<!-- 87 -->\n<g id=\"node88\" class=\"node\">\n<title>87</title>\n<polygon fill=\"none\" stroke=\"red\" points=\"3348.79,-36 3268.79,-36 3268.79,0 3348.79,0 3348.79,-36\"/>\n<text text-anchor=\"middle\" x=\"3308.79\" y=\"-14.3\" font-family=\"Times,serif\" font-size=\"14.00\">val = 0.000</text>\n</g>\n<!-- 43&#45;&gt;87 -->\n<g id=\"edge87\" class=\"edge\">\n<title>43&#45;&gt;87</title>\n<path fill=\"none\" stroke=\"black\" d=\"M3334.31,-86.8C3329.89,-75.05 3323.94,-59.24 3318.89,-45.84\"/>\n<polygon fill=\"black\" stroke=\"black\" points=\"3322.05,-44.3 3315.25,-36.18 3315.5,-46.77 3322.05,-44.3\"/>\n<text text-anchor=\"middle\" x=\"3335.29\" y=\"-57.8\" font-family=\"Times,serif\" font-size=\"14.00\">No</text>\n</g>\n<!-- 88 -->\n<g id=\"node89\" class=\"node\">\n<title>88</title>\n<polygon fill=\"none\" stroke=\"red\" points=\"3446.79,-36 3366.79,-36 3366.79,0 3446.79,0 3446.79,-36\"/>\n<text text-anchor=\"middle\" x=\"3406.79\" y=\"-14.3\" font-family=\"Times,serif\" font-size=\"14.00\">val = 0.000</text>\n</g>\n<!-- 43&#45;&gt;88 -->\n<g id=\"edge88\" class=\"edge\">\n<title>43&#45;&gt;88</title>\n<path fill=\"none\" stroke=\"black\" d=\"M3354.15,-86.8C3363.63,-74.59 3376.51,-57.99 3387.16,-44.28\"/>\n<polygon fill=\"black\" stroke=\"black\" points=\"3390.08,-46.22 3393.45,-36.18 3384.56,-41.93 3390.08,-46.22\"/>\n<text text-anchor=\"middle\" x=\"3388.29\" y=\"-57.8\" font-family=\"Times,serif\" font-size=\"14.00\">Yes</text>\n</g>\n<!-- 89 -->\n<g id=\"node90\" class=\"node\">\n<title>89</title>\n<polygon fill=\"none\" stroke=\"red\" points=\"3579.79,-36 3499.79,-36 3499.79,0 3579.79,0 3579.79,-36\"/>\n<text text-anchor=\"middle\" x=\"3539.79\" y=\"-14.3\" font-family=\"Times,serif\" font-size=\"14.00\">val = 0.000</text>\n</g>\n<!-- 44&#45;&gt;89 -->\n<g id=\"edge89\" class=\"edge\">\n<title>44&#45;&gt;89</title>\n<path fill=\"none\" stroke=\"black\" d=\"M3594.83,-86.8C3584.91,-74.59 3571.44,-57.99 3560.31,-44.28\"/>\n<polygon fill=\"black\" stroke=\"black\" points=\"3562.75,-41.73 3553.73,-36.18 3557.32,-46.15 3562.75,-41.73\"/>\n<text text-anchor=\"middle\" x=\"3587.29\" y=\"-57.8\" font-family=\"Times,serif\" font-size=\"14.00\">No</text>\n</g>\n<!-- 90 -->\n<g id=\"node91\" class=\"node\">\n<title>90</title>\n<polygon fill=\"none\" stroke=\"red\" points=\"3681.79,-36 3597.79,-36 3597.79,0 3681.79,0 3681.79,-36\"/>\n<text text-anchor=\"middle\" x=\"3639.79\" y=\"-14.3\" font-family=\"Times,serif\" font-size=\"14.00\">val = &#45;0.034</text>\n</g>\n<!-- 44&#45;&gt;90 -->\n<g id=\"edge90\" class=\"edge\">\n<title>44&#45;&gt;90</title>\n<path fill=\"none\" stroke=\"black\" d=\"M3615.06,-86.8C3619.35,-75.05 3625.11,-59.24 3630,-45.84\"/>\n<polygon fill=\"black\" stroke=\"black\" points=\"3633.39,-46.77 3633.52,-36.18 3626.81,-44.37 3633.39,-46.77\"/>\n<text text-anchor=\"middle\" x=\"3637.29\" y=\"-57.8\" font-family=\"Times,serif\" font-size=\"14.00\">Yes</text>\n</g>\n<!-- 91 -->\n<g id=\"node92\" class=\"node\">\n<title>91</title>\n<polygon fill=\"none\" stroke=\"red\" points=\"3866.79,-36 3786.79,-36 3786.79,0 3866.79,0 3866.79,-36\"/>\n<text text-anchor=\"middle\" x=\"3826.79\" y=\"-14.3\" font-family=\"Times,serif\" font-size=\"14.00\">val = 0.000</text>\n</g>\n<!-- 45&#45;&gt;91 -->\n<g id=\"edge91\" class=\"edge\">\n<title>45&#45;&gt;91</title>\n<path fill=\"none\" stroke=\"black\" d=\"M3866.67,-86.8C3859.62,-74.82 3850.09,-58.62 3842.12,-45.06\"/>\n<polygon fill=\"black\" stroke=\"black\" points=\"3844.98,-43.02 3836.89,-36.18 3838.95,-46.57 3844.98,-43.02\"/>\n<text text-anchor=\"middle\" x=\"3863.29\" y=\"-57.8\" font-family=\"Times,serif\" font-size=\"14.00\">No</text>\n</g>\n<!-- 92 -->\n<g id=\"node93\" class=\"node\">\n<title>92</title>\n<polygon fill=\"none\" stroke=\"red\" points=\"3968.79,-36 3884.79,-36 3884.79,0 3968.79,0 3968.79,-36\"/>\n<text text-anchor=\"middle\" x=\"3926.79\" y=\"-14.3\" font-family=\"Times,serif\" font-size=\"14.00\">val = &#45;0.023</text>\n</g>\n<!-- 45&#45;&gt;92 -->\n<g id=\"edge92\" class=\"edge\">\n<title>45&#45;&gt;92</title>\n<path fill=\"none\" stroke=\"black\" d=\"M3886.91,-86.8C3893.96,-74.82 3903.48,-58.62 3911.46,-45.06\"/>\n<polygon fill=\"black\" stroke=\"black\" points=\"3914.63,-46.57 3916.69,-36.18 3908.6,-43.02 3914.63,-46.57\"/>\n<text text-anchor=\"middle\" x=\"3915.29\" y=\"-57.8\" font-family=\"Times,serif\" font-size=\"14.00\">Yes</text>\n</g>\n<!-- 93 -->\n<g id=\"node94\" class=\"node\">\n<title>93</title>\n<polygon fill=\"none\" stroke=\"red\" points=\"4158.79,-36 4078.79,-36 4078.79,0 4158.79,0 4158.79,-36\"/>\n<text text-anchor=\"middle\" x=\"4118.79\" y=\"-14.3\" font-family=\"Times,serif\" font-size=\"14.00\">val = 0.023</text>\n</g>\n<!-- 46&#45;&gt;93 -->\n<g id=\"edge93\" class=\"edge\">\n<title>46&#45;&gt;93</title>\n<path fill=\"none\" stroke=\"black\" d=\"M4139.53,-86.8C4135.93,-75.05 4131.1,-59.24 4127,-45.84\"/>\n<polygon fill=\"black\" stroke=\"black\" points=\"4130.31,-44.71 4124.04,-36.18 4123.62,-46.76 4130.31,-44.71\"/>\n<text text-anchor=\"middle\" x=\"4142.29\" y=\"-57.8\" font-family=\"Times,serif\" font-size=\"14.00\">No</text>\n</g>\n<!-- 94 -->\n<g id=\"node95\" class=\"node\">\n<title>94</title>\n<polygon fill=\"none\" stroke=\"red\" points=\"4260.79,-36 4176.79,-36 4176.79,0 4260.79,0 4260.79,-36\"/>\n<text text-anchor=\"middle\" x=\"4218.79\" y=\"-14.3\" font-family=\"Times,serif\" font-size=\"14.00\">val = &#45;0.023</text>\n</g>\n<!-- 46&#45;&gt;94 -->\n<g id=\"edge94\" class=\"edge\">\n<title>46&#45;&gt;94</title>\n<path fill=\"none\" stroke=\"black\" d=\"M4159.76,-86.8C4170.5,-74.47 4185.12,-57.68 4197.12,-43.89\"/>\n<polygon fill=\"black\" stroke=\"black\" points=\"4199.91,-46.02 4203.84,-36.18 4194.63,-41.42 4199.91,-46.02\"/>\n<text text-anchor=\"middle\" x=\"4197.29\" y=\"-57.8\" font-family=\"Times,serif\" font-size=\"14.00\">Yes</text>\n</g>\n<!-- 95 -->\n<g id=\"node96\" class=\"node\">\n<title>95</title>\n<polygon fill=\"none\" stroke=\"red\" points=\"4378.79,-36 4294.79,-36 4294.79,0 4378.79,0 4378.79,-36\"/>\n<text text-anchor=\"middle\" x=\"4336.79\" y=\"-14.3\" font-family=\"Times,serif\" font-size=\"14.00\">val = &#45;0.023</text>\n</g>\n<!-- 47&#45;&gt;95 -->\n<g id=\"edge95\" class=\"edge\">\n<title>47&#45;&gt;95</title>\n<path fill=\"none\" stroke=\"black\" d=\"M4397.41,-86.8C4386.39,-74.47 4371.37,-57.68 4359.04,-43.89\"/>\n<polygon fill=\"black\" stroke=\"black\" points=\"4361.42,-41.3 4352.15,-36.18 4356.2,-45.96 4361.42,-41.3\"/>\n<text text-anchor=\"middle\" x=\"4388.29\" y=\"-57.8\" font-family=\"Times,serif\" font-size=\"14.00\">No</text>\n</g>\n<!-- 96 -->\n<g id=\"node97\" class=\"node\">\n<title>96</title>\n<polygon fill=\"none\" stroke=\"red\" points=\"4480.79,-36 4396.79,-36 4396.79,0 4480.79,0 4480.79,-36\"/>\n<text text-anchor=\"middle\" x=\"4438.79\" y=\"-14.3\" font-family=\"Times,serif\" font-size=\"14.00\">val = &#45;0.026</text>\n</g>\n<!-- 47&#45;&gt;96 -->\n<g id=\"edge96\" class=\"edge\">\n<title>47&#45;&gt;96</title>\n<path fill=\"none\" stroke=\"black\" d=\"M4418.05,-86.8C4421.65,-75.05 4426.48,-59.24 4430.58,-45.84\"/>\n<polygon fill=\"black\" stroke=\"black\" points=\"4433.96,-46.76 4433.54,-36.18 4427.26,-44.71 4433.96,-46.76\"/>\n<text text-anchor=\"middle\" x=\"4438.29\" y=\"-57.8\" font-family=\"Times,serif\" font-size=\"14.00\">Yes</text>\n</g>\n<!-- 97 -->\n<g id=\"node98\" class=\"node\">\n<title>97</title>\n<polygon fill=\"none\" stroke=\"red\" points=\"4686.79,-36 4602.79,-36 4602.79,0 4686.79,0 4686.79,-36\"/>\n<text text-anchor=\"middle\" x=\"4644.79\" y=\"-14.3\" font-family=\"Times,serif\" font-size=\"14.00\">val = &#45;0.006</text>\n</g>\n<!-- 48&#45;&gt;97 -->\n<g id=\"edge97\" class=\"edge\">\n<title>48&#45;&gt;97</title>\n<path fill=\"none\" stroke=\"black\" d=\"M4673.5,-86.8C4668.48,-74.93 4661.7,-58.93 4655.99,-45.45\"/>\n<polygon fill=\"black\" stroke=\"black\" points=\"4659.19,-44.02 4652.06,-36.18 4652.74,-46.75 4659.19,-44.02\"/>\n<text text-anchor=\"middle\" x=\"4674.29\" y=\"-57.8\" font-family=\"Times,serif\" font-size=\"14.00\">No</text>\n</g>\n<!-- 98 -->\n<g id=\"node99\" class=\"node\">\n<title>98</title>\n<polygon fill=\"none\" stroke=\"red\" points=\"4788.79,-36 4704.79,-36 4704.79,0 4788.79,0 4788.79,-36\"/>\n<text text-anchor=\"middle\" x=\"4746.79\" y=\"-14.3\" font-family=\"Times,serif\" font-size=\"14.00\">val = &#45;0.035</text>\n</g>\n<!-- 48&#45;&gt;98 -->\n<g id=\"edge98\" class=\"edge\">\n<title>48&#45;&gt;98</title>\n<path fill=\"none\" stroke=\"black\" d=\"M4694.15,-86.8C4703.63,-74.59 4716.51,-57.99 4727.16,-44.28\"/>\n<polygon fill=\"black\" stroke=\"black\" points=\"4730.08,-46.22 4733.45,-36.18 4724.56,-41.93 4730.08,-46.22\"/>\n<text text-anchor=\"middle\" x=\"4728.29\" y=\"-57.8\" font-family=\"Times,serif\" font-size=\"14.00\">Yes</text>\n</g>\n<!-- 99 -->\n<g id=\"node100\" class=\"node\">\n<title>99</title>\n<polygon fill=\"none\" stroke=\"red\" points=\"4920.79,-36 4840.79,-36 4840.79,0 4920.79,0 4920.79,-36\"/>\n<text text-anchor=\"middle\" x=\"4880.79\" y=\"-14.3\" font-family=\"Times,serif\" font-size=\"14.00\">val = 0.012</text>\n</g>\n<!-- 49&#45;&gt;99 -->\n<g id=\"edge99\" class=\"edge\">\n<title>49&#45;&gt;99</title>\n<path fill=\"none\" stroke=\"black\" d=\"M4935.03,-86.8C4925.26,-74.59 4911.98,-57.99 4901.01,-44.28\"/>\n<polygon fill=\"black\" stroke=\"black\" points=\"4903.51,-41.8 4894.53,-36.18 4898.04,-46.17 4903.51,-41.8\"/>\n<text text-anchor=\"middle\" x=\"4928.29\" y=\"-57.8\" font-family=\"Times,serif\" font-size=\"14.00\">No</text>\n</g>\n<!-- 100 -->\n<g id=\"node101\" class=\"node\">\n<title>100</title>\n<polygon fill=\"none\" stroke=\"red\" points=\"5022.79,-36 4938.79,-36 4938.79,0 5022.79,0 5022.79,-36\"/>\n<text text-anchor=\"middle\" x=\"4980.79\" y=\"-14.3\" font-family=\"Times,serif\" font-size=\"14.00\">val = &#45;0.050</text>\n</g>\n<!-- 49&#45;&gt;100 -->\n<g id=\"edge100\" class=\"edge\">\n<title>49&#45;&gt;100</title>\n<path fill=\"none\" stroke=\"black\" d=\"M4955.26,-86.8C4959.69,-75.05 4965.64,-59.24 4970.68,-45.84\"/>\n<polygon fill=\"black\" stroke=\"black\" points=\"4974.08,-46.77 4974.32,-36.18 4967.52,-44.3 4974.08,-46.77\"/>\n<text text-anchor=\"middle\" x=\"4977.29\" y=\"-57.8\" font-family=\"Times,serif\" font-size=\"14.00\">Yes</text>\n</g>\n<!-- 101 -->\n<g id=\"node102\" class=\"node\">\n<title>101</title>\n<polygon fill=\"none\" stroke=\"red\" points=\"5191.79,-36 5107.79,-36 5107.79,0 5191.79,0 5191.79,-36\"/>\n<text text-anchor=\"middle\" x=\"5149.79\" y=\"-14.3\" font-family=\"Times,serif\" font-size=\"14.00\">val = &#45;0.052</text>\n</g>\n<!-- 50&#45;&gt;101 -->\n<g id=\"edge101\" class=\"edge\">\n<title>50&#45;&gt;101</title>\n<path fill=\"none\" stroke=\"black\" d=\"M5203.23,-86.8C5193.6,-74.59 5180.52,-57.99 5169.71,-44.28\"/>\n<polygon fill=\"black\" stroke=\"black\" points=\"5172.27,-41.86 5163.33,-36.18 5166.77,-46.2 5172.27,-41.86\"/>\n<text text-anchor=\"middle\" x=\"5196.29\" y=\"-57.8\" font-family=\"Times,serif\" font-size=\"14.00\">No</text>\n</g>\n<!-- 102 -->\n<g id=\"node103\" class=\"node\">\n<title>102</title>\n<polygon fill=\"none\" stroke=\"red\" points=\"5293.79,-36 5209.79,-36 5209.79,0 5293.79,0 5293.79,-36\"/>\n<text text-anchor=\"middle\" x=\"5251.79\" y=\"-14.3\" font-family=\"Times,serif\" font-size=\"14.00\">val = &#45;0.066</text>\n</g>\n<!-- 50&#45;&gt;102 -->\n<g id=\"edge102\" class=\"edge\">\n<title>50&#45;&gt;102</title>\n<path fill=\"none\" stroke=\"black\" d=\"M5223.87,-86.8C5228.76,-74.93 5235.35,-58.93 5240.9,-45.45\"/>\n<polygon fill=\"black\" stroke=\"black\" points=\"5244.15,-46.75 5244.72,-36.18 5237.67,-44.09 5244.15,-46.75\"/>\n<text text-anchor=\"middle\" x=\"5247.29\" y=\"-57.8\" font-family=\"Times,serif\" font-size=\"14.00\">Yes</text>\n</g>\n<!-- 103 -->\n<g id=\"node104\" class=\"node\">\n<title>103</title>\n<polygon fill=\"none\" stroke=\"red\" points=\"5461.79,-36 5381.79,-36 5381.79,0 5461.79,0 5461.79,-36\"/>\n<text text-anchor=\"middle\" x=\"5421.79\" y=\"-14.3\" font-family=\"Times,serif\" font-size=\"14.00\">val = 0.034</text>\n</g>\n<!-- 51&#45;&gt;103 -->\n<g id=\"edge103\" class=\"edge\">\n<title>51&#45;&gt;103</title>\n<path fill=\"none\" stroke=\"black\" d=\"M5472.04,-86.8C5462.99,-74.59 5450.69,-57.99 5440.52,-44.28\"/>\n<polygon fill=\"black\" stroke=\"black\" points=\"5443.29,-42.13 5434.52,-36.18 5437.66,-46.29 5443.29,-42.13\"/>\n<text text-anchor=\"middle\" x=\"5466.29\" y=\"-57.8\" font-family=\"Times,serif\" font-size=\"14.00\">No</text>\n</g>\n<!-- 104 -->\n<g id=\"node105\" class=\"node\">\n<title>104</title>\n<polygon fill=\"none\" stroke=\"red\" points=\"5559.79,-36 5479.79,-36 5479.79,0 5559.79,0 5559.79,-36\"/>\n<text text-anchor=\"middle\" x=\"5519.79\" y=\"-14.3\" font-family=\"Times,serif\" font-size=\"14.00\">val = 0.023</text>\n</g>\n<!-- 51&#45;&gt;104 -->\n<g id=\"edge104\" class=\"edge\">\n<title>51&#45;&gt;104</title>\n<path fill=\"none\" stroke=\"black\" d=\"M5491.87,-86.8C5496.76,-74.93 5503.35,-58.93 5508.9,-45.45\"/>\n<polygon fill=\"black\" stroke=\"black\" points=\"5512.15,-46.75 5512.72,-36.18 5505.67,-44.09 5512.15,-46.75\"/>\n<text text-anchor=\"middle\" x=\"5515.29\" y=\"-57.8\" font-family=\"Times,serif\" font-size=\"14.00\">Yes</text>\n</g>\n<!-- 105 -->\n<g id=\"node106\" class=\"node\">\n<title>105</title>\n<polygon fill=\"none\" stroke=\"red\" points=\"5727.79,-36 5647.79,-36 5647.79,0 5727.79,0 5727.79,-36\"/>\n<text text-anchor=\"middle\" x=\"5687.79\" y=\"-14.3\" font-family=\"Times,serif\" font-size=\"14.00\">val = 0.034</text>\n</g>\n<!-- 52&#45;&gt;105 -->\n<g id=\"edge105\" class=\"edge\">\n<title>52&#45;&gt;105</title>\n<path fill=\"none\" stroke=\"black\" d=\"M5739.64,-86.8C5730.3,-74.59 5717.61,-57.99 5707.12,-44.28\"/>\n<polygon fill=\"black\" stroke=\"black\" points=\"5709.78,-41.99 5700.92,-36.18 5704.22,-46.25 5709.78,-41.99\"/>\n<text text-anchor=\"middle\" x=\"5733.29\" y=\"-57.8\" font-family=\"Times,serif\" font-size=\"14.00\">No</text>\n</g>\n<!-- 106 -->\n<g id=\"node107\" class=\"node\">\n<title>106</title>\n<polygon fill=\"none\" stroke=\"red\" points=\"5829.79,-36 5745.79,-36 5745.79,0 5829.79,0 5829.79,-36\"/>\n<text text-anchor=\"middle\" x=\"5787.79\" y=\"-14.3\" font-family=\"Times,serif\" font-size=\"14.00\">val = &#45;0.011</text>\n</g>\n<!-- 52&#45;&gt;106 -->\n<g id=\"edge106\" class=\"edge\">\n<title>52&#45;&gt;106</title>\n<path fill=\"none\" stroke=\"black\" d=\"M5759.87,-86.8C5764.76,-74.93 5771.35,-58.93 5776.9,-45.45\"/>\n<polygon fill=\"black\" stroke=\"black\" points=\"5780.15,-46.75 5780.72,-36.18 5773.67,-44.09 5780.15,-46.75\"/>\n<text text-anchor=\"middle\" x=\"5783.29\" y=\"-57.8\" font-family=\"Times,serif\" font-size=\"14.00\">Yes</text>\n</g>\n<!-- 107 -->\n<g id=\"node108\" class=\"node\">\n<title>107</title>\n<polygon fill=\"none\" stroke=\"red\" points=\"6011.79,-36 5931.79,-36 5931.79,0 6011.79,0 6011.79,-36\"/>\n<text text-anchor=\"middle\" x=\"5971.79\" y=\"-14.3\" font-family=\"Times,serif\" font-size=\"14.00\">val = 0.000</text>\n</g>\n<!-- 53&#45;&gt;107 -->\n<g id=\"edge107\" class=\"edge\">\n<title>53&#45;&gt;107</title>\n<path fill=\"none\" stroke=\"black\" d=\"M6010.87,-86.8C6003.97,-74.82 5994.63,-58.62 5986.81,-45.06\"/>\n<polygon fill=\"black\" stroke=\"black\" points=\"5989.72,-43.09 5981.69,-36.18 5983.65,-46.59 5989.72,-43.09\"/>\n<text text-anchor=\"middle\" x=\"6008.29\" y=\"-57.8\" font-family=\"Times,serif\" font-size=\"14.00\">No</text>\n</g>\n<!-- 108 -->\n<g id=\"node109\" class=\"node\">\n<title>108</title>\n<polygon fill=\"none\" stroke=\"red\" points=\"6109.79,-36 6029.79,-36 6029.79,0 6109.79,0 6109.79,-36\"/>\n<text text-anchor=\"middle\" x=\"6069.79\" y=\"-14.3\" font-family=\"Times,serif\" font-size=\"14.00\">val = 0.009</text>\n</g>\n<!-- 53&#45;&gt;108 -->\n<g id=\"edge108\" class=\"edge\">\n<title>53&#45;&gt;108</title>\n<path fill=\"none\" stroke=\"black\" d=\"M6030.7,-86.8C6037.61,-74.82 6046.95,-58.62 6054.77,-45.06\"/>\n<polygon fill=\"black\" stroke=\"black\" points=\"6057.93,-46.59 6059.89,-36.18 6051.86,-43.09 6057.93,-46.59\"/>\n<text text-anchor=\"middle\" x=\"6059.29\" y=\"-57.8\" font-family=\"Times,serif\" font-size=\"14.00\">Yes</text>\n</g>\n<!-- 109 -->\n<g id=\"node110\" class=\"node\">\n<title>109</title>\n<polygon fill=\"none\" stroke=\"red\" points=\"6279.79,-36 6195.79,-36 6195.79,0 6279.79,0 6279.79,-36\"/>\n<text text-anchor=\"middle\" x=\"6237.79\" y=\"-14.3\" font-family=\"Times,serif\" font-size=\"14.00\">val = &#45;0.020</text>\n</g>\n<!-- 54&#45;&gt;109 -->\n<g id=\"edge109\" class=\"edge\">\n<title>54&#45;&gt;109</title>\n<path fill=\"none\" stroke=\"black\" d=\"M6278.47,-86.8C6271.28,-74.82 6261.56,-58.62 6253.42,-45.06\"/>\n<polygon fill=\"black\" stroke=\"black\" points=\"6256.24,-42.95 6248.09,-36.18 6250.24,-46.55 6256.24,-42.95\"/>\n<text text-anchor=\"middle\" x=\"6275.29\" y=\"-57.8\" font-family=\"Times,serif\" font-size=\"14.00\">No</text>\n</g>\n<!-- 110 -->\n<g id=\"node111\" class=\"node\">\n<title>110</title>\n<polygon fill=\"none\" stroke=\"red\" points=\"6381.79,-36 6297.79,-36 6297.79,0 6381.79,0 6381.79,-36\"/>\n<text text-anchor=\"middle\" x=\"6339.79\" y=\"-14.3\" font-family=\"Times,serif\" font-size=\"14.00\">val = &#45;0.033</text>\n</g>\n<!-- 54&#45;&gt;110 -->\n<g id=\"edge110\" class=\"edge\">\n<title>54&#45;&gt;110</title>\n<path fill=\"none\" stroke=\"black\" d=\"M6299.11,-86.8C6306.3,-74.82 6316.02,-58.62 6324.15,-45.06\"/>\n<polygon fill=\"black\" stroke=\"black\" points=\"6327.34,-46.55 6329.48,-36.18 6321.34,-42.95 6327.34,-46.55\"/>\n<text text-anchor=\"middle\" x=\"6328.29\" y=\"-57.8\" font-family=\"Times,serif\" font-size=\"14.00\">Yes</text>\n</g>\n<!-- 111 -->\n<g id=\"node112\" class=\"node\">\n<title>111</title>\n<polygon fill=\"none\" stroke=\"red\" points=\"6570.79,-36 6490.79,-36 6490.79,0 6570.79,0 6570.79,-36\"/>\n<text text-anchor=\"middle\" x=\"6530.79\" y=\"-14.3\" font-family=\"Times,serif\" font-size=\"14.00\">val = 0.000</text>\n</g>\n<!-- 55&#45;&gt;111 -->\n<g id=\"edge111\" class=\"edge\">\n<title>55&#45;&gt;111</title>\n<path fill=\"none\" stroke=\"black\" d=\"M6551.53,-86.8C6547.93,-75.05 6543.1,-59.24 6539,-45.84\"/>\n<polygon fill=\"black\" stroke=\"black\" points=\"6542.31,-44.71 6536.04,-36.18 6535.62,-46.76 6542.31,-44.71\"/>\n<text text-anchor=\"middle\" x=\"6554.29\" y=\"-57.8\" font-family=\"Times,serif\" font-size=\"14.00\">No</text>\n</g>\n<!-- 112 -->\n<g id=\"node113\" class=\"node\">\n<title>112</title>\n<polygon fill=\"none\" stroke=\"red\" points=\"6672.79,-36 6588.79,-36 6588.79,0 6672.79,0 6672.79,-36\"/>\n<text text-anchor=\"middle\" x=\"6630.79\" y=\"-14.3\" font-family=\"Times,serif\" font-size=\"14.00\">val = &#45;0.025</text>\n</g>\n<!-- 55&#45;&gt;112 -->\n<g id=\"edge112\" class=\"edge\">\n<title>55&#45;&gt;112</title>\n<path fill=\"none\" stroke=\"black\" d=\"M6571.76,-86.8C6582.5,-74.47 6597.12,-57.68 6609.12,-43.89\"/>\n<polygon fill=\"black\" stroke=\"black\" points=\"6611.91,-46.02 6615.84,-36.18 6606.63,-41.42 6611.91,-46.02\"/>\n<text text-anchor=\"middle\" x=\"6609.29\" y=\"-57.8\" font-family=\"Times,serif\" font-size=\"14.00\">Yes</text>\n</g>\n<!-- 113 -->\n<g id=\"node114\" class=\"node\">\n<title>113</title>\n<polygon fill=\"none\" stroke=\"red\" points=\"6789.79,-36 6705.79,-36 6705.79,0 6789.79,0 6789.79,-36\"/>\n<text text-anchor=\"middle\" x=\"6747.79\" y=\"-14.3\" font-family=\"Times,serif\" font-size=\"14.00\">val = &#45;0.034</text>\n</g>\n<!-- 56&#45;&gt;113 -->\n<g id=\"edge113\" class=\"edge\">\n<title>56&#45;&gt;113</title>\n<path fill=\"none\" stroke=\"black\" d=\"M6809.21,-86.8C6798.04,-74.47 6782.83,-57.68 6770.34,-43.89\"/>\n<polygon fill=\"black\" stroke=\"black\" points=\"6772.66,-41.24 6763.35,-36.18 6767.47,-45.94 6772.66,-41.24\"/>\n<text text-anchor=\"middle\" x=\"6800.29\" y=\"-57.8\" font-family=\"Times,serif\" font-size=\"14.00\">No</text>\n</g>\n<!-- 114 -->\n<g id=\"node115\" class=\"node\">\n<title>114</title>\n<polygon fill=\"none\" stroke=\"red\" points=\"6891.79,-36 6807.79,-36 6807.79,0 6891.79,0 6891.79,-36\"/>\n<text text-anchor=\"middle\" x=\"6849.79\" y=\"-14.3\" font-family=\"Times,serif\" font-size=\"14.00\">val = &#45;0.039</text>\n</g>\n<!-- 56&#45;&gt;114 -->\n<g id=\"edge114\" class=\"edge\">\n<title>56&#45;&gt;114</title>\n<path fill=\"none\" stroke=\"black\" d=\"M6829.85,-86.8C6833.3,-75.05 6837.95,-59.24 6841.89,-45.84\"/>\n<polygon fill=\"black\" stroke=\"black\" points=\"6845.27,-46.76 6844.74,-36.18 6838.56,-44.78 6845.27,-46.76\"/>\n<text text-anchor=\"middle\" x=\"6849.29\" y=\"-57.8\" font-family=\"Times,serif\" font-size=\"14.00\">Yes</text>\n</g>\n<!-- 115 -->\n<g id=\"node116\" class=\"node\">\n<title>115</title>\n<polygon fill=\"none\" stroke=\"red\" points=\"7064.79,-36 6984.79,-36 6984.79,0 7064.79,0 7064.79,-36\"/>\n<text text-anchor=\"middle\" x=\"7024.79\" y=\"-14.3\" font-family=\"Times,serif\" font-size=\"14.00\">val = 0.000</text>\n</g>\n<!-- 57&#45;&gt;115 -->\n<g id=\"edge115\" class=\"edge\">\n<title>57&#45;&gt;115</title>\n<path fill=\"none\" stroke=\"black\" d=\"M7079.03,-86.8C7069.26,-74.59 7055.98,-57.99 7045.01,-44.28\"/>\n<polygon fill=\"black\" stroke=\"black\" points=\"7047.51,-41.8 7038.53,-36.18 7042.04,-46.17 7047.51,-41.8\"/>\n<text text-anchor=\"middle\" x=\"7072.29\" y=\"-57.8\" font-family=\"Times,serif\" font-size=\"14.00\">No</text>\n</g>\n<!-- 116 -->\n<g id=\"node117\" class=\"node\">\n<title>116</title>\n<polygon fill=\"none\" stroke=\"red\" points=\"7166.79,-36 7082.79,-36 7082.79,0 7166.79,0 7166.79,-36\"/>\n<text text-anchor=\"middle\" x=\"7124.79\" y=\"-14.3\" font-family=\"Times,serif\" font-size=\"14.00\">val = &#45;0.065</text>\n</g>\n<!-- 57&#45;&gt;116 -->\n<g id=\"edge116\" class=\"edge\">\n<title>57&#45;&gt;116</title>\n<path fill=\"none\" stroke=\"black\" d=\"M7099.26,-86.8C7103.69,-75.05 7109.64,-59.24 7114.68,-45.84\"/>\n<polygon fill=\"black\" stroke=\"black\" points=\"7118.08,-46.77 7118.32,-36.18 7111.52,-44.3 7118.08,-46.77\"/>\n<text text-anchor=\"middle\" x=\"7121.29\" y=\"-57.8\" font-family=\"Times,serif\" font-size=\"14.00\">Yes</text>\n</g>\n<!-- 117 -->\n<g id=\"node118\" class=\"node\">\n<title>117</title>\n<polygon fill=\"none\" stroke=\"red\" points=\"7332.79,-36 7248.79,-36 7248.79,0 7332.79,0 7332.79,-36\"/>\n<text text-anchor=\"middle\" x=\"7290.79\" y=\"-14.3\" font-family=\"Times,serif\" font-size=\"14.00\">val = &#45;0.034</text>\n</g>\n<!-- 58&#45;&gt;117 -->\n<g id=\"edge117\" class=\"edge\">\n<title>58&#45;&gt;117</title>\n<path fill=\"none\" stroke=\"black\" d=\"M7346.62,-86.8C7336.57,-74.59 7322.9,-57.99 7311.61,-44.28\"/>\n<polygon fill=\"black\" stroke=\"black\" points=\"7313.99,-41.67 7304.93,-36.18 7308.59,-46.12 7313.99,-41.67\"/>\n<text text-anchor=\"middle\" x=\"7339.29\" y=\"-57.8\" font-family=\"Times,serif\" font-size=\"14.00\">No</text>\n</g>\n<!-- 118 -->\n<g id=\"node119\" class=\"node\">\n<title>118</title>\n<polygon fill=\"none\" stroke=\"red\" points=\"7434.79,-36 7350.79,-36 7350.79,0 7434.79,0 7434.79,-36\"/>\n<text text-anchor=\"middle\" x=\"7392.79\" y=\"-14.3\" font-family=\"Times,serif\" font-size=\"14.00\">val = &#45;0.054</text>\n</g>\n<!-- 58&#45;&gt;118 -->\n<g id=\"edge118\" class=\"edge\">\n<title>58&#45;&gt;118</title>\n<path fill=\"none\" stroke=\"black\" d=\"M7367.26,-86.8C7371.69,-75.05 7377.64,-59.24 7382.68,-45.84\"/>\n<polygon fill=\"black\" stroke=\"black\" points=\"7386.08,-46.77 7386.32,-36.18 7379.52,-44.3 7386.08,-46.77\"/>\n<text text-anchor=\"middle\" x=\"7389.29\" y=\"-57.8\" font-family=\"Times,serif\" font-size=\"14.00\">Yes</text>\n</g>\n<!-- 119 -->\n<g id=\"node120\" class=\"node\">\n<title>119</title>\n<polygon fill=\"none\" stroke=\"red\" points=\"7602.79,-36 7518.79,-36 7518.79,0 7602.79,0 7602.79,-36\"/>\n<text text-anchor=\"middle\" x=\"7560.79\" y=\"-14.3\" font-family=\"Times,serif\" font-size=\"14.00\">val = &#45;0.023</text>\n</g>\n<!-- 59&#45;&gt;119 -->\n<g id=\"edge119\" class=\"edge\">\n<title>59&#45;&gt;119</title>\n<path fill=\"none\" stroke=\"black\" d=\"M7615.03,-86.8C7605.26,-74.59 7591.98,-57.99 7581.01,-44.28\"/>\n<polygon fill=\"black\" stroke=\"black\" points=\"7583.51,-41.8 7574.53,-36.18 7578.04,-46.17 7583.51,-41.8\"/>\n<text text-anchor=\"middle\" x=\"7608.29\" y=\"-57.8\" font-family=\"Times,serif\" font-size=\"14.00\">No</text>\n</g>\n<!-- 120 -->\n<g id=\"node121\" class=\"node\">\n<title>120</title>\n<polygon fill=\"none\" stroke=\"red\" points=\"7704.79,-36 7620.79,-36 7620.79,0 7704.79,0 7704.79,-36\"/>\n<text text-anchor=\"middle\" x=\"7662.79\" y=\"-14.3\" font-family=\"Times,serif\" font-size=\"14.00\">val = &#45;0.023</text>\n</g>\n<!-- 59&#45;&gt;120 -->\n<g id=\"edge120\" class=\"edge\">\n<title>59&#45;&gt;120</title>\n<path fill=\"none\" stroke=\"black\" d=\"M7635.67,-86.8C7640.37,-75.05 7646.69,-59.24 7652.05,-45.84\"/>\n<polygon fill=\"black\" stroke=\"black\" points=\"7655.45,-46.76 7655.92,-36.18 7648.96,-44.16 7655.45,-46.76\"/>\n<text text-anchor=\"middle\" x=\"7659.29\" y=\"-57.8\" font-family=\"Times,serif\" font-size=\"14.00\">Yes</text>\n</g>\n<!-- 121 -->\n<g id=\"node122\" class=\"node\">\n<title>121</title>\n<polygon fill=\"none\" stroke=\"red\" points=\"7871.79,-36 7791.79,-36 7791.79,0 7871.79,0 7871.79,-36\"/>\n<text text-anchor=\"middle\" x=\"7831.79\" y=\"-14.3\" font-family=\"Times,serif\" font-size=\"14.00\">val = 0.000</text>\n</g>\n<!-- 60&#45;&gt;121 -->\n<g id=\"edge121\" class=\"edge\">\n<title>60&#45;&gt;121</title>\n<path fill=\"none\" stroke=\"black\" d=\"M7883.64,-86.8C7874.3,-74.59 7861.61,-57.99 7851.12,-44.28\"/>\n<polygon fill=\"black\" stroke=\"black\" points=\"7853.78,-41.99 7844.92,-36.18 7848.22,-46.25 7853.78,-41.99\"/>\n<text text-anchor=\"middle\" x=\"7877.29\" y=\"-57.8\" font-family=\"Times,serif\" font-size=\"14.00\">No</text>\n</g>\n<!-- 122 -->\n<g id=\"node123\" class=\"node\">\n<title>122</title>\n<polygon fill=\"none\" stroke=\"red\" points=\"7973.79,-36 7889.79,-36 7889.79,0 7973.79,0 7973.79,-36\"/>\n<text text-anchor=\"middle\" x=\"7931.79\" y=\"-14.3\" font-family=\"Times,serif\" font-size=\"14.00\">val = &#45;0.013</text>\n</g>\n<!-- 60&#45;&gt;122 -->\n<g id=\"edge122\" class=\"edge\">\n<title>60&#45;&gt;122</title>\n<path fill=\"none\" stroke=\"black\" d=\"M7903.87,-86.8C7908.76,-74.93 7915.35,-58.93 7920.9,-45.45\"/>\n<polygon fill=\"black\" stroke=\"black\" points=\"7924.15,-46.75 7924.72,-36.18 7917.67,-44.09 7924.15,-46.75\"/>\n<text text-anchor=\"middle\" x=\"7927.29\" y=\"-57.8\" font-family=\"Times,serif\" font-size=\"14.00\">Yes</text>\n</g>\n<!-- 123 -->\n<g id=\"node124\" class=\"node\">\n<title>123</title>\n<polygon fill=\"none\" stroke=\"red\" points=\"8139.79,-36 8059.79,-36 8059.79,0 8139.79,0 8139.79,-36\"/>\n<text text-anchor=\"middle\" x=\"8099.79\" y=\"-14.3\" font-family=\"Times,serif\" font-size=\"14.00\">val = 0.000</text>\n</g>\n<!-- 61&#45;&gt;123 -->\n<g id=\"edge123\" class=\"edge\">\n<title>61&#45;&gt;123</title>\n<path fill=\"none\" stroke=\"black\" d=\"M8151.64,-86.8C8142.3,-74.59 8129.61,-57.99 8119.12,-44.28\"/>\n<polygon fill=\"black\" stroke=\"black\" points=\"8121.78,-41.99 8112.92,-36.18 8116.22,-46.25 8121.78,-41.99\"/>\n<text text-anchor=\"middle\" x=\"8145.29\" y=\"-57.8\" font-family=\"Times,serif\" font-size=\"14.00\">No</text>\n</g>\n<!-- 124 -->\n<g id=\"node125\" class=\"node\">\n<title>124</title>\n<polygon fill=\"none\" stroke=\"red\" points=\"8237.79,-36 8157.79,-36 8157.79,0 8237.79,0 8237.79,-36\"/>\n<text text-anchor=\"middle\" x=\"8197.79\" y=\"-14.3\" font-family=\"Times,serif\" font-size=\"14.00\">val = 0.042</text>\n</g>\n<!-- 61&#45;&gt;124 -->\n<g id=\"edge124\" class=\"edge\">\n<title>61&#45;&gt;124</title>\n<path fill=\"none\" stroke=\"black\" d=\"M8171.47,-86.8C8176.03,-75.05 8182.17,-59.24 8187.37,-45.84\"/>\n<polygon fill=\"black\" stroke=\"black\" points=\"8190.76,-46.76 8191.12,-36.18 8184.24,-44.23 8190.76,-46.76\"/>\n<text text-anchor=\"middle\" x=\"8194.29\" y=\"-57.8\" font-family=\"Times,serif\" font-size=\"14.00\">Yes</text>\n</g>\n<!-- 125 -->\n<g id=\"node126\" class=\"node\">\n<title>125</title>\n<polygon fill=\"none\" stroke=\"red\" points=\"8423.79,-36 8339.79,-36 8339.79,0 8423.79,0 8423.79,-36\"/>\n<text text-anchor=\"middle\" x=\"8381.79\" y=\"-14.3\" font-family=\"Times,serif\" font-size=\"14.00\">val = &#45;0.034</text>\n</g>\n<!-- 62&#45;&gt;125 -->\n<g id=\"edge125\" class=\"edge\">\n<title>62&#45;&gt;125</title>\n<path fill=\"none\" stroke=\"black\" d=\"M8422.47,-86.8C8415.28,-74.82 8405.56,-58.62 8397.42,-45.06\"/>\n<polygon fill=\"black\" stroke=\"black\" points=\"8400.24,-42.95 8392.09,-36.18 8394.24,-46.55 8400.24,-42.95\"/>\n<text text-anchor=\"middle\" x=\"8419.29\" y=\"-57.8\" font-family=\"Times,serif\" font-size=\"14.00\">No</text>\n</g>\n<!-- 126 -->\n<g id=\"node127\" class=\"node\">\n<title>126</title>\n<polygon fill=\"none\" stroke=\"red\" points=\"8525.79,-36 8441.79,-36 8441.79,0 8525.79,0 8525.79,-36\"/>\n<text text-anchor=\"middle\" x=\"8483.79\" y=\"-14.3\" font-family=\"Times,serif\" font-size=\"14.00\">val = &#45;0.054</text>\n</g>\n<!-- 62&#45;&gt;126 -->\n<g id=\"edge126\" class=\"edge\">\n<title>62&#45;&gt;126</title>\n<path fill=\"none\" stroke=\"black\" d=\"M8443.11,-86.8C8450.3,-74.82 8460.02,-58.62 8468.15,-45.06\"/>\n<polygon fill=\"black\" stroke=\"black\" points=\"8471.34,-46.55 8473.48,-36.18 8465.34,-42.95 8471.34,-46.55\"/>\n<text text-anchor=\"middle\" x=\"8471.29\" y=\"-57.8\" font-family=\"Times,serif\" font-size=\"14.00\">Yes</text>\n</g>\n</g>\n</svg>\n",
            "text/plain": [
              "<graphviz.graphs.Digraph at 0x7f58f8df69d0>"
            ]
          },
          "metadata": {},
          "execution_count": 46
        }
      ]
    },
    {
      "cell_type": "markdown",
      "source": [
        "Make the Model Predict the Un-Known  TEST Data.. "
      ],
      "metadata": {
        "id": "IkJuJ-sYMICa"
      }
    },
    {
      "cell_type": "code",
      "source": [
        "y_pred_model_08_04_a1 = model_08_04_a1.predict(X_val)\n",
        "\n",
        "model_08_04_a1.score(X_val, Y_val)\n",
        "print('Model is fitted: {}'.format(model_08_04_a1.is_fitted()))\n",
        "print('Model params:\\n{}'.format(model_08_04_a1.get_params()))\n",
        "\n",
        "y_pred_08_04_a1 = model_08_04_a1.predict(X_test)\n",
        "\n",
        "y_check_08_04_a1 = np.array(y_pred_08_04_a1).reshape(-1,1)\n",
        "\n",
        "cm2 = confusion_matrix(Y_test, y_check_08_04_a1)\n",
        "print('Confusion Matrix:\\n', cm2)\n",
        "accuracy1 = accuracy_score(Y_test, y_check_08_04_a1)\n",
        "print('Confusion Matrix:\\n', accuracy1)"
      ],
      "metadata": {
        "colab": {
          "base_uri": "https://localhost:8080/"
        },
        "id": "A_cAQumLEoOA",
        "outputId": "199e084a-a413-47b0-f67c-2400a2521b5d"
      },
      "execution_count": 47,
      "outputs": [
        {
          "output_type": "stream",
          "name": "stdout",
          "text": [
            "Model is fitted: True\n",
            "Model params:\n",
            "{'iterations': 500, 'learning_rate': 0.02}\n",
            "Confusion Matrix:\n",
            " [[189   1]\n",
            " [ 24   7]]\n",
            "Confusion Matrix:\n",
            " 0.8868778280542986\n"
          ]
        }
      ]
    },
    {
      "cell_type": "markdown",
      "source": [
        "What Parameters were Important for the Model in Arriving at the decision. i.e. some Features which the User needs to be very careful about. e.g. Overtime is a very important thing for a Person Leaving the Job ( Doesnt apply for Indian Data or Japanese Data )"
      ],
      "metadata": {
        "id": "8JLrYRz0MQSS"
      }
    },
    {
      "cell_type": "code",
      "source": [
        "np.array(model_08_04_a1.get_feature_importance(prettified=True, data=train_pool))"
      ],
      "metadata": {
        "colab": {
          "base_uri": "https://localhost:8080/"
        },
        "id": "El3ieWPdJrgR",
        "outputId": "bec4ce84-336e-4626-a3f7-a5b330563ed6"
      },
      "execution_count": 48,
      "outputs": [
        {
          "output_type": "execute_result",
          "data": {
            "text/plain": [
              "array([['overtime', 10.588417681819179],\n",
              "       ['jobrole', 6.037429112819328],\n",
              "       ['stockoptionlevel', 5.71938702668071],\n",
              "       ['age', 5.082372226652593],\n",
              "       ['numcompaniesworked', 4.550961709137991],\n",
              "       ['monthlyincome', 4.514515000066728],\n",
              "       ['maritalstatus', 4.3562172945487125],\n",
              "       ['educationfield', 4.262282234065367],\n",
              "       ['environmentsatisfaction', 4.245946558178986],\n",
              "       ['jobsatisfaction', 4.009451069915871],\n",
              "       ['department', 3.8592155053065498],\n",
              "       ['distancefromhome', 3.6301413591717395],\n",
              "       ['jobinvolvement', 3.349290150212472],\n",
              "       ['yearswithcurrmanager', 3.2692559461118686],\n",
              "       ['dailyrate', 2.728409529133617],\n",
              "       ['joblevel', 2.62883902948326],\n",
              "       ['worklifebalance', 2.5768419864266914],\n",
              "       ['monthlyrate', 2.5652885014361155],\n",
              "       ['relationshipsatisfaction', 2.5458383559106217],\n",
              "       ['employeenumber', 2.391378900805737],\n",
              "       ['businesstravel', 2.2311572331369502],\n",
              "       ['yearsincurrentrole', 1.9622920881750048],\n",
              "       ['hourlyrate', 1.9229568641421393],\n",
              "       ['yearssincelastpromotion', 1.8834099093181171],\n",
              "       ['totalworkingyears', 1.7237256687843765],\n",
              "       ['trainingtimeslastyear', 1.6716019830209046],\n",
              "       ['percentsalaryhike', 1.6697368705856601],\n",
              "       ['education', 1.5780870115439243],\n",
              "       ['yearsatcompany', 1.4395715582736286],\n",
              "       ['gender', 0.9470278752970386],\n",
              "       ['performancerating', 0.0589537598381409],\n",
              "       ['employeecount', 0.0],\n",
              "       ['standardhours', 0.0]], dtype=object)"
            ]
          },
          "metadata": {},
          "execution_count": 48
        }
      ]
    }
  ]
}